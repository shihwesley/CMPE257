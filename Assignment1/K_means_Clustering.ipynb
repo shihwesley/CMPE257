{
  "nbformat": 4,
  "nbformat_minor": 0,
  "metadata": {
    "colab": {
      "provenance": []
    },
    "kernelspec": {
      "name": "python3",
      "display_name": "Python 3"
    },
    "language_info": {
      "name": "python"
    }
  },
  "cells": [
    {
      "cell_type": "markdown",
      "source": [
        "Machine learning algorithms can be broadly classified into two categories - supervised and unsupervised learning. There are other categories also like semi-supervised learning and reinforcement learning. But, most of the algorithms are classified as supervised or unsupervised learning. The difference between them happens because of presence of target variable. In unsupervised learning, there is no target variable. The dataset only has input variables which describe the data. This is called unsupervised learning.\n",
        "\n",
        "K-Means clustering is the most popular unsupervised learning algorithm. It is used when we have unlabelled data which is data without defined categories or groups. The algorithm follows an easy or simple way to classify a given data set through a certain number of clusters, fixed apriori. K-Means algorithm works iteratively to assign each data point to one of K groups based on the features that are provided. Data points are clustered based on feature similarity."
      ],
      "metadata": {
        "id": "xZhMHynEY_QB"
      }
    },
    {
      "cell_type": "markdown",
      "source": [
        "Applications of clustering ¶\n",
        "\n",
        "K-Means clustering is the most common unsupervised machine learning algorithm. It is widely used for many applications which include-\n",
        "\n",
        "Image segmentation\n",
        "\n",
        "Customer segmentation\n",
        "\n",
        "Species clustering\n",
        "\n",
        "Anomaly detection\n",
        "\n",
        "Clustering languages"
      ],
      "metadata": {
        "id": "MJxlmmx2ZEL2"
      }
    },
    {
      "cell_type": "markdown",
      "source": [
        "Dataset is taken from \n",
        "\n",
        "https://archive.ics.uci.edu/ml/datasets/Facebook+Live+Sellers+in+Thailand"
      ],
      "metadata": {
        "id": "9A3SSNzNZePu"
      }
    },
    {
      "cell_type": "code",
      "source": [
        "from google.colab import drive\n",
        "drive.mount('/content/drive')"
      ],
      "metadata": {
        "colab": {
          "base_uri": "https://localhost:8080/"
        },
        "id": "N8wPi05RFjdo",
        "outputId": "b53c8034-9aec-41b5-b8c6-6e92df4309ca"
      },
      "execution_count": null,
      "outputs": [
        {
          "output_type": "stream",
          "name": "stdout",
          "text": [
            "Mounted at /content/drive\n"
          ]
        }
      ]
    },
    {
      "cell_type": "code",
      "execution_count": null,
      "metadata": {
        "id": "kDodBjj7wx_c"
      },
      "outputs": [],
      "source": [
        "import numpy as np # linear algebra\n",
        "import pandas as pd # data processing, CSV file I/O (e.g. pd.read_csv)\n",
        "import matplotlib.pyplot as plt # for data visualization\n",
        "import seaborn as sns # for statistical data visualization\n",
        "%matplotlib inline"
      ]
    },
    {
      "cell_type": "code",
      "source": [
        "import warnings\n",
        "warnings.filterwarnings('ignore')"
      ],
      "metadata": {
        "id": "Ysd6tYeJxVc6"
      },
      "execution_count": null,
      "outputs": []
    },
    {
      "cell_type": "code",
      "source": [
        "%cd /content/drive/MyDrive/Colab\\ Notebooks/"
      ],
      "metadata": {
        "colab": {
          "base_uri": "https://localhost:8080/"
        },
        "id": "oZ2LgovVGnPW",
        "outputId": "029262e2-6d0b-4a35-e590-d18170986a21"
      },
      "execution_count": null,
      "outputs": [
        {
          "output_type": "stream",
          "name": "stdout",
          "text": [
            "/content/drive/MyDrive/Colab Notebooks\n"
          ]
        }
      ]
    },
    {
      "cell_type": "code",
      "source": [
        "df=pd.read_csv(\"https://raw.githubusercontent.com/Chaitra-B-V/CMPE-257-MachineLearning/main/Assignments/Live.csv\", encoding = 'latin-1')\n",
        "\n",
        "\n",
        "#https://github.com/Chaitra-B-V/CMPE-257-MachineLearning/blob/main/Assignments/Live.csv"
      ],
      "metadata": {
        "id": "B2kMUQCYyuEH"
      },
      "execution_count": null,
      "outputs": []
    },
    {
      "cell_type": "code",
      "source": [
        "df.shape"
      ],
      "metadata": {
        "colab": {
          "base_uri": "https://localhost:8080/"
        },
        "id": "h_PirVcKRD8j",
        "outputId": "e503d467-1d14-481c-d4e3-1d61a860ec89"
      },
      "execution_count": null,
      "outputs": [
        {
          "output_type": "execute_result",
          "data": {
            "text/plain": [
              "(7050, 16)"
            ]
          },
          "metadata": {},
          "execution_count": 9
        }
      ]
    },
    {
      "cell_type": "markdown",
      "source": [
        "We can see that there are 7050 instances and 16 attributes in the dataset. In the dataset description, it is given that there are 7051 instances and 12 attributes in the dataset.\n",
        "\n",
        "So, we can infer that the first instance is the row header and there are 4 extra attributes in the dataset. Next, we should take a look at the dataset to gain more insight about it."
      ],
      "metadata": {
        "id": "0TfFeabLRVA1"
      }
    },
    {
      "cell_type": "code",
      "source": [
        "df.head()"
      ],
      "metadata": {
        "colab": {
          "base_uri": "https://localhost:8080/",
          "height": 270
        },
        "id": "mHmLSys2RIwW",
        "outputId": "a8da0f65-b26a-4442-f9f2-ec9131f9104e"
      },
      "execution_count": null,
      "outputs": [
        {
          "output_type": "execute_result",
          "data": {
            "text/plain": [
              "                       ï»¿status_id status_type status_published  \\\n",
              "0  246675545449582_1649696485147474       video   4/22/2018 6:00   \n",
              "1  246675545449582_1649426988507757       photo  4/21/2018 22:45   \n",
              "2  246675545449582_1648730588577397       video   4/21/2018 6:17   \n",
              "3  246675545449582_1648576705259452       photo   4/21/2018 2:29   \n",
              "4  246675545449582_1645700502213739       photo   4/18/2018 3:22   \n",
              "\n",
              "   num_reactions  num_comments  num_shares  num_likes  num_loves  num_wows  \\\n",
              "0            529           512         262        432         92         3   \n",
              "1            150             0           0        150          0         0   \n",
              "2            227           236          57        204         21         1   \n",
              "3            111             0           0        111          0         0   \n",
              "4            213             0           0        204          9         0   \n",
              "\n",
              "   num_hahas  num_sads  num_angrys  Column1  Column2  Column3  Column4  \n",
              "0          1         1           0      NaN      NaN      NaN      NaN  \n",
              "1          0         0           0      NaN      NaN      NaN      NaN  \n",
              "2          1         0           0      NaN      NaN      NaN      NaN  \n",
              "3          0         0           0      NaN      NaN      NaN      NaN  \n",
              "4          0         0           0      NaN      NaN      NaN      NaN  "
            ],
            "text/html": [
              "\n",
              "  <div id=\"df-3a2de943-b01c-4705-9e29-ccfda15988af\">\n",
              "    <div class=\"colab-df-container\">\n",
              "      <div>\n",
              "<style scoped>\n",
              "    .dataframe tbody tr th:only-of-type {\n",
              "        vertical-align: middle;\n",
              "    }\n",
              "\n",
              "    .dataframe tbody tr th {\n",
              "        vertical-align: top;\n",
              "    }\n",
              "\n",
              "    .dataframe thead th {\n",
              "        text-align: right;\n",
              "    }\n",
              "</style>\n",
              "<table border=\"1\" class=\"dataframe\">\n",
              "  <thead>\n",
              "    <tr style=\"text-align: right;\">\n",
              "      <th></th>\n",
              "      <th>ï»¿status_id</th>\n",
              "      <th>status_type</th>\n",
              "      <th>status_published</th>\n",
              "      <th>num_reactions</th>\n",
              "      <th>num_comments</th>\n",
              "      <th>num_shares</th>\n",
              "      <th>num_likes</th>\n",
              "      <th>num_loves</th>\n",
              "      <th>num_wows</th>\n",
              "      <th>num_hahas</th>\n",
              "      <th>num_sads</th>\n",
              "      <th>num_angrys</th>\n",
              "      <th>Column1</th>\n",
              "      <th>Column2</th>\n",
              "      <th>Column3</th>\n",
              "      <th>Column4</th>\n",
              "    </tr>\n",
              "  </thead>\n",
              "  <tbody>\n",
              "    <tr>\n",
              "      <th>0</th>\n",
              "      <td>246675545449582_1649696485147474</td>\n",
              "      <td>video</td>\n",
              "      <td>4/22/2018 6:00</td>\n",
              "      <td>529</td>\n",
              "      <td>512</td>\n",
              "      <td>262</td>\n",
              "      <td>432</td>\n",
              "      <td>92</td>\n",
              "      <td>3</td>\n",
              "      <td>1</td>\n",
              "      <td>1</td>\n",
              "      <td>0</td>\n",
              "      <td>NaN</td>\n",
              "      <td>NaN</td>\n",
              "      <td>NaN</td>\n",
              "      <td>NaN</td>\n",
              "    </tr>\n",
              "    <tr>\n",
              "      <th>1</th>\n",
              "      <td>246675545449582_1649426988507757</td>\n",
              "      <td>photo</td>\n",
              "      <td>4/21/2018 22:45</td>\n",
              "      <td>150</td>\n",
              "      <td>0</td>\n",
              "      <td>0</td>\n",
              "      <td>150</td>\n",
              "      <td>0</td>\n",
              "      <td>0</td>\n",
              "      <td>0</td>\n",
              "      <td>0</td>\n",
              "      <td>0</td>\n",
              "      <td>NaN</td>\n",
              "      <td>NaN</td>\n",
              "      <td>NaN</td>\n",
              "      <td>NaN</td>\n",
              "    </tr>\n",
              "    <tr>\n",
              "      <th>2</th>\n",
              "      <td>246675545449582_1648730588577397</td>\n",
              "      <td>video</td>\n",
              "      <td>4/21/2018 6:17</td>\n",
              "      <td>227</td>\n",
              "      <td>236</td>\n",
              "      <td>57</td>\n",
              "      <td>204</td>\n",
              "      <td>21</td>\n",
              "      <td>1</td>\n",
              "      <td>1</td>\n",
              "      <td>0</td>\n",
              "      <td>0</td>\n",
              "      <td>NaN</td>\n",
              "      <td>NaN</td>\n",
              "      <td>NaN</td>\n",
              "      <td>NaN</td>\n",
              "    </tr>\n",
              "    <tr>\n",
              "      <th>3</th>\n",
              "      <td>246675545449582_1648576705259452</td>\n",
              "      <td>photo</td>\n",
              "      <td>4/21/2018 2:29</td>\n",
              "      <td>111</td>\n",
              "      <td>0</td>\n",
              "      <td>0</td>\n",
              "      <td>111</td>\n",
              "      <td>0</td>\n",
              "      <td>0</td>\n",
              "      <td>0</td>\n",
              "      <td>0</td>\n",
              "      <td>0</td>\n",
              "      <td>NaN</td>\n",
              "      <td>NaN</td>\n",
              "      <td>NaN</td>\n",
              "      <td>NaN</td>\n",
              "    </tr>\n",
              "    <tr>\n",
              "      <th>4</th>\n",
              "      <td>246675545449582_1645700502213739</td>\n",
              "      <td>photo</td>\n",
              "      <td>4/18/2018 3:22</td>\n",
              "      <td>213</td>\n",
              "      <td>0</td>\n",
              "      <td>0</td>\n",
              "      <td>204</td>\n",
              "      <td>9</td>\n",
              "      <td>0</td>\n",
              "      <td>0</td>\n",
              "      <td>0</td>\n",
              "      <td>0</td>\n",
              "      <td>NaN</td>\n",
              "      <td>NaN</td>\n",
              "      <td>NaN</td>\n",
              "      <td>NaN</td>\n",
              "    </tr>\n",
              "  </tbody>\n",
              "</table>\n",
              "</div>\n",
              "      <button class=\"colab-df-convert\" onclick=\"convertToInteractive('df-3a2de943-b01c-4705-9e29-ccfda15988af')\"\n",
              "              title=\"Convert this dataframe to an interactive table.\"\n",
              "              style=\"display:none;\">\n",
              "        \n",
              "  <svg xmlns=\"http://www.w3.org/2000/svg\" height=\"24px\"viewBox=\"0 0 24 24\"\n",
              "       width=\"24px\">\n",
              "    <path d=\"M0 0h24v24H0V0z\" fill=\"none\"/>\n",
              "    <path d=\"M18.56 5.44l.94 2.06.94-2.06 2.06-.94-2.06-.94-.94-2.06-.94 2.06-2.06.94zm-11 1L8.5 8.5l.94-2.06 2.06-.94-2.06-.94L8.5 2.5l-.94 2.06-2.06.94zm10 10l.94 2.06.94-2.06 2.06-.94-2.06-.94-.94-2.06-.94 2.06-2.06.94z\"/><path d=\"M17.41 7.96l-1.37-1.37c-.4-.4-.92-.59-1.43-.59-.52 0-1.04.2-1.43.59L10.3 9.45l-7.72 7.72c-.78.78-.78 2.05 0 2.83L4 21.41c.39.39.9.59 1.41.59.51 0 1.02-.2 1.41-.59l7.78-7.78 2.81-2.81c.8-.78.8-2.07 0-2.86zM5.41 20L4 18.59l7.72-7.72 1.47 1.35L5.41 20z\"/>\n",
              "  </svg>\n",
              "      </button>\n",
              "      \n",
              "  <style>\n",
              "    .colab-df-container {\n",
              "      display:flex;\n",
              "      flex-wrap:wrap;\n",
              "      gap: 12px;\n",
              "    }\n",
              "\n",
              "    .colab-df-convert {\n",
              "      background-color: #E8F0FE;\n",
              "      border: none;\n",
              "      border-radius: 50%;\n",
              "      cursor: pointer;\n",
              "      display: none;\n",
              "      fill: #1967D2;\n",
              "      height: 32px;\n",
              "      padding: 0 0 0 0;\n",
              "      width: 32px;\n",
              "    }\n",
              "\n",
              "    .colab-df-convert:hover {\n",
              "      background-color: #E2EBFA;\n",
              "      box-shadow: 0px 1px 2px rgba(60, 64, 67, 0.3), 0px 1px 3px 1px rgba(60, 64, 67, 0.15);\n",
              "      fill: #174EA6;\n",
              "    }\n",
              "\n",
              "    [theme=dark] .colab-df-convert {\n",
              "      background-color: #3B4455;\n",
              "      fill: #D2E3FC;\n",
              "    }\n",
              "\n",
              "    [theme=dark] .colab-df-convert:hover {\n",
              "      background-color: #434B5C;\n",
              "      box-shadow: 0px 1px 3px 1px rgba(0, 0, 0, 0.15);\n",
              "      filter: drop-shadow(0px 1px 2px rgba(0, 0, 0, 0.3));\n",
              "      fill: #FFFFFF;\n",
              "    }\n",
              "  </style>\n",
              "\n",
              "      <script>\n",
              "        const buttonEl =\n",
              "          document.querySelector('#df-3a2de943-b01c-4705-9e29-ccfda15988af button.colab-df-convert');\n",
              "        buttonEl.style.display =\n",
              "          google.colab.kernel.accessAllowed ? 'block' : 'none';\n",
              "\n",
              "        async function convertToInteractive(key) {\n",
              "          const element = document.querySelector('#df-3a2de943-b01c-4705-9e29-ccfda15988af');\n",
              "          const dataTable =\n",
              "            await google.colab.kernel.invokeFunction('convertToInteractive',\n",
              "                                                     [key], {});\n",
              "          if (!dataTable) return;\n",
              "\n",
              "          const docLinkHtml = 'Like what you see? Visit the ' +\n",
              "            '<a target=\"_blank\" href=https://colab.research.google.com/notebooks/data_table.ipynb>data table notebook</a>'\n",
              "            + ' to learn more about interactive tables.';\n",
              "          element.innerHTML = '';\n",
              "          dataTable['output_type'] = 'display_data';\n",
              "          await google.colab.output.renderOutput(dataTable, element);\n",
              "          const docLink = document.createElement('div');\n",
              "          docLink.innerHTML = docLinkHtml;\n",
              "          element.appendChild(docLink);\n",
              "        }\n",
              "      </script>\n",
              "    </div>\n",
              "  </div>\n",
              "  "
            ]
          },
          "metadata": {},
          "execution_count": 10
        }
      ]
    },
    {
      "cell_type": "code",
      "source": [
        "df.info()"
      ],
      "metadata": {
        "colab": {
          "base_uri": "https://localhost:8080/"
        },
        "id": "Gz7QQNQARMsP",
        "outputId": "6d7ba159-2824-4529-e62f-e0b3086925fb"
      },
      "execution_count": null,
      "outputs": [
        {
          "output_type": "stream",
          "name": "stdout",
          "text": [
            "<class 'pandas.core.frame.DataFrame'>\n",
            "RangeIndex: 7050 entries, 0 to 7049\n",
            "Data columns (total 16 columns):\n",
            " #   Column            Non-Null Count  Dtype  \n",
            "---  ------            --------------  -----  \n",
            " 0   ï»¿status_id      7050 non-null   object \n",
            " 1   status_type       7050 non-null   object \n",
            " 2   status_published  7050 non-null   object \n",
            " 3   num_reactions     7050 non-null   int64  \n",
            " 4   num_comments      7050 non-null   int64  \n",
            " 5   num_shares        7050 non-null   int64  \n",
            " 6   num_likes         7050 non-null   int64  \n",
            " 7   num_loves         7050 non-null   int64  \n",
            " 8   num_wows          7050 non-null   int64  \n",
            " 9   num_hahas         7050 non-null   int64  \n",
            " 10  num_sads          7050 non-null   int64  \n",
            " 11  num_angrys        7050 non-null   int64  \n",
            " 12  Column1           0 non-null      float64\n",
            " 13  Column2           0 non-null      float64\n",
            " 14  Column3           0 non-null      float64\n",
            " 15  Column4           0 non-null      float64\n",
            "dtypes: float64(4), int64(9), object(3)\n",
            "memory usage: 881.4+ KB\n"
          ]
        }
      ]
    },
    {
      "cell_type": "markdown",
      "source": [
        "Checking for missing value"
      ],
      "metadata": {
        "id": "0MgcoFRrRs3U"
      }
    },
    {
      "cell_type": "code",
      "source": [
        "df.isnull().sum()"
      ],
      "metadata": {
        "colab": {
          "base_uri": "https://localhost:8080/"
        },
        "id": "1DJ2_kghRoNu",
        "outputId": "483de6e3-a0ef-4b57-f65a-131f3e5461b3"
      },
      "execution_count": null,
      "outputs": [
        {
          "output_type": "execute_result",
          "data": {
            "text/plain": [
              "ï»¿status_id           0\n",
              "status_type            0\n",
              "status_published       0\n",
              "num_reactions          0\n",
              "num_comments           0\n",
              "num_shares             0\n",
              "num_likes              0\n",
              "num_loves              0\n",
              "num_wows               0\n",
              "num_hahas              0\n",
              "num_sads               0\n",
              "num_angrys             0\n",
              "Column1             7050\n",
              "Column2             7050\n",
              "Column3             7050\n",
              "Column4             7050\n",
              "dtype: int64"
            ]
          },
          "metadata": {},
          "execution_count": 12
        }
      ]
    },
    {
      "cell_type": "markdown",
      "source": [
        "We can see that there are 4 redundant columns in the dataset. We should drop them before proceeding further."
      ],
      "metadata": {
        "id": "CpOpP6rsRrk8"
      }
    },
    {
      "cell_type": "code",
      "source": [
        "df.drop(['Column1', 'Column2', 'Column3', 'Column4'], axis=1, inplace=True)"
      ],
      "metadata": {
        "id": "2coNEmehR8wS"
      },
      "execution_count": null,
      "outputs": []
    },
    {
      "cell_type": "code",
      "source": [
        "df.info()"
      ],
      "metadata": {
        "colab": {
          "base_uri": "https://localhost:8080/"
        },
        "id": "g1d-ObcNStp1",
        "outputId": "0b096985-b5f6-434c-d3f0-c28d8d745592"
      },
      "execution_count": null,
      "outputs": [
        {
          "output_type": "stream",
          "name": "stdout",
          "text": [
            "<class 'pandas.core.frame.DataFrame'>\n",
            "RangeIndex: 7050 entries, 0 to 7049\n",
            "Data columns (total 12 columns):\n",
            " #   Column            Non-Null Count  Dtype \n",
            "---  ------            --------------  ----- \n",
            " 0   ï»¿status_id      7050 non-null   object\n",
            " 1   status_type       7050 non-null   object\n",
            " 2   status_published  7050 non-null   object\n",
            " 3   num_reactions     7050 non-null   int64 \n",
            " 4   num_comments      7050 non-null   int64 \n",
            " 5   num_shares        7050 non-null   int64 \n",
            " 6   num_likes         7050 non-null   int64 \n",
            " 7   num_loves         7050 non-null   int64 \n",
            " 8   num_wows          7050 non-null   int64 \n",
            " 9   num_hahas         7050 non-null   int64 \n",
            " 10  num_sads          7050 non-null   int64 \n",
            " 11  num_angrys        7050 non-null   int64 \n",
            "dtypes: int64(9), object(3)\n",
            "memory usage: 661.1+ KB\n"
          ]
        }
      ]
    },
    {
      "cell_type": "markdown",
      "source": [
        "Now, we can see that redundant columns have been removed from the dataset.\n",
        "\n",
        "We can see that, there are 3 character variables (data type = object) and remaining 9 numerical variables (data type = int64)."
      ],
      "metadata": {
        "id": "futYXHxPSzUM"
      }
    },
    {
      "cell_type": "markdown",
      "source": [
        "View the statistical summary of numerical variables"
      ],
      "metadata": {
        "id": "hv9AGFbJTGmE"
      }
    },
    {
      "cell_type": "code",
      "source": [
        "df.describe()"
      ],
      "metadata": {
        "colab": {
          "base_uri": "https://localhost:8080/",
          "height": 344
        },
        "id": "I1pc4QCSSwqN",
        "outputId": "693bac52-c424-42ba-e1dd-ee3757d82230"
      },
      "execution_count": null,
      "outputs": [
        {
          "output_type": "execute_result",
          "data": {
            "text/plain": [
              "       num_reactions  num_comments   num_shares    num_likes    num_loves  \\\n",
              "count    7050.000000   7050.000000  7050.000000  7050.000000  7050.000000   \n",
              "mean      230.117163    224.356028    40.022553   215.043121    12.728652   \n",
              "std       462.625309    889.636820   131.599965   449.472357    39.972930   \n",
              "min         0.000000      0.000000     0.000000     0.000000     0.000000   \n",
              "25%        17.000000      0.000000     0.000000    17.000000     0.000000   \n",
              "50%        59.500000      4.000000     0.000000    58.000000     0.000000   \n",
              "75%       219.000000     23.000000     4.000000   184.750000     3.000000   \n",
              "max      4710.000000  20990.000000  3424.000000  4710.000000   657.000000   \n",
              "\n",
              "          num_wows    num_hahas     num_sads   num_angrys  \n",
              "count  7050.000000  7050.000000  7050.000000  7050.000000  \n",
              "mean      1.289362     0.696454     0.243688     0.113191  \n",
              "std       8.719650     3.957183     1.597156     0.726812  \n",
              "min       0.000000     0.000000     0.000000     0.000000  \n",
              "25%       0.000000     0.000000     0.000000     0.000000  \n",
              "50%       0.000000     0.000000     0.000000     0.000000  \n",
              "75%       0.000000     0.000000     0.000000     0.000000  \n",
              "max     278.000000   157.000000    51.000000    31.000000  "
            ],
            "text/html": [
              "\n",
              "  <div id=\"df-3e96308d-1b3b-4041-aa85-5ed67efc83cd\">\n",
              "    <div class=\"colab-df-container\">\n",
              "      <div>\n",
              "<style scoped>\n",
              "    .dataframe tbody tr th:only-of-type {\n",
              "        vertical-align: middle;\n",
              "    }\n",
              "\n",
              "    .dataframe tbody tr th {\n",
              "        vertical-align: top;\n",
              "    }\n",
              "\n",
              "    .dataframe thead th {\n",
              "        text-align: right;\n",
              "    }\n",
              "</style>\n",
              "<table border=\"1\" class=\"dataframe\">\n",
              "  <thead>\n",
              "    <tr style=\"text-align: right;\">\n",
              "      <th></th>\n",
              "      <th>num_reactions</th>\n",
              "      <th>num_comments</th>\n",
              "      <th>num_shares</th>\n",
              "      <th>num_likes</th>\n",
              "      <th>num_loves</th>\n",
              "      <th>num_wows</th>\n",
              "      <th>num_hahas</th>\n",
              "      <th>num_sads</th>\n",
              "      <th>num_angrys</th>\n",
              "    </tr>\n",
              "  </thead>\n",
              "  <tbody>\n",
              "    <tr>\n",
              "      <th>count</th>\n",
              "      <td>7050.000000</td>\n",
              "      <td>7050.000000</td>\n",
              "      <td>7050.000000</td>\n",
              "      <td>7050.000000</td>\n",
              "      <td>7050.000000</td>\n",
              "      <td>7050.000000</td>\n",
              "      <td>7050.000000</td>\n",
              "      <td>7050.000000</td>\n",
              "      <td>7050.000000</td>\n",
              "    </tr>\n",
              "    <tr>\n",
              "      <th>mean</th>\n",
              "      <td>230.117163</td>\n",
              "      <td>224.356028</td>\n",
              "      <td>40.022553</td>\n",
              "      <td>215.043121</td>\n",
              "      <td>12.728652</td>\n",
              "      <td>1.289362</td>\n",
              "      <td>0.696454</td>\n",
              "      <td>0.243688</td>\n",
              "      <td>0.113191</td>\n",
              "    </tr>\n",
              "    <tr>\n",
              "      <th>std</th>\n",
              "      <td>462.625309</td>\n",
              "      <td>889.636820</td>\n",
              "      <td>131.599965</td>\n",
              "      <td>449.472357</td>\n",
              "      <td>39.972930</td>\n",
              "      <td>8.719650</td>\n",
              "      <td>3.957183</td>\n",
              "      <td>1.597156</td>\n",
              "      <td>0.726812</td>\n",
              "    </tr>\n",
              "    <tr>\n",
              "      <th>min</th>\n",
              "      <td>0.000000</td>\n",
              "      <td>0.000000</td>\n",
              "      <td>0.000000</td>\n",
              "      <td>0.000000</td>\n",
              "      <td>0.000000</td>\n",
              "      <td>0.000000</td>\n",
              "      <td>0.000000</td>\n",
              "      <td>0.000000</td>\n",
              "      <td>0.000000</td>\n",
              "    </tr>\n",
              "    <tr>\n",
              "      <th>25%</th>\n",
              "      <td>17.000000</td>\n",
              "      <td>0.000000</td>\n",
              "      <td>0.000000</td>\n",
              "      <td>17.000000</td>\n",
              "      <td>0.000000</td>\n",
              "      <td>0.000000</td>\n",
              "      <td>0.000000</td>\n",
              "      <td>0.000000</td>\n",
              "      <td>0.000000</td>\n",
              "    </tr>\n",
              "    <tr>\n",
              "      <th>50%</th>\n",
              "      <td>59.500000</td>\n",
              "      <td>4.000000</td>\n",
              "      <td>0.000000</td>\n",
              "      <td>58.000000</td>\n",
              "      <td>0.000000</td>\n",
              "      <td>0.000000</td>\n",
              "      <td>0.000000</td>\n",
              "      <td>0.000000</td>\n",
              "      <td>0.000000</td>\n",
              "    </tr>\n",
              "    <tr>\n",
              "      <th>75%</th>\n",
              "      <td>219.000000</td>\n",
              "      <td>23.000000</td>\n",
              "      <td>4.000000</td>\n",
              "      <td>184.750000</td>\n",
              "      <td>3.000000</td>\n",
              "      <td>0.000000</td>\n",
              "      <td>0.000000</td>\n",
              "      <td>0.000000</td>\n",
              "      <td>0.000000</td>\n",
              "    </tr>\n",
              "    <tr>\n",
              "      <th>max</th>\n",
              "      <td>4710.000000</td>\n",
              "      <td>20990.000000</td>\n",
              "      <td>3424.000000</td>\n",
              "      <td>4710.000000</td>\n",
              "      <td>657.000000</td>\n",
              "      <td>278.000000</td>\n",
              "      <td>157.000000</td>\n",
              "      <td>51.000000</td>\n",
              "      <td>31.000000</td>\n",
              "    </tr>\n",
              "  </tbody>\n",
              "</table>\n",
              "</div>\n",
              "      <button class=\"colab-df-convert\" onclick=\"convertToInteractive('df-3e96308d-1b3b-4041-aa85-5ed67efc83cd')\"\n",
              "              title=\"Convert this dataframe to an interactive table.\"\n",
              "              style=\"display:none;\">\n",
              "        \n",
              "  <svg xmlns=\"http://www.w3.org/2000/svg\" height=\"24px\"viewBox=\"0 0 24 24\"\n",
              "       width=\"24px\">\n",
              "    <path d=\"M0 0h24v24H0V0z\" fill=\"none\"/>\n",
              "    <path d=\"M18.56 5.44l.94 2.06.94-2.06 2.06-.94-2.06-.94-.94-2.06-.94 2.06-2.06.94zm-11 1L8.5 8.5l.94-2.06 2.06-.94-2.06-.94L8.5 2.5l-.94 2.06-2.06.94zm10 10l.94 2.06.94-2.06 2.06-.94-2.06-.94-.94-2.06-.94 2.06-2.06.94z\"/><path d=\"M17.41 7.96l-1.37-1.37c-.4-.4-.92-.59-1.43-.59-.52 0-1.04.2-1.43.59L10.3 9.45l-7.72 7.72c-.78.78-.78 2.05 0 2.83L4 21.41c.39.39.9.59 1.41.59.51 0 1.02-.2 1.41-.59l7.78-7.78 2.81-2.81c.8-.78.8-2.07 0-2.86zM5.41 20L4 18.59l7.72-7.72 1.47 1.35L5.41 20z\"/>\n",
              "  </svg>\n",
              "      </button>\n",
              "      \n",
              "  <style>\n",
              "    .colab-df-container {\n",
              "      display:flex;\n",
              "      flex-wrap:wrap;\n",
              "      gap: 12px;\n",
              "    }\n",
              "\n",
              "    .colab-df-convert {\n",
              "      background-color: #E8F0FE;\n",
              "      border: none;\n",
              "      border-radius: 50%;\n",
              "      cursor: pointer;\n",
              "      display: none;\n",
              "      fill: #1967D2;\n",
              "      height: 32px;\n",
              "      padding: 0 0 0 0;\n",
              "      width: 32px;\n",
              "    }\n",
              "\n",
              "    .colab-df-convert:hover {\n",
              "      background-color: #E2EBFA;\n",
              "      box-shadow: 0px 1px 2px rgba(60, 64, 67, 0.3), 0px 1px 3px 1px rgba(60, 64, 67, 0.15);\n",
              "      fill: #174EA6;\n",
              "    }\n",
              "\n",
              "    [theme=dark] .colab-df-convert {\n",
              "      background-color: #3B4455;\n",
              "      fill: #D2E3FC;\n",
              "    }\n",
              "\n",
              "    [theme=dark] .colab-df-convert:hover {\n",
              "      background-color: #434B5C;\n",
              "      box-shadow: 0px 1px 3px 1px rgba(0, 0, 0, 0.15);\n",
              "      filter: drop-shadow(0px 1px 2px rgba(0, 0, 0, 0.3));\n",
              "      fill: #FFFFFF;\n",
              "    }\n",
              "  </style>\n",
              "\n",
              "      <script>\n",
              "        const buttonEl =\n",
              "          document.querySelector('#df-3e96308d-1b3b-4041-aa85-5ed67efc83cd button.colab-df-convert');\n",
              "        buttonEl.style.display =\n",
              "          google.colab.kernel.accessAllowed ? 'block' : 'none';\n",
              "\n",
              "        async function convertToInteractive(key) {\n",
              "          const element = document.querySelector('#df-3e96308d-1b3b-4041-aa85-5ed67efc83cd');\n",
              "          const dataTable =\n",
              "            await google.colab.kernel.invokeFunction('convertToInteractive',\n",
              "                                                     [key], {});\n",
              "          if (!dataTable) return;\n",
              "\n",
              "          const docLinkHtml = 'Like what you see? Visit the ' +\n",
              "            '<a target=\"_blank\" href=https://colab.research.google.com/notebooks/data_table.ipynb>data table notebook</a>'\n",
              "            + ' to learn more about interactive tables.';\n",
              "          element.innerHTML = '';\n",
              "          dataTable['output_type'] = 'display_data';\n",
              "          await google.colab.output.renderOutput(dataTable, element);\n",
              "          const docLink = document.createElement('div');\n",
              "          docLink.innerHTML = docLinkHtml;\n",
              "          element.appendChild(docLink);\n",
              "        }\n",
              "      </script>\n",
              "    </div>\n",
              "  </div>\n",
              "  "
            ]
          },
          "metadata": {},
          "execution_count": 15
        }
      ]
    },
    {
      "cell_type": "markdown",
      "source": [
        "There are 3 categorical variables in the dataset. I will explore them one by one. Explore status_id variable"
      ],
      "metadata": {
        "id": "US-pkFtuTiic"
      }
    },
    {
      "cell_type": "code",
      "source": [
        "df['status_id'].unique()"
      ],
      "metadata": {
        "colab": {
          "base_uri": "https://localhost:8080/",
          "height": 502
        },
        "id": "-8Odg8rUTKj8",
        "outputId": "760bed62-0c85-4ffb-cdab-ebe0fd548897"
      },
      "execution_count": null,
      "outputs": [
        {
          "output_type": "error",
          "ename": "KeyError",
          "evalue": "ignored",
          "traceback": [
            "\u001b[0;31m---------------------------------------------------------------------------\u001b[0m",
            "\u001b[0;31mKeyError\u001b[0m                                  Traceback (most recent call last)",
            "\u001b[0;32m/usr/local/lib/python3.8/dist-packages/pandas/core/indexes/base.py\u001b[0m in \u001b[0;36mget_loc\u001b[0;34m(self, key, method, tolerance)\u001b[0m\n\u001b[1;32m   3360\u001b[0m             \u001b[0;32mtry\u001b[0m\u001b[0;34m:\u001b[0m\u001b[0;34m\u001b[0m\u001b[0;34m\u001b[0m\u001b[0m\n\u001b[0;32m-> 3361\u001b[0;31m                 \u001b[0;32mreturn\u001b[0m \u001b[0mself\u001b[0m\u001b[0;34m.\u001b[0m\u001b[0m_engine\u001b[0m\u001b[0;34m.\u001b[0m\u001b[0mget_loc\u001b[0m\u001b[0;34m(\u001b[0m\u001b[0mcasted_key\u001b[0m\u001b[0;34m)\u001b[0m\u001b[0;34m\u001b[0m\u001b[0;34m\u001b[0m\u001b[0m\n\u001b[0m\u001b[1;32m   3362\u001b[0m             \u001b[0;32mexcept\u001b[0m \u001b[0mKeyError\u001b[0m \u001b[0;32mas\u001b[0m \u001b[0merr\u001b[0m\u001b[0;34m:\u001b[0m\u001b[0;34m\u001b[0m\u001b[0;34m\u001b[0m\u001b[0m\n",
            "\u001b[0;32m/usr/local/lib/python3.8/dist-packages/pandas/_libs/index.pyx\u001b[0m in \u001b[0;36mpandas._libs.index.IndexEngine.get_loc\u001b[0;34m()\u001b[0m\n",
            "\u001b[0;32m/usr/local/lib/python3.8/dist-packages/pandas/_libs/index.pyx\u001b[0m in \u001b[0;36mpandas._libs.index.IndexEngine.get_loc\u001b[0;34m()\u001b[0m\n",
            "\u001b[0;32mpandas/_libs/hashtable_class_helper.pxi\u001b[0m in \u001b[0;36mpandas._libs.hashtable.PyObjectHashTable.get_item\u001b[0;34m()\u001b[0m\n",
            "\u001b[0;32mpandas/_libs/hashtable_class_helper.pxi\u001b[0m in \u001b[0;36mpandas._libs.hashtable.PyObjectHashTable.get_item\u001b[0;34m()\u001b[0m\n",
            "\u001b[0;31mKeyError\u001b[0m: 'status_id'",
            "\nThe above exception was the direct cause of the following exception:\n",
            "\u001b[0;31mKeyError\u001b[0m                                  Traceback (most recent call last)",
            "\u001b[0;32m<ipython-input-16-251af7b15ae8>\u001b[0m in \u001b[0;36m<module>\u001b[0;34m\u001b[0m\n\u001b[0;32m----> 1\u001b[0;31m \u001b[0mdf\u001b[0m\u001b[0;34m[\u001b[0m\u001b[0;34m'status_id'\u001b[0m\u001b[0;34m]\u001b[0m\u001b[0;34m.\u001b[0m\u001b[0munique\u001b[0m\u001b[0;34m(\u001b[0m\u001b[0;34m)\u001b[0m\u001b[0;34m\u001b[0m\u001b[0;34m\u001b[0m\u001b[0m\n\u001b[0m",
            "\u001b[0;32m/usr/local/lib/python3.8/dist-packages/pandas/core/frame.py\u001b[0m in \u001b[0;36m__getitem__\u001b[0;34m(self, key)\u001b[0m\n\u001b[1;32m   3456\u001b[0m             \u001b[0;32mif\u001b[0m \u001b[0mself\u001b[0m\u001b[0;34m.\u001b[0m\u001b[0mcolumns\u001b[0m\u001b[0;34m.\u001b[0m\u001b[0mnlevels\u001b[0m \u001b[0;34m>\u001b[0m \u001b[0;36m1\u001b[0m\u001b[0;34m:\u001b[0m\u001b[0;34m\u001b[0m\u001b[0;34m\u001b[0m\u001b[0m\n\u001b[1;32m   3457\u001b[0m                 \u001b[0;32mreturn\u001b[0m \u001b[0mself\u001b[0m\u001b[0;34m.\u001b[0m\u001b[0m_getitem_multilevel\u001b[0m\u001b[0;34m(\u001b[0m\u001b[0mkey\u001b[0m\u001b[0;34m)\u001b[0m\u001b[0;34m\u001b[0m\u001b[0;34m\u001b[0m\u001b[0m\n\u001b[0;32m-> 3458\u001b[0;31m             \u001b[0mindexer\u001b[0m \u001b[0;34m=\u001b[0m \u001b[0mself\u001b[0m\u001b[0;34m.\u001b[0m\u001b[0mcolumns\u001b[0m\u001b[0;34m.\u001b[0m\u001b[0mget_loc\u001b[0m\u001b[0;34m(\u001b[0m\u001b[0mkey\u001b[0m\u001b[0;34m)\u001b[0m\u001b[0;34m\u001b[0m\u001b[0;34m\u001b[0m\u001b[0m\n\u001b[0m\u001b[1;32m   3459\u001b[0m             \u001b[0;32mif\u001b[0m \u001b[0mis_integer\u001b[0m\u001b[0;34m(\u001b[0m\u001b[0mindexer\u001b[0m\u001b[0;34m)\u001b[0m\u001b[0;34m:\u001b[0m\u001b[0;34m\u001b[0m\u001b[0;34m\u001b[0m\u001b[0m\n\u001b[1;32m   3460\u001b[0m                 \u001b[0mindexer\u001b[0m \u001b[0;34m=\u001b[0m \u001b[0;34m[\u001b[0m\u001b[0mindexer\u001b[0m\u001b[0;34m]\u001b[0m\u001b[0;34m\u001b[0m\u001b[0;34m\u001b[0m\u001b[0m\n",
            "\u001b[0;32m/usr/local/lib/python3.8/dist-packages/pandas/core/indexes/base.py\u001b[0m in \u001b[0;36mget_loc\u001b[0;34m(self, key, method, tolerance)\u001b[0m\n\u001b[1;32m   3361\u001b[0m                 \u001b[0;32mreturn\u001b[0m \u001b[0mself\u001b[0m\u001b[0;34m.\u001b[0m\u001b[0m_engine\u001b[0m\u001b[0;34m.\u001b[0m\u001b[0mget_loc\u001b[0m\u001b[0;34m(\u001b[0m\u001b[0mcasted_key\u001b[0m\u001b[0;34m)\u001b[0m\u001b[0;34m\u001b[0m\u001b[0;34m\u001b[0m\u001b[0m\n\u001b[1;32m   3362\u001b[0m             \u001b[0;32mexcept\u001b[0m \u001b[0mKeyError\u001b[0m \u001b[0;32mas\u001b[0m \u001b[0merr\u001b[0m\u001b[0;34m:\u001b[0m\u001b[0;34m\u001b[0m\u001b[0;34m\u001b[0m\u001b[0m\n\u001b[0;32m-> 3363\u001b[0;31m                 \u001b[0;32mraise\u001b[0m \u001b[0mKeyError\u001b[0m\u001b[0;34m(\u001b[0m\u001b[0mkey\u001b[0m\u001b[0;34m)\u001b[0m \u001b[0;32mfrom\u001b[0m \u001b[0merr\u001b[0m\u001b[0;34m\u001b[0m\u001b[0;34m\u001b[0m\u001b[0m\n\u001b[0m\u001b[1;32m   3364\u001b[0m \u001b[0;34m\u001b[0m\u001b[0m\n\u001b[1;32m   3365\u001b[0m         \u001b[0;32mif\u001b[0m \u001b[0mis_scalar\u001b[0m\u001b[0;34m(\u001b[0m\u001b[0mkey\u001b[0m\u001b[0;34m)\u001b[0m \u001b[0;32mand\u001b[0m \u001b[0misna\u001b[0m\u001b[0;34m(\u001b[0m\u001b[0mkey\u001b[0m\u001b[0;34m)\u001b[0m \u001b[0;32mand\u001b[0m \u001b[0;32mnot\u001b[0m \u001b[0mself\u001b[0m\u001b[0;34m.\u001b[0m\u001b[0mhasnans\u001b[0m\u001b[0;34m:\u001b[0m\u001b[0;34m\u001b[0m\u001b[0;34m\u001b[0m\u001b[0m\n",
            "\u001b[0;31mKeyError\u001b[0m: 'status_id'"
          ]
        }
      ]
    },
    {
      "cell_type": "code",
      "source": [
        "len(df['status_id'].unique())"
      ],
      "metadata": {
        "id": "SLI_QwvnT1hm"
      },
      "execution_count": null,
      "outputs": []
    },
    {
      "cell_type": "markdown",
      "source": [
        "We can see that there are 6997 unique labels in the status_id variable. The total number of instances in the dataset is 7050. So, it is approximately a unique identifier for each of the instances. Thus this is not a variable that we can use. Hence, I will drop it."
      ],
      "metadata": {
        "id": "sf0katyYUJL-"
      }
    },
    {
      "cell_type": "markdown",
      "source": [
        "Explore status_published variable"
      ],
      "metadata": {
        "id": "c6RLuStzUKD9"
      }
    },
    {
      "cell_type": "code",
      "source": [
        "df['status_published'].unique()"
      ],
      "metadata": {
        "id": "N7mmM-lFUC-J"
      },
      "execution_count": null,
      "outputs": []
    },
    {
      "cell_type": "code",
      "source": [
        "len(df['status_published'].unique())"
      ],
      "metadata": {
        "id": "DqZukeiOUUAm"
      },
      "execution_count": null,
      "outputs": []
    },
    {
      "cell_type": "markdown",
      "source": [
        "Again, we can see that there are 6913 unique labels in the status_published variable. The total number of instances in the dataset is 7050. So, it is also a approximately a unique identifier for each of the instances. Thus this is not a variable that we can use. Hence, I will drop it also."
      ],
      "metadata": {
        "id": "iMo6onEuUfjc"
      }
    },
    {
      "cell_type": "markdown",
      "source": [
        "Explore status_type variable"
      ],
      "metadata": {
        "id": "xNTMK6iEUjae"
      }
    },
    {
      "cell_type": "code",
      "source": [
        "df['status_type'].unique()"
      ],
      "metadata": {
        "id": "mrlkRY96UZNN"
      },
      "execution_count": null,
      "outputs": []
    },
    {
      "cell_type": "code",
      "source": [
        "len(df['status_type'].unique())"
      ],
      "metadata": {
        "id": "nVRiqAiUUpF6"
      },
      "execution_count": null,
      "outputs": []
    },
    {
      "cell_type": "markdown",
      "source": [
        "We can see that there are 4 categories of labels in the status_type variable.\n",
        "\n",
        "Drop status_id and status_published variable from the dataset"
      ],
      "metadata": {
        "id": "1Mmnh_M6U9ec"
      }
    },
    {
      "cell_type": "code",
      "source": [
        "df.drop(['status_id', 'status_published'], axis=1, inplace=True)"
      ],
      "metadata": {
        "id": "lPwxzh2JU0uq"
      },
      "execution_count": null,
      "outputs": []
    },
    {
      "cell_type": "code",
      "source": [
        "df.head()"
      ],
      "metadata": {
        "id": "Di_mEan0VRY8"
      },
      "execution_count": null,
      "outputs": []
    },
    {
      "cell_type": "markdown",
      "source": [
        "We can see that there is 1 non-numeric column status_type in the dataset. I will convert it into integer equivalents."
      ],
      "metadata": {
        "id": "o0EEUGVXVTcs"
      }
    },
    {
      "cell_type": "markdown",
      "source": [
        "Declare feature vector and target variable"
      ],
      "metadata": {
        "id": "THcYRFkWVX__"
      }
    },
    {
      "cell_type": "code",
      "source": [
        "X = df\n",
        "\n",
        "y = df['status_type']"
      ],
      "metadata": {
        "id": "jPJ_e7X4VSr_"
      },
      "execution_count": null,
      "outputs": []
    },
    {
      "cell_type": "markdown",
      "source": [
        "Convert categorical variable into integers "
      ],
      "metadata": {
        "id": "JBS-D_4AVe0c"
      }
    },
    {
      "cell_type": "code",
      "source": [
        "from sklearn.preprocessing import LabelEncoder\n",
        "\n",
        "le = LabelEncoder()\n",
        "\n",
        "X['status_type'] = le.fit_transform(X['status_type'])\n",
        "\n",
        "y = le.transform(y)"
      ],
      "metadata": {
        "id": "YtNkHnv6VfpN"
      },
      "execution_count": null,
      "outputs": []
    },
    {
      "cell_type": "markdown",
      "source": [
        "View the summary of X"
      ],
      "metadata": {
        "id": "G4XEGAekVjy8"
      }
    },
    {
      "cell_type": "code",
      "source": [
        "X.info()"
      ],
      "metadata": {
        "id": "DdOExqQWVmeW"
      },
      "execution_count": null,
      "outputs": []
    },
    {
      "cell_type": "markdown",
      "source": [
        "Preview the dataset X"
      ],
      "metadata": {
        "id": "lLEGxT_KVuoc"
      }
    },
    {
      "cell_type": "code",
      "source": [
        "X.head()"
      ],
      "metadata": {
        "id": "rGse2TvLVtt_"
      },
      "execution_count": null,
      "outputs": []
    },
    {
      "cell_type": "markdown",
      "source": [
        "Feature Scaling"
      ],
      "metadata": {
        "id": "HINXspa_V0_r"
      }
    },
    {
      "cell_type": "code",
      "source": [
        "cols = X.columns"
      ],
      "metadata": {
        "id": "InmYcC08VxY1"
      },
      "execution_count": null,
      "outputs": []
    },
    {
      "cell_type": "code",
      "source": [
        "from sklearn.preprocessing import MinMaxScaler\n",
        "\n",
        "ms = MinMaxScaler()\n",
        "\n",
        "X = ms.fit_transform(X)"
      ],
      "metadata": {
        "id": "v4WgbffqV6Nl"
      },
      "execution_count": null,
      "outputs": []
    },
    {
      "cell_type": "code",
      "source": [
        "X = pd.DataFrame(X, columns=[cols])"
      ],
      "metadata": {
        "id": "An86Vaq-V89E"
      },
      "execution_count": null,
      "outputs": []
    },
    {
      "cell_type": "code",
      "source": [
        "X.head()"
      ],
      "metadata": {
        "id": "LlXc9ksOV-sV"
      },
      "execution_count": null,
      "outputs": []
    },
    {
      "cell_type": "markdown",
      "source": [
        "K-Means model with two clusters "
      ],
      "metadata": {
        "id": "pbzO7aqbWDm9"
      }
    },
    {
      "cell_type": "code",
      "source": [
        "from sklearn.cluster import KMeans\n",
        "\n",
        "kmeans = KMeans(n_clusters=2, random_state=0) \n",
        "\n",
        "kmeans.fit(X)"
      ],
      "metadata": {
        "id": "pq12BSDDV_Qc"
      },
      "execution_count": null,
      "outputs": []
    },
    {
      "cell_type": "markdown",
      "source": [
        "K-Means model parameters study"
      ],
      "metadata": {
        "id": "MnmeL0-qWMQl"
      }
    },
    {
      "cell_type": "code",
      "source": [
        "kmeans.cluster_centers_"
      ],
      "metadata": {
        "id": "uo0hTmlJWLb_"
      },
      "execution_count": null,
      "outputs": []
    },
    {
      "cell_type": "markdown",
      "source": [
        "The KMeans algorithm clusters data by trying to separate samples in n groups of equal variances, minimizing a criterion known as inertia, or within-cluster sum-of-squares Inertia, or the within-cluster sum of squares criterion, can be recognized as a measure of how internally coherent clusters are.\n",
        "The k-means algorithm divides a set of N samples X into K disjoint clusters C, each described by the mean j of the samples in the cluster. The means are commonly called the cluster centroids.\n",
        "The K-means algorithm aims to choose centroids that minimize the inertia, or within-cluster sum of squared criterion."
      ],
      "metadata": {
        "id": "F3uvHnoiWSMF"
      }
    },
    {
      "cell_type": "markdown",
      "source": [
        "**Inertia**\n",
        "Inertia is not a normalized metric.\n",
        "\n",
        "The lower values of inertia are better and zero is optimal.\n",
        "\n",
        "But in very high-dimensional spaces, euclidean distances tend to become inflated (this is an instance of curse of dimensionality).\n",
        "\n",
        "Running a dimensionality reduction algorithm such as PCA prior to k-means clustering can alleviate this problem and speed up the computations.\n",
        "\n",
        "We can calculate model inertia as follows:-"
      ],
      "metadata": {
        "id": "HEX-AoxeWWud"
      }
    },
    {
      "cell_type": "code",
      "source": [
        "kmeans.inertia_"
      ],
      "metadata": {
        "id": "Br3xn4hkWTW5"
      },
      "execution_count": null,
      "outputs": []
    },
    {
      "cell_type": "markdown",
      "source": [
        "The lesser the model inertia, the better the model fit.\n",
        "\n",
        "We can see that the model has very high inertia. So, this is not a good model fit to the data."
      ],
      "metadata": {
        "id": "WaY2aUiBWdWc"
      }
    },
    {
      "cell_type": "markdown",
      "source": [
        "Check quality of weak classification by the model "
      ],
      "metadata": {
        "id": "GcKvG4SVWi8H"
      }
    },
    {
      "cell_type": "code",
      "source": [
        "labels = kmeans.labels_\n",
        "\n",
        "# check how many of the samples were correctly labeled\n",
        "correct_labels = sum(y == labels)\n",
        "\n",
        "print(\"Result: %d out of %d samples were correctly labeled.\" % (correct_labels, y.size))"
      ],
      "metadata": {
        "id": "b76DViCGWcZI"
      },
      "execution_count": null,
      "outputs": []
    },
    {
      "cell_type": "code",
      "source": [
        "print('Accuracy score: {0:0.2f}'. format(correct_labels/float(y.size)))"
      ],
      "metadata": {
        "id": "4Bxh0SdeWpmV"
      },
      "execution_count": null,
      "outputs": []
    },
    {
      "cell_type": "markdown",
      "source": [
        "Use elbow method to find optimal number of clusters"
      ],
      "metadata": {
        "id": "uBME7zmCWuKk"
      }
    },
    {
      "cell_type": "code",
      "source": [
        "from sklearn.cluster import KMeans\n",
        "cs = []\n",
        "for i in range(1, 11):\n",
        "    kmeans = KMeans(n_clusters = i, init = 'k-means++', max_iter = 300, n_init = 10, random_state = 0)\n",
        "    kmeans.fit(X)\n",
        "    cs.append(kmeans.inertia_)\n",
        "plt.plot(range(1, 11), cs)\n",
        "plt.title('The Elbow Method')\n",
        "plt.xlabel('Number of clusters')\n",
        "plt.ylabel('CS')\n",
        "plt.show()"
      ],
      "metadata": {
        "id": "ZIQYtC-8WtL5"
      },
      "execution_count": null,
      "outputs": []
    },
    {
      "cell_type": "markdown",
      "source": [
        "By the above plot, we can see that there is a kink at k=2.\n",
        "\n",
        "Hence k=2 can be considered a good number of the cluster to cluster this data.\n",
        "\n",
        "But, we have seen that I have achieved a weak classification accuracy of 1% with k=2.\n",
        "\n",
        "I will write the required code with k=2 again for convinience."
      ],
      "metadata": {
        "id": "nNFKNYgUW3w9"
      }
    },
    {
      "cell_type": "code",
      "source": [
        "from sklearn.cluster import KMeans\n",
        "\n",
        "kmeans = KMeans(n_clusters=2,random_state=0)\n",
        "\n",
        "kmeans.fit(X)\n",
        "\n",
        "labels = kmeans.labels_\n",
        "\n",
        "# check how many of the samples were correctly labeled\n",
        "\n",
        "correct_labels = sum(y == labels)\n",
        "\n",
        "print(\"Result: %d out of %d samples were correctly labeled.\" % (correct_labels, y.size))\n",
        "\n",
        "print('Accuracy score: {0:0.2f}'. format(correct_labels/float(y.size)))"
      ],
      "metadata": {
        "id": "1OcOyhurW8TF"
      },
      "execution_count": null,
      "outputs": []
    },
    {
      "cell_type": "markdown",
      "source": [
        "So, our weak unsupervised classification model achieved a very weak classification accuracy of 1%.\n",
        "\n",
        "I will check the model accuracy with different number of clusters."
      ],
      "metadata": {
        "id": "Bs1rvgP2W7PO"
      }
    },
    {
      "cell_type": "markdown",
      "source": [
        "K-Means model with different clusters \n",
        "\n",
        "K-Means model with 3 clusters"
      ],
      "metadata": {
        "id": "sASzcQa9XIds"
      }
    },
    {
      "cell_type": "code",
      "source": [
        "kmeans = KMeans(n_clusters=3, random_state=0)\n",
        "\n",
        "kmeans.fit(X)\n",
        "\n",
        "# check how many of the samples were correctly labeled\n",
        "labels = kmeans.labels_\n",
        "\n",
        "correct_labels = sum(y == labels)\n",
        "print(\"Result: %d out of %d samples were correctly labeled.\" % (correct_labels, y.size))\n",
        "print('Accuracy score: {0:0.2f}'. format(correct_labels/float(y.size)))"
      ],
      "metadata": {
        "id": "UDYfRLGHXE2W"
      },
      "execution_count": null,
      "outputs": []
    },
    {
      "cell_type": "markdown",
      "source": [
        "K-Means model with 4 clusters"
      ],
      "metadata": {
        "id": "ZwUWf_TkXSAV"
      }
    },
    {
      "cell_type": "code",
      "source": [
        "kmeans = KMeans(n_clusters=4, random_state=0)\n",
        "\n",
        "kmeans.fit(X)\n",
        "\n",
        "# check how many of the samples were correctly labeled\n",
        "labels = kmeans.labels_\n",
        "\n",
        "correct_labels = sum(y == labels)\n",
        "print(\"Result: %d out of %d samples were correctly labeled.\" % (correct_labels, y.size))\n",
        "print('Accuracy score: {0:0.2f}'. format(correct_labels/float(y.size)))"
      ],
      "metadata": {
        "id": "y3ijTzN3XSyP"
      },
      "execution_count": null,
      "outputs": []
    },
    {
      "cell_type": "markdown",
      "source": [
        "We have achieved a relatively high accuracy of 62% with k=4.\n",
        "\n",
        "Results and conclusion \n",
        "\n",
        "\n",
        "In this project, I have implemented the most popular unsupervised clustering technique called K-Means Clustering.\n",
        "\n",
        "I have applied the elbow method and find that k=2 (k is number of clusters) can be considered a good number of cluster to cluster this data.\n",
        "\n",
        "I have find that the model has very high inertia of 237.7572. So, this is not a good model fit to the data.\n",
        "\n",
        "I have achieved a weak classification accuracy of 1% with k=2 by our unsupervised model.\n",
        "\n",
        "So, I have changed the value of k and find relatively higher classification accuracy of 62% with k=4.\n",
        "\n",
        "Hence, we can conclude that k=4 being the optimal number of clusters."
      ],
      "metadata": {
        "id": "SlSnHBARXdF3"
      }
    },
    {
      "cell_type": "markdown",
      "source": [
        "Wesley:"
      ],
      "metadata": {
        "id": "pF2EEAMRLOem"
      }
    },
    {
      "cell_type": "markdown",
      "source": [
        "AffinityPropagation creates clusters by sending messages between pairs of samples until convergence. The messages sent between pairs represent the suitability for one sample to be the exemplar of the other, which is updated in response to the values from other pairs. This updating happens iteratively until convergence, at which point the final exemplars are chosen, and hence the final clustering is given."
      ],
      "metadata": {
        "id": "ymKHteIALHo4"
      }
    },
    {
      "cell_type": "markdown",
      "source": [
        "I used this site to help me understand Affinity Propagation and help me run the code with sklearn. https://scikit-learn.org/stable/modules/generated/sklearn.cluster.AffinityPropagation.html"
      ],
      "metadata": {
        "id": "9jf4V9QZK777"
      }
    },
    {
      "cell_type": "code",
      "source": [
        "from sklearn.cluster import AffinityPropagation\n",
        "import numpy as np\n",
        "from sklearn.cluster import AffinityPropagation\n",
        "from sklearn import metrics\n",
        "from sklearn.datasets import make_blobs"
      ],
      "metadata": {
        "id": "kqNSZuAgG6Ya"
      },
      "execution_count": null,
      "outputs": []
    },
    {
      "cell_type": "code",
      "source": [],
      "metadata": {
        "id": "UP49AMf1Rget"
      },
      "execution_count": null,
      "outputs": []
    },
    {
      "cell_type": "code",
      "source": [
        "clustering = AffinityPropagation(damping=0.75,random_state=0).fit(X)"
      ],
      "metadata": {
        "id": "Kml4sEZuHAeq"
      },
      "execution_count": null,
      "outputs": []
    },
    {
      "cell_type": "code",
      "source": [
        "cluster_centers_indices = clustering.cluster_centers_indices_\n",
        "labels = clustering.labels_\n",
        "n_clusters_ = len(cluster_centers_indices)\n"
      ],
      "metadata": {
        "id": "RSxFKTQ4IYt2"
      },
      "execution_count": null,
      "outputs": []
    },
    {
      "cell_type": "code",
      "source": [
        "print(\"Estimated number of clusters: %d\" % n_clusters_)\n"
      ],
      "metadata": {
        "id": "daH8QNE2KA9B"
      },
      "execution_count": null,
      "outputs": []
    },
    {
      "cell_type": "code",
      "source": [
        "centers = [[1, 1], [-1, -1], [1, -1]]\n",
        "Y, labels_true = make_blobs(\n",
        "    n_samples=300, centers=centers, cluster_std=0.5, random_state=0\n",
        ")"
      ],
      "metadata": {
        "id": "siGzuUbVQtuE"
      },
      "execution_count": null,
      "outputs": []
    }
  ]
}