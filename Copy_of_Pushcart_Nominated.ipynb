{
  "cells": [
    {
      "cell_type": "code",
      "execution_count": 1,
      "metadata": {
        "colab": {
          "base_uri": "https://localhost:8080/"
        },
        "id": "TWjgTi4PaLj1",
        "outputId": "ba834af7-6499-4bb5-94a3-5489fc39a60f"
      },
      "outputs": [
        {
          "name": "stdout",
          "output_type": "stream",
          "text": [
            "Requirement already satisfied: nltk in /usr/local/python/3.8.6/lib/python3.8/site-packages (3.8.1)\n",
            "Requirement already satisfied: click in /usr/local/python/3.8.6/lib/python3.8/site-packages (from nltk) (8.1.3)\n",
            "Requirement already satisfied: joblib in /usr/local/python/3.8.6/lib/python3.8/site-packages (from nltk) (1.2.0)\n",
            "Requirement already satisfied: regex>=2021.8.3 in /usr/local/python/3.8.6/lib/python3.8/site-packages (from nltk) (2023.3.23)\n",
            "Requirement already satisfied: tqdm in /usr/local/python/3.8.6/lib/python3.8/site-packages (from nltk) (4.65.0)\n",
            "Requirement already satisfied: sentence-transformers in /usr/local/python/3.8.6/lib/python3.8/site-packages (2.2.2)\n",
            "Requirement already satisfied: transformers<5.0.0,>=4.6.0 in /usr/local/python/3.8.6/lib/python3.8/site-packages (from sentence-transformers) (4.28.1)\n",
            "Requirement already satisfied: tqdm in /usr/local/python/3.8.6/lib/python3.8/site-packages (from sentence-transformers) (4.65.0)\n",
            "Requirement already satisfied: torch>=1.6.0 in /usr/local/python/3.8.6/lib/python3.8/site-packages (from sentence-transformers) (2.0.0)\n",
            "Requirement already satisfied: torchvision in /usr/local/python/3.8.6/lib/python3.8/site-packages (from sentence-transformers) (0.15.1)\n",
            "Requirement already satisfied: numpy in /usr/local/python/3.8.6/lib/python3.8/site-packages (from sentence-transformers) (1.23.5)\n",
            "Requirement already satisfied: scikit-learn in /usr/local/python/3.8.6/lib/python3.8/site-packages (from sentence-transformers) (1.2.2)\n",
            "Requirement already satisfied: scipy in /usr/local/python/3.8.6/lib/python3.8/site-packages (from sentence-transformers) (1.10.1)\n",
            "Requirement already satisfied: nltk in /usr/local/python/3.8.6/lib/python3.8/site-packages (from sentence-transformers) (3.8.1)\n",
            "Requirement already satisfied: sentencepiece in /usr/local/python/3.8.6/lib/python3.8/site-packages (from sentence-transformers) (0.1.98)\n",
            "Requirement already satisfied: huggingface-hub>=0.4.0 in /usr/local/python/3.8.6/lib/python3.8/site-packages (from sentence-transformers) (0.14.1)\n",
            "Requirement already satisfied: filelock in /usr/local/python/3.8.6/lib/python3.8/site-packages (from huggingface-hub>=0.4.0->sentence-transformers) (3.12.0)\n",
            "Requirement already satisfied: fsspec in /usr/local/python/3.8.6/lib/python3.8/site-packages (from huggingface-hub>=0.4.0->sentence-transformers) (2023.4.0)\n",
            "Requirement already satisfied: requests in /usr/local/python/3.8.6/lib/python3.8/site-packages (from huggingface-hub>=0.4.0->sentence-transformers) (2.29.0)\n",
            "Requirement already satisfied: pyyaml>=5.1 in /usr/local/python/3.8.6/lib/python3.8/site-packages (from huggingface-hub>=0.4.0->sentence-transformers) (6.0)\n",
            "Requirement already satisfied: typing-extensions>=3.7.4.3 in /home/codespace/.local/lib/python3.8/site-packages (from huggingface-hub>=0.4.0->sentence-transformers) (4.5.0)\n",
            "Requirement already satisfied: packaging>=20.9 in /home/codespace/.local/lib/python3.8/site-packages (from huggingface-hub>=0.4.0->sentence-transformers) (23.1)\n",
            "Requirement already satisfied: sympy in /usr/local/python/3.8.6/lib/python3.8/site-packages (from torch>=1.6.0->sentence-transformers) (1.11.1)\n",
            "Requirement already satisfied: networkx in /usr/local/python/3.8.6/lib/python3.8/site-packages (from torch>=1.6.0->sentence-transformers) (3.1)\n",
            "Requirement already satisfied: jinja2 in /usr/local/python/3.8.6/lib/python3.8/site-packages (from torch>=1.6.0->sentence-transformers) (3.1.2)\n",
            "Requirement already satisfied: nvidia-cuda-nvrtc-cu11==11.7.99 in /usr/local/python/3.8.6/lib/python3.8/site-packages (from torch>=1.6.0->sentence-transformers) (11.7.99)\n",
            "Requirement already satisfied: nvidia-cuda-runtime-cu11==11.7.99 in /usr/local/python/3.8.6/lib/python3.8/site-packages (from torch>=1.6.0->sentence-transformers) (11.7.99)\n",
            "Requirement already satisfied: nvidia-cuda-cupti-cu11==11.7.101 in /usr/local/python/3.8.6/lib/python3.8/site-packages (from torch>=1.6.0->sentence-transformers) (11.7.101)\n",
            "Requirement already satisfied: nvidia-cudnn-cu11==8.5.0.96 in /usr/local/python/3.8.6/lib/python3.8/site-packages (from torch>=1.6.0->sentence-transformers) (8.5.0.96)\n",
            "Requirement already satisfied: nvidia-cublas-cu11==11.10.3.66 in /usr/local/python/3.8.6/lib/python3.8/site-packages (from torch>=1.6.0->sentence-transformers) (11.10.3.66)\n",
            "Requirement already satisfied: nvidia-cufft-cu11==10.9.0.58 in /usr/local/python/3.8.6/lib/python3.8/site-packages (from torch>=1.6.0->sentence-transformers) (10.9.0.58)\n",
            "Requirement already satisfied: nvidia-curand-cu11==10.2.10.91 in /usr/local/python/3.8.6/lib/python3.8/site-packages (from torch>=1.6.0->sentence-transformers) (10.2.10.91)\n",
            "Requirement already satisfied: nvidia-cusolver-cu11==11.4.0.1 in /usr/local/python/3.8.6/lib/python3.8/site-packages (from torch>=1.6.0->sentence-transformers) (11.4.0.1)\n",
            "Requirement already satisfied: nvidia-cusparse-cu11==11.7.4.91 in /usr/local/python/3.8.6/lib/python3.8/site-packages (from torch>=1.6.0->sentence-transformers) (11.7.4.91)\n",
            "Requirement already satisfied: nvidia-nccl-cu11==2.14.3 in /usr/local/python/3.8.6/lib/python3.8/site-packages (from torch>=1.6.0->sentence-transformers) (2.14.3)\n",
            "Requirement already satisfied: nvidia-nvtx-cu11==11.7.91 in /usr/local/python/3.8.6/lib/python3.8/site-packages (from torch>=1.6.0->sentence-transformers) (11.7.91)\n",
            "Requirement already satisfied: triton==2.0.0 in /usr/local/python/3.8.6/lib/python3.8/site-packages (from torch>=1.6.0->sentence-transformers) (2.0.0)\n",
            "Requirement already satisfied: setuptools in /usr/local/python/3.8.6/lib/python3.8/site-packages (from nvidia-cublas-cu11==11.10.3.66->torch>=1.6.0->sentence-transformers) (63.3.0)\n",
            "Requirement already satisfied: wheel in /usr/local/python/3.8.6/lib/python3.8/site-packages (from nvidia-cublas-cu11==11.10.3.66->torch>=1.6.0->sentence-transformers) (0.37.1)\n",
            "Requirement already satisfied: cmake in /usr/local/python/3.8.6/lib/python3.8/site-packages (from triton==2.0.0->torch>=1.6.0->sentence-transformers) (3.26.3)\n",
            "Requirement already satisfied: lit in /usr/local/python/3.8.6/lib/python3.8/site-packages (from triton==2.0.0->torch>=1.6.0->sentence-transformers) (16.0.2)\n",
            "Requirement already satisfied: regex!=2019.12.17 in /usr/local/python/3.8.6/lib/python3.8/site-packages (from transformers<5.0.0,>=4.6.0->sentence-transformers) (2023.3.23)\n",
            "Requirement already satisfied: tokenizers!=0.11.3,<0.14,>=0.11.1 in /usr/local/python/3.8.6/lib/python3.8/site-packages (from transformers<5.0.0,>=4.6.0->sentence-transformers) (0.13.3)\n",
            "Requirement already satisfied: click in /usr/local/python/3.8.6/lib/python3.8/site-packages (from nltk->sentence-transformers) (8.1.3)\n",
            "Requirement already satisfied: joblib in /usr/local/python/3.8.6/lib/python3.8/site-packages (from nltk->sentence-transformers) (1.2.0)\n",
            "Requirement already satisfied: threadpoolctl>=2.0.0 in /usr/local/python/3.8.6/lib/python3.8/site-packages (from scikit-learn->sentence-transformers) (3.1.0)\n",
            "Requirement already satisfied: pillow!=8.3.*,>=5.3.0 in /usr/local/python/3.8.6/lib/python3.8/site-packages (from torchvision->sentence-transformers) (9.5.0)\n",
            "Requirement already satisfied: MarkupSafe>=2.0 in /usr/local/python/3.8.6/lib/python3.8/site-packages (from jinja2->torch>=1.6.0->sentence-transformers) (2.1.2)\n",
            "Requirement already satisfied: charset-normalizer<4,>=2 in /usr/local/python/3.8.6/lib/python3.8/site-packages (from requests->huggingface-hub>=0.4.0->sentence-transformers) (3.1.0)\n",
            "Requirement already satisfied: idna<4,>=2.5 in /usr/local/python/3.8.6/lib/python3.8/site-packages (from requests->huggingface-hub>=0.4.0->sentence-transformers) (3.4)\n",
            "Requirement already satisfied: urllib3<1.27,>=1.21.1 in /usr/local/python/3.8.6/lib/python3.8/site-packages (from requests->huggingface-hub>=0.4.0->sentence-transformers) (1.26.15)\n",
            "Requirement already satisfied: certifi>=2017.4.17 in /usr/local/python/3.8.6/lib/python3.8/site-packages (from requests->huggingface-hub>=0.4.0->sentence-transformers) (2022.12.7)\n",
            "Requirement already satisfied: mpmath>=0.19 in /usr/local/python/3.8.6/lib/python3.8/site-packages (from sympy->torch>=1.6.0->sentence-transformers) (1.3.0)\n",
            "Requirement already satisfied: contractions in /usr/local/python/3.8.6/lib/python3.8/site-packages (0.1.73)\n",
            "Requirement already satisfied: textsearch>=0.0.21 in /usr/local/python/3.8.6/lib/python3.8/site-packages (from contractions) (0.0.24)\n",
            "Requirement already satisfied: anyascii in /usr/local/python/3.8.6/lib/python3.8/site-packages (from textsearch>=0.0.21->contractions) (0.3.2)\n",
            "Requirement already satisfied: pyahocorasick in /usr/local/python/3.8.6/lib/python3.8/site-packages (from textsearch>=0.0.21->contractions) (2.0.0)\n",
            "Requirement already satisfied: bertopic in /usr/local/python/3.8.6/lib/python3.8/site-packages (0.14.1)\n",
            "Requirement already satisfied: numpy>=1.20.0 in /usr/local/python/3.8.6/lib/python3.8/site-packages (from bertopic) (1.23.5)\n",
            "Requirement already satisfied: hdbscan>=0.8.29 in /usr/local/python/3.8.6/lib/python3.8/site-packages (from bertopic) (0.8.29)\n",
            "Requirement already satisfied: umap-learn>=0.5.0 in /usr/local/python/3.8.6/lib/python3.8/site-packages (from bertopic) (0.5.3)\n",
            "Requirement already satisfied: pandas>=1.1.5 in /usr/local/python/3.8.6/lib/python3.8/site-packages (from bertopic) (2.0.1)\n",
            "Requirement already satisfied: scikit-learn>=0.22.2.post1 in /usr/local/python/3.8.6/lib/python3.8/site-packages (from bertopic) (1.2.2)\n",
            "Requirement already satisfied: tqdm>=4.41.1 in /usr/local/python/3.8.6/lib/python3.8/site-packages (from bertopic) (4.65.0)\n",
            "Requirement already satisfied: sentence-transformers>=0.4.1 in /usr/local/python/3.8.6/lib/python3.8/site-packages (from bertopic) (2.2.2)\n",
            "Requirement already satisfied: plotly>=4.7.0 in /usr/local/python/3.8.6/lib/python3.8/site-packages (from bertopic) (5.14.1)\n",
            "Requirement already satisfied: cython>=0.27 in /usr/local/python/3.8.6/lib/python3.8/site-packages (from hdbscan>=0.8.29->bertopic) (0.29.34)\n",
            "Requirement already satisfied: scipy>=1.0 in /usr/local/python/3.8.6/lib/python3.8/site-packages (from hdbscan>=0.8.29->bertopic) (1.10.1)\n",
            "Requirement already satisfied: joblib>=1.0 in /usr/local/python/3.8.6/lib/python3.8/site-packages (from hdbscan>=0.8.29->bertopic) (1.2.0)\n",
            "Requirement already satisfied: python-dateutil>=2.8.2 in /home/codespace/.local/lib/python3.8/site-packages (from pandas>=1.1.5->bertopic) (2.8.2)\n",
            "Requirement already satisfied: pytz>=2020.1 in /usr/local/python/3.8.6/lib/python3.8/site-packages (from pandas>=1.1.5->bertopic) (2023.3)\n",
            "Requirement already satisfied: tzdata>=2022.1 in /usr/local/python/3.8.6/lib/python3.8/site-packages (from pandas>=1.1.5->bertopic) (2023.3)\n",
            "Requirement already satisfied: tenacity>=6.2.0 in /usr/local/python/3.8.6/lib/python3.8/site-packages (from plotly>=4.7.0->bertopic) (8.2.2)\n",
            "Requirement already satisfied: packaging in /home/codespace/.local/lib/python3.8/site-packages (from plotly>=4.7.0->bertopic) (23.1)\n",
            "Requirement already satisfied: threadpoolctl>=2.0.0 in /usr/local/python/3.8.6/lib/python3.8/site-packages (from scikit-learn>=0.22.2.post1->bertopic) (3.1.0)\n",
            "Requirement already satisfied: transformers<5.0.0,>=4.6.0 in /usr/local/python/3.8.6/lib/python3.8/site-packages (from sentence-transformers>=0.4.1->bertopic) (4.28.1)\n",
            "Requirement already satisfied: torch>=1.6.0 in /usr/local/python/3.8.6/lib/python3.8/site-packages (from sentence-transformers>=0.4.1->bertopic) (2.0.0)\n",
            "Requirement already satisfied: torchvision in /usr/local/python/3.8.6/lib/python3.8/site-packages (from sentence-transformers>=0.4.1->bertopic) (0.15.1)\n",
            "Requirement already satisfied: nltk in /usr/local/python/3.8.6/lib/python3.8/site-packages (from sentence-transformers>=0.4.1->bertopic) (3.8.1)\n",
            "Requirement already satisfied: sentencepiece in /usr/local/python/3.8.6/lib/python3.8/site-packages (from sentence-transformers>=0.4.1->bertopic) (0.1.98)\n",
            "Requirement already satisfied: huggingface-hub>=0.4.0 in /usr/local/python/3.8.6/lib/python3.8/site-packages (from sentence-transformers>=0.4.1->bertopic) (0.14.1)\n",
            "Requirement already satisfied: numba>=0.49 in /usr/local/python/3.8.6/lib/python3.8/site-packages (from umap-learn>=0.5.0->bertopic) (0.56.4)\n",
            "Requirement already satisfied: pynndescent>=0.5 in /usr/local/python/3.8.6/lib/python3.8/site-packages (from umap-learn>=0.5.0->bertopic) (0.5.10)\n",
            "Requirement already satisfied: filelock in /usr/local/python/3.8.6/lib/python3.8/site-packages (from huggingface-hub>=0.4.0->sentence-transformers>=0.4.1->bertopic) (3.12.0)\n",
            "Requirement already satisfied: fsspec in /usr/local/python/3.8.6/lib/python3.8/site-packages (from huggingface-hub>=0.4.0->sentence-transformers>=0.4.1->bertopic) (2023.4.0)\n",
            "Requirement already satisfied: requests in /usr/local/python/3.8.6/lib/python3.8/site-packages (from huggingface-hub>=0.4.0->sentence-transformers>=0.4.1->bertopic) (2.29.0)\n",
            "Requirement already satisfied: pyyaml>=5.1 in /usr/local/python/3.8.6/lib/python3.8/site-packages (from huggingface-hub>=0.4.0->sentence-transformers>=0.4.1->bertopic) (6.0)\n",
            "Requirement already satisfied: typing-extensions>=3.7.4.3 in /home/codespace/.local/lib/python3.8/site-packages (from huggingface-hub>=0.4.0->sentence-transformers>=0.4.1->bertopic) (4.5.0)\n",
            "Requirement already satisfied: llvmlite<0.40,>=0.39.0dev0 in /usr/local/python/3.8.6/lib/python3.8/site-packages (from numba>=0.49->umap-learn>=0.5.0->bertopic) (0.39.1)\n",
            "Requirement already satisfied: setuptools in /usr/local/python/3.8.6/lib/python3.8/site-packages (from numba>=0.49->umap-learn>=0.5.0->bertopic) (63.3.0)\n",
            "Requirement already satisfied: importlib-metadata in /home/codespace/.local/lib/python3.8/site-packages (from numba>=0.49->umap-learn>=0.5.0->bertopic) (6.6.0)\n",
            "Requirement already satisfied: six>=1.5 in /home/codespace/.local/lib/python3.8/site-packages (from python-dateutil>=2.8.2->pandas>=1.1.5->bertopic) (1.16.0)\n",
            "Requirement already satisfied: sympy in /usr/local/python/3.8.6/lib/python3.8/site-packages (from torch>=1.6.0->sentence-transformers>=0.4.1->bertopic) (1.11.1)\n",
            "Requirement already satisfied: networkx in /usr/local/python/3.8.6/lib/python3.8/site-packages (from torch>=1.6.0->sentence-transformers>=0.4.1->bertopic) (3.1)\n",
            "Requirement already satisfied: jinja2 in /usr/local/python/3.8.6/lib/python3.8/site-packages (from torch>=1.6.0->sentence-transformers>=0.4.1->bertopic) (3.1.2)\n",
            "Requirement already satisfied: nvidia-cuda-nvrtc-cu11==11.7.99 in /usr/local/python/3.8.6/lib/python3.8/site-packages (from torch>=1.6.0->sentence-transformers>=0.4.1->bertopic) (11.7.99)\n",
            "Requirement already satisfied: nvidia-cuda-runtime-cu11==11.7.99 in /usr/local/python/3.8.6/lib/python3.8/site-packages (from torch>=1.6.0->sentence-transformers>=0.4.1->bertopic) (11.7.99)\n",
            "Requirement already satisfied: nvidia-cuda-cupti-cu11==11.7.101 in /usr/local/python/3.8.6/lib/python3.8/site-packages (from torch>=1.6.0->sentence-transformers>=0.4.1->bertopic) (11.7.101)\n",
            "Requirement already satisfied: nvidia-cudnn-cu11==8.5.0.96 in /usr/local/python/3.8.6/lib/python3.8/site-packages (from torch>=1.6.0->sentence-transformers>=0.4.1->bertopic) (8.5.0.96)\n",
            "Requirement already satisfied: nvidia-cublas-cu11==11.10.3.66 in /usr/local/python/3.8.6/lib/python3.8/site-packages (from torch>=1.6.0->sentence-transformers>=0.4.1->bertopic) (11.10.3.66)\n",
            "Requirement already satisfied: nvidia-cufft-cu11==10.9.0.58 in /usr/local/python/3.8.6/lib/python3.8/site-packages (from torch>=1.6.0->sentence-transformers>=0.4.1->bertopic) (10.9.0.58)\n",
            "Requirement already satisfied: nvidia-curand-cu11==10.2.10.91 in /usr/local/python/3.8.6/lib/python3.8/site-packages (from torch>=1.6.0->sentence-transformers>=0.4.1->bertopic) (10.2.10.91)\n",
            "Requirement already satisfied: nvidia-cusolver-cu11==11.4.0.1 in /usr/local/python/3.8.6/lib/python3.8/site-packages (from torch>=1.6.0->sentence-transformers>=0.4.1->bertopic) (11.4.0.1)\n",
            "Requirement already satisfied: nvidia-cusparse-cu11==11.7.4.91 in /usr/local/python/3.8.6/lib/python3.8/site-packages (from torch>=1.6.0->sentence-transformers>=0.4.1->bertopic) (11.7.4.91)\n",
            "Requirement already satisfied: nvidia-nccl-cu11==2.14.3 in /usr/local/python/3.8.6/lib/python3.8/site-packages (from torch>=1.6.0->sentence-transformers>=0.4.1->bertopic) (2.14.3)\n",
            "Requirement already satisfied: nvidia-nvtx-cu11==11.7.91 in /usr/local/python/3.8.6/lib/python3.8/site-packages (from torch>=1.6.0->sentence-transformers>=0.4.1->bertopic) (11.7.91)\n",
            "Requirement already satisfied: triton==2.0.0 in /usr/local/python/3.8.6/lib/python3.8/site-packages (from torch>=1.6.0->sentence-transformers>=0.4.1->bertopic) (2.0.0)\n",
            "Requirement already satisfied: wheel in /usr/local/python/3.8.6/lib/python3.8/site-packages (from nvidia-cublas-cu11==11.10.3.66->torch>=1.6.0->sentence-transformers>=0.4.1->bertopic) (0.37.1)\n",
            "Requirement already satisfied: cmake in /usr/local/python/3.8.6/lib/python3.8/site-packages (from triton==2.0.0->torch>=1.6.0->sentence-transformers>=0.4.1->bertopic) (3.26.3)\n",
            "Requirement already satisfied: lit in /usr/local/python/3.8.6/lib/python3.8/site-packages (from triton==2.0.0->torch>=1.6.0->sentence-transformers>=0.4.1->bertopic) (16.0.2)\n",
            "Requirement already satisfied: regex!=2019.12.17 in /usr/local/python/3.8.6/lib/python3.8/site-packages (from transformers<5.0.0,>=4.6.0->sentence-transformers>=0.4.1->bertopic) (2023.3.23)\n",
            "Requirement already satisfied: tokenizers!=0.11.3,<0.14,>=0.11.1 in /usr/local/python/3.8.6/lib/python3.8/site-packages (from transformers<5.0.0,>=4.6.0->sentence-transformers>=0.4.1->bertopic) (0.13.3)\n",
            "Requirement already satisfied: click in /usr/local/python/3.8.6/lib/python3.8/site-packages (from nltk->sentence-transformers>=0.4.1->bertopic) (8.1.3)\n",
            "Requirement already satisfied: pillow!=8.3.*,>=5.3.0 in /usr/local/python/3.8.6/lib/python3.8/site-packages (from torchvision->sentence-transformers>=0.4.1->bertopic) (9.5.0)\n",
            "Requirement already satisfied: zipp>=0.5 in /home/codespace/.local/lib/python3.8/site-packages (from importlib-metadata->numba>=0.49->umap-learn>=0.5.0->bertopic) (3.15.0)\n",
            "Requirement already satisfied: MarkupSafe>=2.0 in /usr/local/python/3.8.6/lib/python3.8/site-packages (from jinja2->torch>=1.6.0->sentence-transformers>=0.4.1->bertopic) (2.1.2)\n",
            "Requirement already satisfied: charset-normalizer<4,>=2 in /usr/local/python/3.8.6/lib/python3.8/site-packages (from requests->huggingface-hub>=0.4.0->sentence-transformers>=0.4.1->bertopic) (3.1.0)\n",
            "Requirement already satisfied: idna<4,>=2.5 in /usr/local/python/3.8.6/lib/python3.8/site-packages (from requests->huggingface-hub>=0.4.0->sentence-transformers>=0.4.1->bertopic) (3.4)\n",
            "Requirement already satisfied: urllib3<1.27,>=1.21.1 in /usr/local/python/3.8.6/lib/python3.8/site-packages (from requests->huggingface-hub>=0.4.0->sentence-transformers>=0.4.1->bertopic) (1.26.15)\n",
            "Requirement already satisfied: certifi>=2017.4.17 in /usr/local/python/3.8.6/lib/python3.8/site-packages (from requests->huggingface-hub>=0.4.0->sentence-transformers>=0.4.1->bertopic) (2022.12.7)\n",
            "Requirement already satisfied: mpmath>=0.19 in /usr/local/python/3.8.6/lib/python3.8/site-packages (from sympy->torch>=1.6.0->sentence-transformers>=0.4.1->bertopic) (1.3.0)\n",
            "Requirement already satisfied: gensim in /usr/local/python/3.8.6/lib/python3.8/site-packages (4.3.1)\n",
            "Requirement already satisfied: numpy>=1.18.5 in /usr/local/python/3.8.6/lib/python3.8/site-packages (from gensim) (1.23.5)\n",
            "Requirement already satisfied: scipy>=1.7.0 in /usr/local/python/3.8.6/lib/python3.8/site-packages (from gensim) (1.10.1)\n",
            "Requirement already satisfied: smart-open>=1.8.1 in /usr/local/python/3.8.6/lib/python3.8/site-packages (from gensim) (6.3.0)\n",
            "Requirement already satisfied: pyLDAvis in /usr/local/python/3.8.6/lib/python3.8/site-packages (3.4.0)\n",
            "Requirement already satisfied: numpy>=1.22.0 in /usr/local/python/3.8.6/lib/python3.8/site-packages (from pyLDAvis) (1.23.5)\n",
            "Requirement already satisfied: scipy in /usr/local/python/3.8.6/lib/python3.8/site-packages (from pyLDAvis) (1.10.1)\n",
            "Requirement already satisfied: pandas>=1.3.4 in /usr/local/python/3.8.6/lib/python3.8/site-packages (from pyLDAvis) (2.0.1)\n",
            "Requirement already satisfied: joblib>=1.2.0 in /usr/local/python/3.8.6/lib/python3.8/site-packages (from pyLDAvis) (1.2.0)\n",
            "Requirement already satisfied: jinja2 in /usr/local/python/3.8.6/lib/python3.8/site-packages (from pyLDAvis) (3.1.2)\n",
            "Requirement already satisfied: numexpr in /usr/local/python/3.8.6/lib/python3.8/site-packages (from pyLDAvis) (2.8.4)\n",
            "Requirement already satisfied: funcy in /usr/local/python/3.8.6/lib/python3.8/site-packages (from pyLDAvis) (2.0)\n",
            "Requirement already satisfied: scikit-learn>=1.0.0 in /usr/local/python/3.8.6/lib/python3.8/site-packages (from pyLDAvis) (1.2.2)\n",
            "Requirement already satisfied: gensim in /usr/local/python/3.8.6/lib/python3.8/site-packages (from pyLDAvis) (4.3.1)\n",
            "Requirement already satisfied: setuptools in /usr/local/python/3.8.6/lib/python3.8/site-packages (from pyLDAvis) (63.3.0)\n",
            "Requirement already satisfied: python-dateutil>=2.8.2 in /home/codespace/.local/lib/python3.8/site-packages (from pandas>=1.3.4->pyLDAvis) (2.8.2)\n",
            "Requirement already satisfied: pytz>=2020.1 in /usr/local/python/3.8.6/lib/python3.8/site-packages (from pandas>=1.3.4->pyLDAvis) (2023.3)\n",
            "Requirement already satisfied: tzdata>=2022.1 in /usr/local/python/3.8.6/lib/python3.8/site-packages (from pandas>=1.3.4->pyLDAvis) (2023.3)\n",
            "Requirement already satisfied: threadpoolctl>=2.0.0 in /usr/local/python/3.8.6/lib/python3.8/site-packages (from scikit-learn>=1.0.0->pyLDAvis) (3.1.0)\n",
            "Requirement already satisfied: smart-open>=1.8.1 in /usr/local/python/3.8.6/lib/python3.8/site-packages (from gensim->pyLDAvis) (6.3.0)\n",
            "Requirement already satisfied: MarkupSafe>=2.0 in /usr/local/python/3.8.6/lib/python3.8/site-packages (from jinja2->pyLDAvis) (2.1.2)\n",
            "Requirement already satisfied: six>=1.5 in /home/codespace/.local/lib/python3.8/site-packages (from python-dateutil>=2.8.2->pandas>=1.3.4->pyLDAvis) (1.16.0)\n",
            "Requirement already satisfied: spacy in /usr/local/python/3.8.6/lib/python3.8/site-packages (3.5.2)\n",
            "Requirement already satisfied: spacy-legacy<3.1.0,>=3.0.11 in /usr/local/python/3.8.6/lib/python3.8/site-packages (from spacy) (3.0.12)\n",
            "Requirement already satisfied: spacy-loggers<2.0.0,>=1.0.0 in /usr/local/python/3.8.6/lib/python3.8/site-packages (from spacy) (1.0.4)\n",
            "Requirement already satisfied: murmurhash<1.1.0,>=0.28.0 in /usr/local/python/3.8.6/lib/python3.8/site-packages (from spacy) (1.0.9)\n",
            "Requirement already satisfied: cymem<2.1.0,>=2.0.2 in /usr/local/python/3.8.6/lib/python3.8/site-packages (from spacy) (2.0.7)\n",
            "Requirement already satisfied: preshed<3.1.0,>=3.0.2 in /usr/local/python/3.8.6/lib/python3.8/site-packages (from spacy) (3.0.8)\n",
            "Requirement already satisfied: thinc<8.2.0,>=8.1.8 in /usr/local/python/3.8.6/lib/python3.8/site-packages (from spacy) (8.1.9)\n",
            "Requirement already satisfied: wasabi<1.2.0,>=0.9.1 in /usr/local/python/3.8.6/lib/python3.8/site-packages (from spacy) (1.1.1)\n",
            "Requirement already satisfied: srsly<3.0.0,>=2.4.3 in /usr/local/python/3.8.6/lib/python3.8/site-packages (from spacy) (2.4.6)\n",
            "Requirement already satisfied: catalogue<2.1.0,>=2.0.6 in /usr/local/python/3.8.6/lib/python3.8/site-packages (from spacy) (2.0.8)\n",
            "Requirement already satisfied: typer<0.8.0,>=0.3.0 in /usr/local/python/3.8.6/lib/python3.8/site-packages (from spacy) (0.7.0)\n",
            "Requirement already satisfied: pathy>=0.10.0 in /usr/local/python/3.8.6/lib/python3.8/site-packages (from spacy) (0.10.1)\n",
            "Requirement already satisfied: smart-open<7.0.0,>=5.2.1 in /usr/local/python/3.8.6/lib/python3.8/site-packages (from spacy) (6.3.0)\n",
            "Requirement already satisfied: tqdm<5.0.0,>=4.38.0 in /usr/local/python/3.8.6/lib/python3.8/site-packages (from spacy) (4.65.0)\n",
            "Requirement already satisfied: numpy>=1.15.0 in /usr/local/python/3.8.6/lib/python3.8/site-packages (from spacy) (1.23.5)\n",
            "Requirement already satisfied: requests<3.0.0,>=2.13.0 in /usr/local/python/3.8.6/lib/python3.8/site-packages (from spacy) (2.29.0)\n",
            "Requirement already satisfied: pydantic!=1.8,!=1.8.1,<1.11.0,>=1.7.4 in /usr/local/python/3.8.6/lib/python3.8/site-packages (from spacy) (1.10.7)\n",
            "Requirement already satisfied: jinja2 in /usr/local/python/3.8.6/lib/python3.8/site-packages (from spacy) (3.1.2)\n",
            "Requirement already satisfied: setuptools in /usr/local/python/3.8.6/lib/python3.8/site-packages (from spacy) (63.3.0)\n",
            "Requirement already satisfied: packaging>=20.0 in /home/codespace/.local/lib/python3.8/site-packages (from spacy) (23.1)\n",
            "Requirement already satisfied: langcodes<4.0.0,>=3.2.0 in /usr/local/python/3.8.6/lib/python3.8/site-packages (from spacy) (3.3.0)\n",
            "Requirement already satisfied: typing-extensions>=4.2.0 in /home/codespace/.local/lib/python3.8/site-packages (from pydantic!=1.8,!=1.8.1,<1.11.0,>=1.7.4->spacy) (4.5.0)\n",
            "Requirement already satisfied: charset-normalizer<4,>=2 in /usr/local/python/3.8.6/lib/python3.8/site-packages (from requests<3.0.0,>=2.13.0->spacy) (3.1.0)\n",
            "Requirement already satisfied: idna<4,>=2.5 in /usr/local/python/3.8.6/lib/python3.8/site-packages (from requests<3.0.0,>=2.13.0->spacy) (3.4)\n",
            "Requirement already satisfied: urllib3<1.27,>=1.21.1 in /usr/local/python/3.8.6/lib/python3.8/site-packages (from requests<3.0.0,>=2.13.0->spacy) (1.26.15)\n",
            "Requirement already satisfied: certifi>=2017.4.17 in /usr/local/python/3.8.6/lib/python3.8/site-packages (from requests<3.0.0,>=2.13.0->spacy) (2022.12.7)\n",
            "Requirement already satisfied: blis<0.8.0,>=0.7.8 in /usr/local/python/3.8.6/lib/python3.8/site-packages (from thinc<8.2.0,>=8.1.8->spacy) (0.7.9)\n",
            "Requirement already satisfied: confection<1.0.0,>=0.0.1 in /usr/local/python/3.8.6/lib/python3.8/site-packages (from thinc<8.2.0,>=8.1.8->spacy) (0.0.4)\n",
            "Requirement already satisfied: click<9.0.0,>=7.1.1 in /usr/local/python/3.8.6/lib/python3.8/site-packages (from typer<0.8.0,>=0.3.0->spacy) (8.1.3)\n",
            "Requirement already satisfied: MarkupSafe>=2.0 in /usr/local/python/3.8.6/lib/python3.8/site-packages (from jinja2->spacy) (2.1.2)\n",
            "Requirement already satisfied: requests in /usr/local/python/3.8.6/lib/python3.8/site-packages (2.29.0)\n",
            "Requirement already satisfied: charset-normalizer<4,>=2 in /usr/local/python/3.8.6/lib/python3.8/site-packages (from requests) (3.1.0)\n",
            "Requirement already satisfied: idna<4,>=2.5 in /usr/local/python/3.8.6/lib/python3.8/site-packages (from requests) (3.4)\n",
            "Requirement already satisfied: urllib3<1.27,>=1.21.1 in /usr/local/python/3.8.6/lib/python3.8/site-packages (from requests) (1.26.15)\n",
            "Requirement already satisfied: certifi>=2017.4.17 in /usr/local/python/3.8.6/lib/python3.8/site-packages (from requests) (2022.12.7)\n",
            "Requirement already satisfied: beautifulsoup4 in /usr/local/python/3.8.6/lib/python3.8/site-packages (4.12.2)\n",
            "Requirement already satisfied: soupsieve>1.2 in /usr/local/python/3.8.6/lib/python3.8/site-packages (from beautifulsoup4) (2.4.1)\n",
            "Requirement already satisfied: lxml in /usr/local/python/3.8.6/lib/python3.8/site-packages (4.9.2)\n",
            "Requirement already satisfied: transformers in /usr/local/python/3.8.6/lib/python3.8/site-packages (4.28.1)\n",
            "Requirement already satisfied: filelock in /usr/local/python/3.8.6/lib/python3.8/site-packages (from transformers) (3.12.0)\n",
            "Requirement already satisfied: huggingface-hub<1.0,>=0.11.0 in /usr/local/python/3.8.6/lib/python3.8/site-packages (from transformers) (0.14.1)\n",
            "Requirement already satisfied: numpy>=1.17 in /usr/local/python/3.8.6/lib/python3.8/site-packages (from transformers) (1.23.5)\n",
            "Requirement already satisfied: packaging>=20.0 in /home/codespace/.local/lib/python3.8/site-packages (from transformers) (23.1)\n",
            "Requirement already satisfied: pyyaml>=5.1 in /usr/local/python/3.8.6/lib/python3.8/site-packages (from transformers) (6.0)\n",
            "Requirement already satisfied: regex!=2019.12.17 in /usr/local/python/3.8.6/lib/python3.8/site-packages (from transformers) (2023.3.23)\n",
            "Requirement already satisfied: requests in /usr/local/python/3.8.6/lib/python3.8/site-packages (from transformers) (2.29.0)\n",
            "Requirement already satisfied: tokenizers!=0.11.3,<0.14,>=0.11.1 in /usr/local/python/3.8.6/lib/python3.8/site-packages (from transformers) (0.13.3)\n",
            "Requirement already satisfied: tqdm>=4.27 in /usr/local/python/3.8.6/lib/python3.8/site-packages (from transformers) (4.65.0)\n",
            "Requirement already satisfied: fsspec in /usr/local/python/3.8.6/lib/python3.8/site-packages (from huggingface-hub<1.0,>=0.11.0->transformers) (2023.4.0)\n",
            "Requirement already satisfied: typing-extensions>=3.7.4.3 in /home/codespace/.local/lib/python3.8/site-packages (from huggingface-hub<1.0,>=0.11.0->transformers) (4.5.0)\n",
            "Requirement already satisfied: charset-normalizer<4,>=2 in /usr/local/python/3.8.6/lib/python3.8/site-packages (from requests->transformers) (3.1.0)\n",
            "Requirement already satisfied: idna<4,>=2.5 in /usr/local/python/3.8.6/lib/python3.8/site-packages (from requests->transformers) (3.4)\n",
            "Requirement already satisfied: urllib3<1.27,>=1.21.1 in /usr/local/python/3.8.6/lib/python3.8/site-packages (from requests->transformers) (1.26.15)\n",
            "Requirement already satisfied: certifi>=2017.4.17 in /usr/local/python/3.8.6/lib/python3.8/site-packages (from requests->transformers) (2022.12.7)\n",
            "Requirement already satisfied: pyvis in /usr/local/python/3.8.6/lib/python3.8/site-packages (0.3.2)\n",
            "Requirement already satisfied: ipython>=5.3.0 in /home/codespace/.local/lib/python3.8/site-packages (from pyvis) (8.12.1)\n",
            "Requirement already satisfied: jinja2>=2.9.6 in /usr/local/python/3.8.6/lib/python3.8/site-packages (from pyvis) (3.1.2)\n",
            "Requirement already satisfied: jsonpickle>=1.4.1 in /usr/local/python/3.8.6/lib/python3.8/site-packages (from pyvis) (3.0.1)\n",
            "Requirement already satisfied: networkx>=1.11 in /usr/local/python/3.8.6/lib/python3.8/site-packages (from pyvis) (3.1)\n",
            "Requirement already satisfied: backcall in /home/codespace/.local/lib/python3.8/site-packages (from ipython>=5.3.0->pyvis) (0.2.0)\n",
            "Requirement already satisfied: decorator in /home/codespace/.local/lib/python3.8/site-packages (from ipython>=5.3.0->pyvis) (5.1.1)\n",
            "Requirement already satisfied: jedi>=0.16 in /home/codespace/.local/lib/python3.8/site-packages (from ipython>=5.3.0->pyvis) (0.18.2)\n",
            "Requirement already satisfied: matplotlib-inline in /home/codespace/.local/lib/python3.8/site-packages (from ipython>=5.3.0->pyvis) (0.1.6)\n",
            "Requirement already satisfied: pickleshare in /home/codespace/.local/lib/python3.8/site-packages (from ipython>=5.3.0->pyvis) (0.7.5)\n",
            "Requirement already satisfied: prompt-toolkit!=3.0.37,<3.1.0,>=3.0.30 in /home/codespace/.local/lib/python3.8/site-packages (from ipython>=5.3.0->pyvis) (3.0.38)\n",
            "Requirement already satisfied: pygments>=2.4.0 in /home/codespace/.local/lib/python3.8/site-packages (from ipython>=5.3.0->pyvis) (2.15.1)\n",
            "Requirement already satisfied: stack-data in /home/codespace/.local/lib/python3.8/site-packages (from ipython>=5.3.0->pyvis) (0.6.2)\n",
            "Requirement already satisfied: traitlets>=5 in /home/codespace/.local/lib/python3.8/site-packages (from ipython>=5.3.0->pyvis) (5.9.0)\n",
            "Requirement already satisfied: typing-extensions in /home/codespace/.local/lib/python3.8/site-packages (from ipython>=5.3.0->pyvis) (4.5.0)\n",
            "Requirement already satisfied: pexpect>4.3 in /home/codespace/.local/lib/python3.8/site-packages (from ipython>=5.3.0->pyvis) (4.8.0)\n",
            "Requirement already satisfied: MarkupSafe>=2.0 in /usr/local/python/3.8.6/lib/python3.8/site-packages (from jinja2>=2.9.6->pyvis) (2.1.2)\n",
            "Requirement already satisfied: parso<0.9.0,>=0.8.0 in /home/codespace/.local/lib/python3.8/site-packages (from jedi>=0.16->ipython>=5.3.0->pyvis) (0.8.3)\n",
            "Requirement already satisfied: ptyprocess>=0.5 in /home/codespace/.local/lib/python3.8/site-packages (from pexpect>4.3->ipython>=5.3.0->pyvis) (0.7.0)\n",
            "Requirement already satisfied: wcwidth in /home/codespace/.local/lib/python3.8/site-packages (from prompt-toolkit!=3.0.37,<3.1.0,>=3.0.30->ipython>=5.3.0->pyvis) (0.2.6)\n",
            "Requirement already satisfied: executing>=1.2.0 in /home/codespace/.local/lib/python3.8/site-packages (from stack-data->ipython>=5.3.0->pyvis) (1.2.0)\n",
            "Requirement already satisfied: asttokens>=2.1.0 in /home/codespace/.local/lib/python3.8/site-packages (from stack-data->ipython>=5.3.0->pyvis) (2.2.1)\n",
            "Requirement already satisfied: pure-eval in /home/codespace/.local/lib/python3.8/site-packages (from stack-data->ipython>=5.3.0->pyvis) (0.2.2)\n",
            "Requirement already satisfied: six in /home/codespace/.local/lib/python3.8/site-packages (from asttokens>=2.1.0->stack-data->ipython>=5.3.0->pyvis) (1.16.0)\n",
            "Requirement already satisfied: matplotlib in /usr/local/python/3.8.6/lib/python3.8/site-packages (3.7.1)\n",
            "Requirement already satisfied: contourpy>=1.0.1 in /usr/local/python/3.8.6/lib/python3.8/site-packages (from matplotlib) (1.0.7)\n",
            "Requirement already satisfied: cycler>=0.10 in /usr/local/python/3.8.6/lib/python3.8/site-packages (from matplotlib) (0.11.0)\n",
            "Requirement already satisfied: fonttools>=4.22.0 in /usr/local/python/3.8.6/lib/python3.8/site-packages (from matplotlib) (4.39.3)\n",
            "Requirement already satisfied: kiwisolver>=1.0.1 in /usr/local/python/3.8.6/lib/python3.8/site-packages (from matplotlib) (1.4.4)\n",
            "Requirement already satisfied: numpy>=1.20 in /usr/local/python/3.8.6/lib/python3.8/site-packages (from matplotlib) (1.23.5)\n",
            "Requirement already satisfied: packaging>=20.0 in /home/codespace/.local/lib/python3.8/site-packages (from matplotlib) (23.1)\n",
            "Requirement already satisfied: pillow>=6.2.0 in /usr/local/python/3.8.6/lib/python3.8/site-packages (from matplotlib) (9.5.0)\n",
            "Requirement already satisfied: pyparsing>=2.3.1 in /usr/local/python/3.8.6/lib/python3.8/site-packages (from matplotlib) (3.0.9)\n",
            "Requirement already satisfied: python-dateutil>=2.7 in /home/codespace/.local/lib/python3.8/site-packages (from matplotlib) (2.8.2)\n",
            "Requirement already satisfied: importlib-resources>=3.2.0 in /usr/local/python/3.8.6/lib/python3.8/site-packages (from matplotlib) (5.12.0)\n",
            "Requirement already satisfied: zipp>=3.1.0 in /home/codespace/.local/lib/python3.8/site-packages (from importlib-resources>=3.2.0->matplotlib) (3.15.0)\n",
            "Requirement already satisfied: six>=1.5 in /home/codespace/.local/lib/python3.8/site-packages (from python-dateutil>=2.7->matplotlib) (1.16.0)\n"
          ]
        }
      ],
      "source": [
        "!pip install nltk\n",
        "!pip install sentence-transformers\n",
        "!pip install contractions\n",
        "!pip install bertopic\n",
        "!pip install gensim\n",
        "!pip install pyLDAvis\n",
        "!pip install spacy\n",
        "!pip install requests\n",
        "!pip install beautifulsoup4\n",
        "!pip install lxml\n",
        "!pip install transformers \n",
        "!pip install pyvis\n",
        "!pip install matplotlib"
      ]
    },
    {
      "cell_type": "code",
      "execution_count": 2,
      "metadata": {
        "id": "SWa2_MA6BA7R"
      },
      "outputs": [
        {
          "name": "stderr",
          "output_type": "stream",
          "text": [
            "/home/codespace/.python/current/lib/python3.8/site-packages/tqdm/auto.py:21: TqdmWarning: IProgress not found. Please update jupyter and ipywidgets. See https://ipywidgets.readthedocs.io/en/stable/user_install.html\n",
            "  from .autonotebook import tqdm as notebook_tqdm\n"
          ]
        }
      ],
      "source": [
        "import requests\n",
        "import pandas as pd\n",
        "import bs4 as bs\n",
        "import urllib.request\n",
        "import json\n",
        "import contractions\n",
        "import re\n",
        "import nltk\n",
        "from nltk.tokenize import word_tokenize\n",
        "from nltk.corpus import stopwords\n",
        "from spacy import displacy\n",
        "from bertopic import BERTopic\n",
        "import os\n",
        "# from google.colab import drive\n",
        "# drive.mount('/content/drive', force_remount=True)\n",
        "import pyLDAvis\n",
        "import gensim\n",
        "import spacy\n",
        "import gensim.corpora as corpora\n",
        "from gensim.models import CoherenceModel\n",
        "import pyLDAvis.gensim_models as gensimvis\n",
        "from gensim.utils import simple_preprocess\n",
        "import matplotlib.pyplot as plt\n",
        "from nltk.stem import WordNetLemmatizer\n",
        "from gensim import corpora\n",
        "import collections\n",
        "from collections import Counter\n",
        "from sklearn.feature_extraction.text import CountVectorizer\n",
        "from sklearn.decomposition import LatentDirichletAllocation\n",
        "import string\n",
        "from nltk.sentiment import SentimentIntensityAnalyzer\n",
        "from transformers import AutoModelForSeq2SeqLM, AutoTokenizer\n",
        "import math\n",
        "import torch\n",
        "from pyvis.network import Network\n"
      ]
    },
    {
      "cell_type": "code",
      "execution_count": 3,
      "metadata": {
        "id": "u1eTS-bG8loD"
      },
      "outputs": [],
      "source": [
        "import locale\n",
        "locale.getpreferredencoding = lambda: \"UTF-8\""
      ]
    },
    {
      "cell_type": "code",
      "execution_count": 4,
      "metadata": {
        "id": "zEdMBa3lZti8"
      },
      "outputs": [],
      "source": [
        "import warnings\n",
        "warnings.filterwarnings('ignore', 'Calling')\n",
        "warnings.filterwarnings('ignore', 'For a faster implementation')\n",
        "warnings.filterwarnings('ignore', 'In')\n",
        "warnings.filterwarnings('ignore', 'SelectableGroups dict interface')\n",
        "warnings.filterwarnings('ignore', '`np')\n",
        "warnings.filterwarnings('ignore', 'SelectableGroups')"
      ]
    },
    {
      "cell_type": "code",
      "execution_count": 5,
      "metadata": {
        "id": "kYUE9bBoVQjU"
      },
      "outputs": [
        {
          "name": "stderr",
          "output_type": "stream",
          "text": [
            "[nltk_data] Downloading package stopwords to\n",
            "[nltk_data]     /home/codespace/nltk_data...\n",
            "[nltk_data]   Package stopwords is already up-to-date!\n",
            "[nltk_data] Downloading package averaged_perceptron_tagger to\n",
            "[nltk_data]     /home/codespace/nltk_data...\n",
            "[nltk_data]   Package averaged_perceptron_tagger is already up-to-\n",
            "[nltk_data]       date!\n",
            "[nltk_data] Downloading package universal_tagset to\n",
            "[nltk_data]     /home/codespace/nltk_data...\n",
            "[nltk_data]   Package universal_tagset is already up-to-date!\n",
            "[nltk_data] Downloading package wordnet to\n",
            "[nltk_data]     /home/codespace/nltk_data...\n",
            "[nltk_data]   Package wordnet is already up-to-date!\n",
            "[nltk_data] Downloading package punkt to /home/codespace/nltk_data...\n",
            "[nltk_data]   Package punkt is already up-to-date!\n",
            "[nltk_data] Downloading package vader_lexicon to\n",
            "[nltk_data]     /home/codespace/nltk_data...\n",
            "[nltk_data]   Package vader_lexicon is already up-to-date!\n"
          ]
        },
        {
          "data": {
            "text/plain": [
              "True"
            ]
          },
          "execution_count": 5,
          "metadata": {},
          "output_type": "execute_result"
        }
      ],
      "source": [
        "nltk.download('stopwords')\n",
        "nltk.download('averaged_perceptron_tagger')\n",
        "nltk.download('universal_tagset')\n",
        "nltk.download('wordnet')\n",
        "nltk.download('punkt')\n",
        "nltk.download('vader_lexicon')\n"
      ]
    },
    {
      "cell_type": "code",
      "execution_count": 81,
      "metadata": {
        "id": "TPtvD1PKhdUx"
      },
      "outputs": [],
      "source": [
        "# data=pd.read_csv('/content/drive/MyDrive/Teams/Petabyte Transformers/Code/NLP_poems/Pushcart_Nomination.csv')"
      ]
    },
    {
      "cell_type": "code",
      "execution_count": 82,
      "metadata": {},
      "outputs": [],
      "source": [
        "# data=pd.read_csv('Pushcart_Nomination.csv')"
      ]
    },
    {
      "cell_type": "code",
      "execution_count": 7,
      "metadata": {},
      "outputs": [],
      "source": [
        "data=pd.read_csv('/workspaces/CMPE257/Pushcart_Non-nominated.csv')"
      ]
    },
    {
      "cell_type": "code",
      "execution_count": 8,
      "metadata": {
        "id": "nt7iqpEJipbJ"
      },
      "outputs": [
        {
          "data": {
            "text/html": [
              "<div>\n",
              "<style scoped>\n",
              "    .dataframe tbody tr th:only-of-type {\n",
              "        vertical-align: middle;\n",
              "    }\n",
              "\n",
              "    .dataframe tbody tr th {\n",
              "        vertical-align: top;\n",
              "    }\n",
              "\n",
              "    .dataframe thead th {\n",
              "        text-align: right;\n",
              "    }\n",
              "</style>\n",
              "<table border=\"1\" class=\"dataframe\">\n",
              "  <thead>\n",
              "    <tr style=\"text-align: right;\">\n",
              "      <th></th>\n",
              "      <th>Author</th>\n",
              "      <th>Title</th>\n",
              "      <th>Poem</th>\n",
              "      <th>Year</th>\n",
              "    </tr>\n",
              "  </thead>\n",
              "  <tbody>\n",
              "    <tr>\n",
              "      <th>0</th>\n",
              "      <td>Chaitra</td>\n",
              "      <td>The Desire</td>\n",
              "      <td>Dont desire someone based on their attire;\\nFo...</td>\n",
              "      <td>2020</td>\n",
              "    </tr>\n",
              "    <tr>\n",
              "      <th>1</th>\n",
              "      <td>Chaitra</td>\n",
              "      <td>Sky-watching</td>\n",
              "      <td>Gazing at the star which is so far,\\nPraying f...</td>\n",
              "      <td>2022</td>\n",
              "    </tr>\n",
              "    <tr>\n",
              "      <th>2</th>\n",
              "      <td>Chaitra</td>\n",
              "      <td>Breathlessness</td>\n",
              "      <td>I wanna live, I don't want to die\\nBut I can't...</td>\n",
              "      <td>2021</td>\n",
              "    </tr>\n",
              "    <tr>\n",
              "      <th>3</th>\n",
              "      <td>Chaitra</td>\n",
              "      <td>Dating</td>\n",
              "      <td>Dating is too much labour \\nWhen you don't eve...</td>\n",
              "      <td>2021</td>\n",
              "    </tr>\n",
              "    <tr>\n",
              "      <th>4</th>\n",
              "      <td>Chaitra</td>\n",
              "      <td>Dearest</td>\n",
              "      <td>This distance has caused hindrance \\nbut hope ...</td>\n",
              "      <td>2020</td>\n",
              "    </tr>\n",
              "  </tbody>\n",
              "</table>\n",
              "</div>"
            ],
            "text/plain": [
              "    Author           Title                                               Poem   \n",
              "0  Chaitra      The Desire  Dont desire someone based on their attire;\\nFo...  \\\n",
              "1  Chaitra    Sky-watching  Gazing at the star which is so far,\\nPraying f...   \n",
              "2  Chaitra  Breathlessness  I wanna live, I don't want to die\\nBut I can't...   \n",
              "3  Chaitra          Dating  Dating is too much labour \\nWhen you don't eve...   \n",
              "4  Chaitra         Dearest  This distance has caused hindrance \\nbut hope ...   \n",
              "\n",
              "   Year  \n",
              "0  2020  \n",
              "1  2022  \n",
              "2  2021  \n",
              "3  2021  \n",
              "4  2020  "
            ]
          },
          "execution_count": 8,
          "metadata": {},
          "output_type": "execute_result"
        }
      ],
      "source": [
        "data.head()"
      ]
    },
    {
      "cell_type": "code",
      "execution_count": 84,
      "metadata": {},
      "outputs": [
        {
          "data": {
            "text/html": [
              "<div>\n",
              "<style scoped>\n",
              "    .dataframe tbody tr th:only-of-type {\n",
              "        vertical-align: middle;\n",
              "    }\n",
              "\n",
              "    .dataframe tbody tr th {\n",
              "        vertical-align: top;\n",
              "    }\n",
              "\n",
              "    .dataframe thead th {\n",
              "        text-align: right;\n",
              "    }\n",
              "</style>\n",
              "<table border=\"1\" class=\"dataframe\">\n",
              "  <thead>\n",
              "    <tr style=\"text-align: right;\">\n",
              "      <th></th>\n",
              "      <th>Author</th>\n",
              "      <th>Title</th>\n",
              "      <th>Poem</th>\n",
              "      <th>Year</th>\n",
              "    </tr>\n",
              "  </thead>\n",
              "  <tbody>\n",
              "    <tr>\n",
              "      <th>0</th>\n",
              "      <td>Phoebe Bubendorfer</td>\n",
              "      <td>OIL SPILL</td>\n",
              "      <td>A red-throated loon\\nmired in a slick of oil\\n...</td>\n",
              "      <td>2022</td>\n",
              "    </tr>\n",
              "    <tr>\n",
              "      <th>1</th>\n",
              "      <td>Bill Graeser</td>\n",
              "      <td>THE BURNING OF THE WHALES</td>\n",
              "      <td>Fire never seems to mind\\nwhether it's the cur...</td>\n",
              "      <td>2022</td>\n",
              "    </tr>\n",
              "    <tr>\n",
              "      <th>2</th>\n",
              "      <td>John Mitchell</td>\n",
              "      <td>THE BUFFALO</td>\n",
              "      <td>The buffalo stands still in the wind.\\nStaring...</td>\n",
              "      <td>2022</td>\n",
              "    </tr>\n",
              "    <tr>\n",
              "      <th>3</th>\n",
              "      <td>Lily Nelson</td>\n",
              "      <td>FEVER</td>\n",
              "      <td>You are nine\\n      Lying on the front room co...</td>\n",
              "      <td>2022</td>\n",
              "    </tr>\n",
              "    <tr>\n",
              "      <th>4</th>\n",
              "      <td>Lucille Morgan Wilson</td>\n",
              "      <td>LISTENING TO DVORAK'S HUMORESQUE</td>\n",
              "      <td>The fingered notes play up and down my spine\\n...</td>\n",
              "      <td>2022</td>\n",
              "    </tr>\n",
              "    <tr>\n",
              "      <th>5</th>\n",
              "      <td>Allison Berryhill</td>\n",
              "      <td>SONNET TO MY STUDENTS ON THE FIRST DAY OF CLASS</td>\n",
              "      <td>Come in and make a mess with all your thoughts...</td>\n",
              "      <td>2021</td>\n",
              "    </tr>\n",
              "    <tr>\n",
              "      <th>6</th>\n",
              "      <td>Heather Ann Clark</td>\n",
              "      <td>TURTLE SHELLS</td>\n",
              "      <td>My therapist asks what else is on my mind.\\n\\n...</td>\n",
              "      <td>2021</td>\n",
              "    </tr>\n",
              "    <tr>\n",
              "      <th>7</th>\n",
              "      <td>Jared Pearce</td>\n",
              "      <td>ILLNESS</td>\n",
              "      <td>It's like waiting for the elevator\\ndoors to r...</td>\n",
              "      <td>2021</td>\n",
              "    </tr>\n",
              "    <tr>\n",
              "      <th>8</th>\n",
              "      <td>Shelly Reed Thieman</td>\n",
              "      <td>ON THE ANNIVERSARY OF ANOTHER WINTER</td>\n",
              "      <td>Tongue-tied with suet and peanut\\nbutter, a qu...</td>\n",
              "      <td>2021</td>\n",
              "    </tr>\n",
              "    <tr>\n",
              "      <th>9</th>\n",
              "      <td>Erik Trilk</td>\n",
              "      <td>DAZED AND CONFUSED</td>\n",
              "      <td>It won't be long until I'm with the moon\\nthis...</td>\n",
              "      <td>2021</td>\n",
              "    </tr>\n",
              "    <tr>\n",
              "      <th>10</th>\n",
              "      <td>Christopher Hunter</td>\n",
              "      <td>LOUISA, AGE 6, AT REST</td>\n",
              "      <td>Louisa alighting into place\\nAlways dazzles me...</td>\n",
              "      <td>2023</td>\n",
              "    </tr>\n",
              "    <tr>\n",
              "      <th>11</th>\n",
              "      <td>Susan J Koch</td>\n",
              "      <td>SOFIA</td>\n",
              "      <td>I cannot disremember\\nthree carefree boys\\ndra...</td>\n",
              "      <td>2023</td>\n",
              "    </tr>\n",
              "    <tr>\n",
              "      <th>12</th>\n",
              "      <td>John Mitchell</td>\n",
              "      <td>NICHOLAS II</td>\n",
              "      <td>The ghost of the Tsar walks.\\nHe passes some J...</td>\n",
              "      <td>2023</td>\n",
              "    </tr>\n",
              "    <tr>\n",
              "      <th>13</th>\n",
              "      <td>Alise Palmer</td>\n",
              "      <td>BELTANE</td>\n",
              "      <td>A boy green shouldered, grows\\nlike corn endle...</td>\n",
              "      <td>2023</td>\n",
              "    </tr>\n",
              "    <tr>\n",
              "      <th>14</th>\n",
              "      <td>Rose Postma</td>\n",
              "      <td>ON TELLING MY MOTHER I AM PREGNANT AGAIN</td>\n",
              "      <td>My mother, who spent the day after my birth tr...</td>\n",
              "      <td>2023</td>\n",
              "    </tr>\n",
              "  </tbody>\n",
              "</table>\n",
              "</div>"
            ],
            "text/plain": [
              "                   Author                                            Title   \n",
              "0      Phoebe Bubendorfer                                        OIL SPILL  \\\n",
              "1            Bill Graeser                        THE BURNING OF THE WHALES   \n",
              "2           John Mitchell                                      THE BUFFALO   \n",
              "3             Lily Nelson                                            FEVER   \n",
              "4   Lucille Morgan Wilson                 LISTENING TO DVORAK'S HUMORESQUE   \n",
              "5       Allison Berryhill  SONNET TO MY STUDENTS ON THE FIRST DAY OF CLASS   \n",
              "6       Heather Ann Clark                                    TURTLE SHELLS   \n",
              "7            Jared Pearce                                          ILLNESS   \n",
              "8     Shelly Reed Thieman             ON THE ANNIVERSARY OF ANOTHER WINTER   \n",
              "9              Erik Trilk                               DAZED AND CONFUSED   \n",
              "10     Christopher Hunter                           LOUISA, AGE 6, AT REST   \n",
              "11           Susan J Koch                                            SOFIA   \n",
              "12          John Mitchell                                      NICHOLAS II   \n",
              "13           Alise Palmer                                          BELTANE   \n",
              "14            Rose Postma         ON TELLING MY MOTHER I AM PREGNANT AGAIN   \n",
              "\n",
              "                                                 Poem  Year  \n",
              "0   A red-throated loon\\nmired in a slick of oil\\n...  2022  \n",
              "1   Fire never seems to mind\\nwhether it's the cur...  2022  \n",
              "2   The buffalo stands still in the wind.\\nStaring...  2022  \n",
              "3   You are nine\\n      Lying on the front room co...  2022  \n",
              "4   The fingered notes play up and down my spine\\n...  2022  \n",
              "5   Come in and make a mess with all your thoughts...  2021  \n",
              "6   My therapist asks what else is on my mind.\\n\\n...  2021  \n",
              "7   It's like waiting for the elevator\\ndoors to r...  2021  \n",
              "8   Tongue-tied with suet and peanut\\nbutter, a qu...  2021  \n",
              "9   It won't be long until I'm with the moon\\nthis...  2021  \n",
              "10  Louisa alighting into place\\nAlways dazzles me...  2023  \n",
              "11  I cannot disremember\\nthree carefree boys\\ndra...  2023  \n",
              "12  The ghost of the Tsar walks.\\nHe passes some J...  2023  \n",
              "13  A boy green shouldered, grows\\nlike corn endle...  2023  \n",
              "14  My mother, who spent the day after my birth tr...  2023  "
            ]
          },
          "execution_count": 84,
          "metadata": {},
          "output_type": "execute_result"
        }
      ],
      "source": [
        "data.drop(['Unnamed: 0'], axis=1)"
      ]
    },
    {
      "cell_type": "code",
      "execution_count": 9,
      "metadata": {
        "id": "k3SErb8pnU5r"
      },
      "outputs": [
        {
          "data": {
            "text/plain": [
              "'Dont desire someone based on their attire;\\nFor it, may be a live wire which will set your peace on fire,\\nThat barefaced liar might be preaching to the choir,\\nWill eventually conspire but will never be a beautifier.\\nDont be trapped, for that sweetbriar might be momentarily electrifier, \\nWill gradually misfire but will never be a pacifier.'"
            ]
          },
          "execution_count": 9,
          "metadata": {},
          "output_type": "execute_result"
        }
      ],
      "source": [
        "data['Poem'][0]"
      ]
    },
    {
      "cell_type": "markdown",
      "metadata": {
        "id": "qEcNfS5OMD2G"
      },
      "source": [
        "#0.Extracting All POS from each Poem and putting it under POS column in df"
      ]
    },
    {
      "cell_type": "code",
      "execution_count": 10,
      "metadata": {
        "id": "4-sb5Rs8njPU"
      },
      "outputs": [],
      "source": [
        "def clean_txt(text):\n",
        "    text=text.replace(u'\\xa0', u' ').replace(r'\\r',u'\\n').replace(r'\\n', ' ').replace('\\n', ' ').replace('\\t', ' ')\n",
        "    text = contractions.fix(text)\n",
        "    text = text.strip().lower()\n",
        "    text = re.sub(r\"'\", ' ', text)\n",
        "    filters='!\"\\'#$%&()*+,-./:;<=>?@[\\\\]^_`{|}~\\t\\n'\n",
        "    translate_dict = dict((i, \" \") for i in filters)\n",
        "    translate_map = str.maketrans(translate_dict)\n",
        "    text = text.translate(translate_map)\n",
        "    text = ' '.join([w for w in text.split() if len(w)>1])\n",
        "    text = re.sub(' +', ' ', text)\n",
        "    text = ''.join(text)\n",
        "    return text"
      ]
    },
    {
      "cell_type": "code",
      "execution_count": 11,
      "metadata": {
        "id": "8lkX_jIN9IPf"
      },
      "outputs": [],
      "source": [
        "data['Poem_for_model'] = 1"
      ]
    },
    {
      "cell_type": "code",
      "execution_count": 12,
      "metadata": {
        "id": "2-NPcsmHRXVp"
      },
      "outputs": [],
      "source": [
        "for i in range(len(data)):\n",
        "  data['Poem_for_model'][i] = clean_txt(data['Poem'][i])\n"
      ]
    },
    {
      "cell_type": "code",
      "execution_count": 13,
      "metadata": {
        "id": "i3UDVTtMVJBR"
      },
      "outputs": [
        {
          "name": "stdout",
          "output_type": "stream",
          "text": [
            "Dating is too much labour \n",
            "When you don't even know whether he is your flavor \n",
            "God, I wish he was my neighbor \n",
            "I would have known if he is a traitor \n",
            "But what if he is savour \n",
            "Things could have been in favor \n",
            "Hope he is not an engraver\n",
            "Who cuts my peace with razor \n",
            "How do I decode this Cypher?!\n"
          ]
        }
      ],
      "source": [
        "print(data['Poem'][3])"
      ]
    },
    {
      "cell_type": "code",
      "execution_count": 14,
      "metadata": {
        "id": "r0SZnw6lVBIx"
      },
      "outputs": [
        {
          "name": "stdout",
          "output_type": "stream",
          "text": [
            "dating is too much labour when you do not even know whether he is your flavor god wish he was my neighbor would have known if he is traitor but what if he is savour things could have been in favor hope he is not an engraver who cuts my peace with razor how do decode this cypher\n"
          ]
        }
      ],
      "source": [
        "print(data['Poem_for_model'][3])"
      ]
    },
    {
      "cell_type": "code",
      "execution_count": 15,
      "metadata": {
        "id": "3R0Z27zqXz8S"
      },
      "outputs": [],
      "source": [
        "poems = data['Poem_for_model'].tolist()"
      ]
    },
    {
      "cell_type": "code",
      "execution_count": 84,
      "metadata": {},
      "outputs": [],
      "source": [
        "poems_Nominated = data_PN_json['Poem_for_model'].tolist()"
      ]
    },
    {
      "cell_type": "code",
      "execution_count": 92,
      "metadata": {
        "id": "Dwl3wfIY9SUj"
      },
      "outputs": [
        {
          "name": "stdout",
          "output_type": "stream",
          "text": [
            "['red throated loon mired in slick of oil strains her neck in each effort to lift her body from the toxic sludge one last quiver of wings she lowers her head to her breast eyes closed in acceptance rainbows in her feathers', 'fire never seems to mind whether it is the curl of candle wick or bed with baby sleeping so it was with the whales beached in oregon and the not knowing what else to do with the corpses if we were but fire we would not mind either but we are also water even one drop of which forms tear those who were there that day who lit the match and beheld the flames on fiery wings rise they will never forget the trembling of the sea in their chest', 'the buffalo stands still in the wind staring ahead huge not even bothering to guard its flanks mysterious majestic silent misplaced in this warm world waiting for the next interval of ice watching the horizon for the return of glaciers and the arctic birds screaming from the cold blue sky', 'you are nine lying on the front room couch and time is thick like jelly fever has made the world soft and golden honey coating your skin stuck in your ears heavy enough that moving feels like wading through pool except worse except slower and more tiring like the world is blanket wrapped around your shoulders and now the world is burning you cannot smell the smoke but your skin feels like you have become star bright heat coursing through your veins flesh pasty and pale the world is too bright and hot for nothing to be burning', 'the fingered notes play up and down my spine like gentle ripples in laughing stream caresses linger freeing by design sweet fantasies had not dared to dream swell of melody weaves shining chords into my reverie pulls me along with silver strings such leading peace affords staccato notes both delicate and strong strew in my path bright nuggets of delight momentary rainbow after shower stars bursting through the canopy of night the dance of carillon bells from tower the final quarter notes fall clear and sweet and drop host of bluebells at my feet', 'come in and make mess with all your thoughts here shake them loose and spill them on the page then push them pull them tie them into knots your words are laughter questions hopes and rage the writing in this room will echo pound against our heads and hearts cacophony then crash of who we are creates sound from which our hearts rise up symphony for mess and noise and joyful chaos reign in space where all experiment and try to set you free loose you from the chains release you to explore your inner eye so welcome invite you to year of messy joyful learning without fear', 'my therapist asks what else is on my mind pithy incident too long ago to recount without exposing more than wish today instead tell her it is turtles turtle shells actually and how wildlife refuge put out call to women asking for the hook and loop pieces from discarded bras how these garbage items are being attached to broken turtle shells the victims of menacing cars barreling down the road but saved by the strength of their shells and kindly person to take them to shelter where wire and patience guide the broken she will back together until it fuses shut again on its own', 'it is like waiting for the elevator doors to release me letting this virus run its course nothing will rub it out or bribe it just the clicking of days like sitting through meetings or finding the next politician so many minutes have to expire then life can resume its function toward beauty rather then waiting for the clothes to dry or the shower to open or food to cook or cool or be available or the child to walk to stop walking or the girl to love and keep loving', 'tongue tied with suet and peanut butter quartet of nuthatches nimble as eighth notes commune at the feeder owl calls my secret name as dusk raps his chapped knuckles on the kitchen window dog and allow him in unshaven his face creased deeply as an ancient blueprint mirage of deer disappears toward the pond while snow brushes layers of white over lashes of the pine bough tranquility lands light as moth invite it in for snifter of brandy and like the moon learn to harmonize with darkness', 'it will not be long until am with the moon this summer bare feet whisper on midnight grass drenched dazed and confused afternoons soon flags furled high on the fourth ball caps slightly off balance out of order life shut down pebbles sprinkle high school bedrooms at night will be right down she smiles fearful of sound hands entwined fingers sweat teenage forthright midnight memories turn into dawning suns iowa yawns her dawn early sign small towns reveal their majestic awnings morning tiptoes through tall beams of sunshine girl kisses boy lips stay disposed smiling until eyes are no longer closed', 'louisa alighting into place always dazzles me she twists with surpassing grace into an inverted curtsey her arms smoothly interlace as she gets all topsy turvy until in sudden about face she folds her knees and flees', 'cannot disremember three carefree boys dragging bear cub through macedonia square ring through its bloodied nose', 'the ghost of the tsar walks he passes some jews and gypsies one curses him another throws rock bad angels fold their wings and watch choirs sang at his birth armies moved at his command god rang the bells when he walked into cathedrals but now he hears the noise from out the east and sees the fire in the western sky death crowned him at his birth his cousins glittered throughout europe he seldom followed good advice and did not ask permission he lost navy in foreign sea and an army gone at tannenberg but still he played the emperor magnificence is blind and deaf and death took all his dynasty', 'boy green shouldered grows like corn endlessly and over night there is no laying on of hands and praying him small again he will not be touched like that his eyes are the color of home almond and curious with episodes of breughel he wants life in detail and spilling from his pockets his laughter cannot be attached to anything it leaves like silver paper geese in shimmering specks and fills the air surrounding for acres at the speed of memory', 'my mother who spent the day after my birth trying to decide how to tell my father she did not want another child but went on to have eight more says the doctors will tell you the pain of giving birth is erased by hormones and endorphins scrubbed from the slick surface of every sensory pathway and the anterior cingulate cortex wiped clean like school bus window on thick tule fog morning by the back of your hand but the pain is still there like the letters you traced with the tip of your cold finger in the steam on the glass waiting for your hot breath to reveal them again and again waiting to spell out what agony means the pain it is latent like an undertow beneath the ice on canadian lake like knot held down by the lacquer of an oak tabletop']\n"
          ]
        }
      ],
      "source": [
        "print(poems)"
      ]
    },
    {
      "cell_type": "code",
      "execution_count": 16,
      "metadata": {
        "id": "gHa7ip6maJqD"
      },
      "outputs": [],
      "source": [
        "data['POS'] = 2"
      ]
    },
    {
      "cell_type": "code",
      "execution_count": 17,
      "metadata": {
        "id": "HEo1WDuoYYGN"
      },
      "outputs": [],
      "source": [
        "\n",
        "# Load stop words and lemmatizer\n",
        "stop_words = set(stopwords.words('english'))\n",
        "lemmatizer = WordNetLemmatizer()\n",
        "\n",
        "# Preprocess the poems\n",
        "preprocessed_corpus = []\n",
        "for i in range(len(data)):\n",
        "    # Tokenize the poem\n",
        "    tokens = nltk.word_tokenize(data['Poem_for_model'][i])\n",
        "    \n",
        "    # Remove stop words and lemmatize words\n",
        "    processed_tokens = [lemmatizer.lemmatize(token.lower()) for token in tokens if token.lower() not in stop_words]\n",
        "    \n",
        "    words = [nltk.word_tokenize(processed_token) for processed_token in processed_tokens]\n",
        "\n",
        "    # Tag the parts of speech for each word\n",
        "    data['POS'][i] = [nltk.pos_tag(word) for word in words]"
      ]
    },
    {
      "cell_type": "code",
      "execution_count": 18,
      "metadata": {
        "id": "SEoPw9g7a_Mu"
      },
      "outputs": [
        {
          "data": {
            "text/html": [
              "<div>\n",
              "<style scoped>\n",
              "    .dataframe tbody tr th:only-of-type {\n",
              "        vertical-align: middle;\n",
              "    }\n",
              "\n",
              "    .dataframe tbody tr th {\n",
              "        vertical-align: top;\n",
              "    }\n",
              "\n",
              "    .dataframe thead th {\n",
              "        text-align: right;\n",
              "    }\n",
              "</style>\n",
              "<table border=\"1\" class=\"dataframe\">\n",
              "  <thead>\n",
              "    <tr style=\"text-align: right;\">\n",
              "      <th></th>\n",
              "      <th>Author</th>\n",
              "      <th>Title</th>\n",
              "      <th>Poem</th>\n",
              "      <th>Year</th>\n",
              "      <th>Poem_for_model</th>\n",
              "      <th>POS</th>\n",
              "    </tr>\n",
              "  </thead>\n",
              "  <tbody>\n",
              "    <tr>\n",
              "      <th>0</th>\n",
              "      <td>Chaitra</td>\n",
              "      <td>The Desire</td>\n",
              "      <td>Dont desire someone based on their attire;\\nFo...</td>\n",
              "      <td>2020</td>\n",
              "      <td>do not desire someone based on their attire fo...</td>\n",
              "      <td>[[(desire, NN)], [(someone, NN)], [(based, VBN...</td>\n",
              "    </tr>\n",
              "    <tr>\n",
              "      <th>1</th>\n",
              "      <td>Chaitra</td>\n",
              "      <td>Sky-watching</td>\n",
              "      <td>Gazing at the star which is so far,\\nPraying f...</td>\n",
              "      <td>2022</td>\n",
              "      <td>gazing at the star which is so far praying for...</td>\n",
              "      <td>[[(gazing, VBG)], [(star, NN)], [(far, RB)], [...</td>\n",
              "    </tr>\n",
              "    <tr>\n",
              "      <th>2</th>\n",
              "      <td>Chaitra</td>\n",
              "      <td>Breathlessness</td>\n",
              "      <td>I wanna live, I don't want to die\\nBut I can't...</td>\n",
              "      <td>2021</td>\n",
              "      <td>want to live do not want to die but cannot bre...</td>\n",
              "      <td>[[(want, NN)], [(live, JJ)], [(want, NN)], [(d...</td>\n",
              "    </tr>\n",
              "    <tr>\n",
              "      <th>3</th>\n",
              "      <td>Chaitra</td>\n",
              "      <td>Dating</td>\n",
              "      <td>Dating is too much labour \\nWhen you don't eve...</td>\n",
              "      <td>2021</td>\n",
              "      <td>dating is too much labour when you do not even...</td>\n",
              "      <td>[[(dating, VBG)], [(much, JJ)], [(labour, NN)]...</td>\n",
              "    </tr>\n",
              "    <tr>\n",
              "      <th>4</th>\n",
              "      <td>Chaitra</td>\n",
              "      <td>Dearest</td>\n",
              "      <td>This distance has caused hindrance \\nbut hope ...</td>\n",
              "      <td>2020</td>\n",
              "      <td>this distance has caused hindrance but hope no...</td>\n",
              "      <td>[[(distance, NN)], [(caused, VBN)], [(hindranc...</td>\n",
              "    </tr>\n",
              "  </tbody>\n",
              "</table>\n",
              "</div>"
            ],
            "text/plain": [
              "    Author           Title                                               Poem   \n",
              "0  Chaitra      The Desire  Dont desire someone based on their attire;\\nFo...  \\\n",
              "1  Chaitra    Sky-watching  Gazing at the star which is so far,\\nPraying f...   \n",
              "2  Chaitra  Breathlessness  I wanna live, I don't want to die\\nBut I can't...   \n",
              "3  Chaitra          Dating  Dating is too much labour \\nWhen you don't eve...   \n",
              "4  Chaitra         Dearest  This distance has caused hindrance \\nbut hope ...   \n",
              "\n",
              "   Year                                     Poem_for_model   \n",
              "0  2020  do not desire someone based on their attire fo...  \\\n",
              "1  2022  gazing at the star which is so far praying for...   \n",
              "2  2021  want to live do not want to die but cannot bre...   \n",
              "3  2021  dating is too much labour when you do not even...   \n",
              "4  2020  this distance has caused hindrance but hope no...   \n",
              "\n",
              "                                                 POS  \n",
              "0  [[(desire, NN)], [(someone, NN)], [(based, VBN...  \n",
              "1  [[(gazing, VBG)], [(star, NN)], [(far, RB)], [...  \n",
              "2  [[(want, NN)], [(live, JJ)], [(want, NN)], [(d...  \n",
              "3  [[(dating, VBG)], [(much, JJ)], [(labour, NN)]...  \n",
              "4  [[(distance, NN)], [(caused, VBN)], [(hindranc...  "
            ]
          },
          "execution_count": 18,
          "metadata": {},
          "output_type": "execute_result"
        }
      ],
      "source": [
        "data.head()"
      ]
    },
    {
      "cell_type": "code",
      "execution_count": 19,
      "metadata": {
        "id": "HpbAT-_2-oxt"
      },
      "outputs": [],
      "source": [
        "data['dist_pos'] = 3"
      ]
    },
    {
      "cell_type": "markdown",
      "metadata": {
        "id": "s6mfocBwLyfi"
      },
      "source": [
        "#1.Plots: distributions of POS [n, v. adj, adv]\n"
      ]
    },
    {
      "cell_type": "code",
      "execution_count": 20,
      "metadata": {
        "id": "Ejdjtd4j9eWM"
      },
      "outputs": [
        {
          "name": "stdout",
          "output_type": "stream",
          "text": [
            "[[('the', 'DT'), ('time', 'NN'), ('when', 'WRB'), ('rich', 'JJ'), ('enjoy', 'VBP'), ('the', 'DT'), ('season', 'NN'), ('and', 'CC'), ('homeless', 'NN'), ('struggle', 'NN'), ('to', 'TO'), ('keep', 'VB'), ('themselves', 'PRP'), ('alive', 'JJ'), ('the', 'DT'), ('rich', 'JJ'), ('for', 'IN'), ('christmas', 'NN'), ('calculate', 'VBP'), ('the', 'DT'), ('calories', 'NNS'), ('with', 'IN'), ('so', 'RB'), ('much', 'JJ'), ('food', 'NN'), ('on', 'IN'), ('table', 'NN'), ('and', 'CC'), ('the', 'DT'), ('poor', 'JJ'), ('burns', 'VBZ'), ('the', 'DT'), ('calories', 'NNS'), ('to', 'TO'), ('put', 'VB'), ('atleast', 'RP'), ('soup', 'NN'), ('on', 'IN'), ('the', 'DT'), ('table', 'NN'), ('the', 'DT'), ('rich', 'JJ'), ('go', 'VBP'), ('out', 'RP'), ('for', 'IN'), ('winter', 'NN'), ('shopping', 'NN'), ('while', 'IN'), ('the', 'DT'), ('poor', 'JJ'), ('just', 'RB'), ('rubs', 'VB'), ('his', 'PRP$'), ('palm', 'NN'), ('and', 'CC'), ('like', 'IN'), ('that', 'IN'), ('the', 'DT'), ('world', 'NN'), ('moves', 'VBZ'), ('on', 'IN'), ('with', 'IN'), ('one', 'CD'), ('trying', 'VBG'), ('to', 'TO'), ('fulfill', 'VB'), ('desires', 'NNS'), ('and', 'CC'), ('the', 'DT'), ('other', 'JJ'), ('struggling', 'VBG'), ('for', 'IN'), ('survival', 'NN')]]\n"
          ]
        }
      ],
      "source": [
        "for poem in poems :\n",
        "  sentences = nltk.sent_tokenize(poem)\n",
        "  words = [nltk.word_tokenize(sentence) for sentence in sentences]\n",
        "  pos_tags = [nltk.pos_tag(word) for word in words]\n",
        "\n",
        "print(pos_tags)"
      ]
    },
    {
      "cell_type": "code",
      "execution_count": 21,
      "metadata": {
        "id": "pqUHG71kD8nU"
      },
      "outputs": [],
      "source": [
        "def count_pos(array):\n",
        "  ''' this method is to go through POS array and then count each POS type \n",
        "      you just have to call this function in one for loop like below cell\n",
        "  '''\n",
        "  pos_counts = collections.defaultdict(int)\n",
        "  pos_counts.clear()\n",
        "  for i in range(len(array)):\n",
        "     for token, pos_tag in array[i]:\n",
        "       pos_counts[pos_tag] += 1\n",
        "  return pos_counts"
      ]
    },
    {
      "cell_type": "code",
      "execution_count": 22,
      "metadata": {
        "id": "ocaHlMX_-95A"
      },
      "outputs": [],
      "source": [
        "for i in range(len(data)):\n",
        "    data['dist_pos'][i] = count_pos(data['POS'][i]) \n"
      ]
    },
    {
      "cell_type": "code",
      "execution_count": 23,
      "metadata": {
        "id": "nlLEsl_vFFFt"
      },
      "outputs": [
        {
          "name": "stdout",
          "output_type": "stream",
          "text": [
            "defaultdict(<class 'int'>, {'NN': 15, 'VBN': 3, 'MD': 3, 'JJ': 1, 'VBG': 1, 'RB': 5})\n"
          ]
        }
      ],
      "source": [
        "print(data['dist_pos'][0])"
      ]
    },
    {
      "cell_type": "code",
      "execution_count": 24,
      "metadata": {
        "id": "cYa1Q6JZFWOw"
      },
      "outputs": [],
      "source": [
        "def plot_dist_pos(dict):\n",
        "  pos = list(dict.keys())\n",
        "  counts = list(dict.values())\n",
        "\n",
        "  # Create a bar plot\n",
        "  plt.bar(pos, counts)\n",
        "  plt.xlabel('POS')\n",
        "  plt.ylabel('Count')\n",
        "  plt.title('Distribution of POS in Pushcart Nominated Poem')\n",
        "  plt.show()"
      ]
    },
    {
      "cell_type": "code",
      "execution_count": 65,
      "metadata": {},
      "outputs": [],
      "source": [
        "def dist_pos(dict):\n",
        "  pos = list(dict.keys())\n",
        "  counts = list(dict.values())\n",
        "  return pos,counts"
      ]
    },
    {
      "cell_type": "code",
      "execution_count": 25,
      "metadata": {
        "id": "0v4_TZY0Fhsn"
      },
      "outputs": [
        {
          "data": {
            "image/png": "[encoded data removed]",
            "text/plain": [
              "<Figure size 640x480 with 1 Axes>"
            ]
          },
          "metadata": {},
          "output_type": "display_data"
        }
      ],
      "source": [
        "plot_dist_pos(data['dist_pos'][0])"
      ]
    },
    {
      "cell_type": "markdown",
      "metadata": {
        "id": "OMDaWmQrL6QE"
      },
      "source": [
        "#2.Compare the dist of POS in each poem\n"
      ]
    },
    {
      "cell_type": "code",
      "execution_count": 67,
      "metadata": {},
      "outputs": [
        {
          "data": {
            "text/html": [
              "<div>\n",
              "<style scoped>\n",
              "    .dataframe tbody tr th:only-of-type {\n",
              "        vertical-align: middle;\n",
              "    }\n",
              "\n",
              "    .dataframe tbody tr th {\n",
              "        vertical-align: top;\n",
              "    }\n",
              "\n",
              "    .dataframe thead th {\n",
              "        text-align: right;\n",
              "    }\n",
              "</style>\n",
              "<table border=\"1\" class=\"dataframe\">\n",
              "  <thead>\n",
              "    <tr style=\"text-align: right;\">\n",
              "      <th></th>\n",
              "      <th>Author</th>\n",
              "      <th>Title</th>\n",
              "      <th>Poem</th>\n",
              "      <th>Year</th>\n",
              "      <th>Poem_for_model</th>\n",
              "      <th>POS</th>\n",
              "      <th>dist_pos</th>\n",
              "      <th>sentiment</th>\n",
              "    </tr>\n",
              "  </thead>\n",
              "  <tbody>\n",
              "    <tr>\n",
              "      <th>0</th>\n",
              "      <td>Chaitra</td>\n",
              "      <td>The Desire</td>\n",
              "      <td>Dont desire someone based on their attire;\\nFo...</td>\n",
              "      <td>2020</td>\n",
              "      <td>do not desire someone based on their attire fo...</td>\n",
              "      <td>[[[desire, NN]], [[someone, NN]], [[based, VBN...</td>\n",
              "      <td>{'NN': 15, 'VBN': 3, 'MD': 3, 'JJ': 1, 'VBG': ...</td>\n",
              "      <td>{'neg': 0.128, 'neu': 0.781, 'pos': 0.091, 'co...</td>\n",
              "    </tr>\n",
              "    <tr>\n",
              "      <th>1</th>\n",
              "      <td>Chaitra</td>\n",
              "      <td>Sky-watching</td>\n",
              "      <td>Gazing at the star which is so far,\\nPraying f...</td>\n",
              "      <td>2022</td>\n",
              "      <td>gazing at the star which is so far praying for...</td>\n",
              "      <td>[[[gazing, VBG]], [[star, NN]], [[far, RB]], [...</td>\n",
              "      <td>{'VBG': 9, 'NN': 14, 'RB': 2, 'VBN': 3}</td>\n",
              "      <td>{'neg': 0.034, 'neu': 0.787, 'pos': 0.179, 'co...</td>\n",
              "    </tr>\n",
              "    <tr>\n",
              "      <th>2</th>\n",
              "      <td>Chaitra</td>\n",
              "      <td>Breathlessness</td>\n",
              "      <td>I wanna live, I don't want to die\\nBut I can't...</td>\n",
              "      <td>2021</td>\n",
              "      <td>want to live do not want to die but cannot bre...</td>\n",
              "      <td>[[[want, NN]], [[live, JJ]], [[want, NN]], [[d...</td>\n",
              "      <td>{'NN': 23, 'JJ': 5, 'VB': 1, 'VBN': 1}</td>\n",
              "      <td>{'neg': 0.112, 'neu': 0.507, 'pos': 0.381, 'co...</td>\n",
              "    </tr>\n",
              "    <tr>\n",
              "      <th>3</th>\n",
              "      <td>Chaitra</td>\n",
              "      <td>Dating</td>\n",
              "      <td>Dating is too much labour \\nWhen you don't eve...</td>\n",
              "      <td>2021</td>\n",
              "      <td>dating is too much labour when you do not even...</td>\n",
              "      <td>[[[dating, VBG]], [[much, JJ]], [[labour, NN]]...</td>\n",
              "      <td>{'VBG': 1, 'JJ': 1, 'NN': 16, 'RB': 1, 'VB': 1...</td>\n",
              "      <td>{'neg': 0.04, 'neu': 0.739, 'pos': 0.221, 'com...</td>\n",
              "    </tr>\n",
              "    <tr>\n",
              "      <th>4</th>\n",
              "      <td>Chaitra</td>\n",
              "      <td>Dearest</td>\n",
              "      <td>This distance has caused hindrance \\nbut hope ...</td>\n",
              "      <td>2020</td>\n",
              "      <td>this distance has caused hindrance but hope no...</td>\n",
              "      <td>[[[distance, NN]], [[caused, VBN]], [[hindranc...</td>\n",
              "      <td>{'NN': 22, 'VBN': 1, 'NNS': 1, 'RB': 2, 'JJ': ...</td>\n",
              "      <td>{'neg': 0.17300000000000001, 'neu': 0.401, 'po...</td>\n",
              "    </tr>\n",
              "  </tbody>\n",
              "</table>\n",
              "</div>"
            ],
            "text/plain": [
              "    Author           Title                                               Poem   \n",
              "0  Chaitra      The Desire  Dont desire someone based on their attire;\\nFo...  \\\n",
              "1  Chaitra    Sky-watching  Gazing at the star which is so far,\\nPraying f...   \n",
              "2  Chaitra  Breathlessness  I wanna live, I don't want to die\\nBut I can't...   \n",
              "3  Chaitra          Dating  Dating is too much labour \\nWhen you don't eve...   \n",
              "4  Chaitra         Dearest  This distance has caused hindrance \\nbut hope ...   \n",
              "\n",
              "   Year                                     Poem_for_model   \n",
              "0  2020  do not desire someone based on their attire fo...  \\\n",
              "1  2022  gazing at the star which is so far praying for...   \n",
              "2  2021  want to live do not want to die but cannot bre...   \n",
              "3  2021  dating is too much labour when you do not even...   \n",
              "4  2020  this distance has caused hindrance but hope no...   \n",
              "\n",
              "                                                 POS   \n",
              "0  [[[desire, NN]], [[someone, NN]], [[based, VBN...  \\\n",
              "1  [[[gazing, VBG]], [[star, NN]], [[far, RB]], [...   \n",
              "2  [[[want, NN]], [[live, JJ]], [[want, NN]], [[d...   \n",
              "3  [[[dating, VBG]], [[much, JJ]], [[labour, NN]]...   \n",
              "4  [[[distance, NN]], [[caused, VBN]], [[hindranc...   \n",
              "\n",
              "                                            dist_pos   \n",
              "0  {'NN': 15, 'VBN': 3, 'MD': 3, 'JJ': 1, 'VBG': ...  \\\n",
              "1            {'VBG': 9, 'NN': 14, 'RB': 2, 'VBN': 3}   \n",
              "2             {'NN': 23, 'JJ': 5, 'VB': 1, 'VBN': 1}   \n",
              "3  {'VBG': 1, 'JJ': 1, 'NN': 16, 'RB': 1, 'VB': 1...   \n",
              "4  {'NN': 22, 'VBN': 1, 'NNS': 1, 'RB': 2, 'JJ': ...   \n",
              "\n",
              "                                           sentiment  \n",
              "0  {'neg': 0.128, 'neu': 0.781, 'pos': 0.091, 'co...  \n",
              "1  {'neg': 0.034, 'neu': 0.787, 'pos': 0.179, 'co...  \n",
              "2  {'neg': 0.112, 'neu': 0.507, 'pos': 0.381, 'co...  \n",
              "3  {'neg': 0.04, 'neu': 0.739, 'pos': 0.221, 'com...  \n",
              "4  {'neg': 0.17300000000000001, 'neu': 0.401, 'po...  "
            ]
          },
          "execution_count": 67,
          "metadata": {},
          "output_type": "execute_result"
        }
      ],
      "source": [
        "data_json.head()"
      ]
    },
    {
      "cell_type": "code",
      "execution_count": 66,
      "metadata": {},
      "outputs": [
        {
          "data": {
            "text/plain": [
              "(['NN', 'JJ', 'VB', 'IN', 'CD', 'VBG'], [25, 7, 2, 1, 1, 2])"
            ]
          },
          "execution_count": 66,
          "metadata": {},
          "output_type": "execute_result"
        }
      ],
      "source": [
        "dist_pos(data['dist_pos'][i])"
      ]
    },
    {
      "cell_type": "code",
      "execution_count": 69,
      "metadata": {},
      "outputs": [
        {
          "data": {
            "text/html": [
              "<div>\n",
              "<style scoped>\n",
              "    .dataframe tbody tr th:only-of-type {\n",
              "        vertical-align: middle;\n",
              "    }\n",
              "\n",
              "    .dataframe tbody tr th {\n",
              "        vertical-align: top;\n",
              "    }\n",
              "\n",
              "    .dataframe thead th {\n",
              "        text-align: right;\n",
              "    }\n",
              "</style>\n",
              "<table border=\"1\" class=\"dataframe\">\n",
              "  <thead>\n",
              "    <tr style=\"text-align: right;\">\n",
              "      <th></th>\n",
              "      <th>Author</th>\n",
              "      <th>Title</th>\n",
              "      <th>Poem</th>\n",
              "      <th>Year</th>\n",
              "      <th>Poem_for_model</th>\n",
              "      <th>POS</th>\n",
              "      <th>dist_pos</th>\n",
              "      <th>sentiment</th>\n",
              "    </tr>\n",
              "  </thead>\n",
              "  <tbody>\n",
              "    <tr>\n",
              "      <th>0</th>\n",
              "      <td>Chaitra</td>\n",
              "      <td>The Desire</td>\n",
              "      <td>Dont desire someone based on their attire;\\nFo...</td>\n",
              "      <td>2020</td>\n",
              "      <td>do not desire someone based on their attire fo...</td>\n",
              "      <td>[[[desire, NN]], [[someone, NN]], [[based, VBN...</td>\n",
              "      <td>{'NN': 15, 'VBN': 3, 'MD': 3, 'JJ': 1, 'VBG': ...</td>\n",
              "      <td>{'neg': 0.128, 'neu': 0.781, 'pos': 0.091, 'co...</td>\n",
              "    </tr>\n",
              "    <tr>\n",
              "      <th>1</th>\n",
              "      <td>Chaitra</td>\n",
              "      <td>Sky-watching</td>\n",
              "      <td>Gazing at the star which is so far,\\nPraying f...</td>\n",
              "      <td>2022</td>\n",
              "      <td>gazing at the star which is so far praying for...</td>\n",
              "      <td>[[[gazing, VBG]], [[star, NN]], [[far, RB]], [...</td>\n",
              "      <td>{'VBG': 9, 'NN': 14, 'RB': 2, 'VBN': 3}</td>\n",
              "      <td>{'neg': 0.034, 'neu': 0.787, 'pos': 0.179, 'co...</td>\n",
              "    </tr>\n",
              "    <tr>\n",
              "      <th>2</th>\n",
              "      <td>Chaitra</td>\n",
              "      <td>Breathlessness</td>\n",
              "      <td>I wanna live, I don't want to die\\nBut I can't...</td>\n",
              "      <td>2021</td>\n",
              "      <td>want to live do not want to die but cannot bre...</td>\n",
              "      <td>[[[want, NN]], [[live, JJ]], [[want, NN]], [[d...</td>\n",
              "      <td>{'NN': 23, 'JJ': 5, 'VB': 1, 'VBN': 1}</td>\n",
              "      <td>{'neg': 0.112, 'neu': 0.507, 'pos': 0.381, 'co...</td>\n",
              "    </tr>\n",
              "    <tr>\n",
              "      <th>3</th>\n",
              "      <td>Chaitra</td>\n",
              "      <td>Dating</td>\n",
              "      <td>Dating is too much labour \\nWhen you don't eve...</td>\n",
              "      <td>2021</td>\n",
              "      <td>dating is too much labour when you do not even...</td>\n",
              "      <td>[[[dating, VBG]], [[much, JJ]], [[labour, NN]]...</td>\n",
              "      <td>{'VBG': 1, 'JJ': 1, 'NN': 16, 'RB': 1, 'VB': 1...</td>\n",
              "      <td>{'neg': 0.04, 'neu': 0.739, 'pos': 0.221, 'com...</td>\n",
              "    </tr>\n",
              "    <tr>\n",
              "      <th>4</th>\n",
              "      <td>Chaitra</td>\n",
              "      <td>Dearest</td>\n",
              "      <td>This distance has caused hindrance \\nbut hope ...</td>\n",
              "      <td>2020</td>\n",
              "      <td>this distance has caused hindrance but hope no...</td>\n",
              "      <td>[[[distance, NN]], [[caused, VBN]], [[hindranc...</td>\n",
              "      <td>{'NN': 22, 'VBN': 1, 'NNS': 1, 'RB': 2, 'JJ': ...</td>\n",
              "      <td>{'neg': 0.17300000000000001, 'neu': 0.401, 'po...</td>\n",
              "    </tr>\n",
              "  </tbody>\n",
              "</table>\n",
              "</div>"
            ],
            "text/plain": [
              "    Author           Title                                               Poem   \n",
              "0  Chaitra      The Desire  Dont desire someone based on their attire;\\nFo...  \\\n",
              "1  Chaitra    Sky-watching  Gazing at the star which is so far,\\nPraying f...   \n",
              "2  Chaitra  Breathlessness  I wanna live, I don't want to die\\nBut I can't...   \n",
              "3  Chaitra          Dating  Dating is too much labour \\nWhen you don't eve...   \n",
              "4  Chaitra         Dearest  This distance has caused hindrance \\nbut hope ...   \n",
              "\n",
              "   Year                                     Poem_for_model   \n",
              "0  2020  do not desire someone based on their attire fo...  \\\n",
              "1  2022  gazing at the star which is so far praying for...   \n",
              "2  2021  want to live do not want to die but cannot bre...   \n",
              "3  2021  dating is too much labour when you do not even...   \n",
              "4  2020  this distance has caused hindrance but hope no...   \n",
              "\n",
              "                                                 POS   \n",
              "0  [[[desire, NN]], [[someone, NN]], [[based, VBN...  \\\n",
              "1  [[[gazing, VBG]], [[star, NN]], [[far, RB]], [...   \n",
              "2  [[[want, NN]], [[live, JJ]], [[want, NN]], [[d...   \n",
              "3  [[[dating, VBG]], [[much, JJ]], [[labour, NN]]...   \n",
              "4  [[[distance, NN]], [[caused, VBN]], [[hindranc...   \n",
              "\n",
              "                                            dist_pos   \n",
              "0  {'NN': 15, 'VBN': 3, 'MD': 3, 'JJ': 1, 'VBG': ...  \\\n",
              "1            {'VBG': 9, 'NN': 14, 'RB': 2, 'VBN': 3}   \n",
              "2             {'NN': 23, 'JJ': 5, 'VB': 1, 'VBN': 1}   \n",
              "3  {'VBG': 1, 'JJ': 1, 'NN': 16, 'RB': 1, 'VB': 1...   \n",
              "4  {'NN': 22, 'VBN': 1, 'NNS': 1, 'RB': 2, 'JJ': ...   \n",
              "\n",
              "                                           sentiment  \n",
              "0  {'neg': 0.128, 'neu': 0.781, 'pos': 0.091, 'co...  \n",
              "1  {'neg': 0.034, 'neu': 0.787, 'pos': 0.179, 'co...  \n",
              "2  {'neg': 0.112, 'neu': 0.507, 'pos': 0.381, 'co...  \n",
              "3  {'neg': 0.04, 'neu': 0.739, 'pos': 0.221, 'com...  \n",
              "4  {'neg': 0.17300000000000001, 'neu': 0.401, 'po...  "
            ]
          },
          "execution_count": 69,
          "metadata": {},
          "output_type": "execute_result"
        }
      ],
      "source": [
        "data_json.head()"
      ]
    },
    {
      "cell_type": "code",
      "execution_count": 83,
      "metadata": {
        "id": "xrab4nguGElV"
      },
      "outputs": [
        {
          "data": {
            "image/png": "[encoded data removed]",
            "text/plain": [
              "<Figure size 2000x2000 with 15 Axes>"
            ]
          },
          "metadata": {},
          "output_type": "display_data"
        }
      ],
      "source": [
        "# Define the number of rows and columns for the plot grid\n",
        "rows = 5\n",
        "cols = 3\n",
        "\n",
        "# Create the plot grid\n",
        "fig, axs = plt.subplots(rows, cols, figsize=(20,20))\n",
        "\n",
        "# Flatten the plot grid to access each subplot\n",
        "axs = axs.flatten()\n",
        "\n",
        "# Loop through the dataframe rows and plot the data points on each subplot\n",
        "for i, row in data_json.iterrows():\n",
        "    x = dist_pos(row['dist_pos'])\n",
        "    axs[i].bar(x[0], x[1])\n",
        "\n",
        "for i in range(len(axs)):\n",
        "    axs[i].set_title(f\"Distribution of POS in Pushcart Non-Nominated Poem\")\n",
        "    axs[i].set_xlabel(\"POS\")\n",
        "    axs[i].set_ylabel(\"COUNTS\")\n",
        "\n",
        "plt.show()"
      ]
    },
    {
      "cell_type": "code",
      "execution_count": 73,
      "metadata": {},
      "outputs": [
        {
          "name": "stdout",
          "output_type": "stream",
          "text": [
            "(['NN', 'VBN', 'MD', 'JJ', 'VBG', 'RB'], [15, 3, 3, 1, 1, 5])\n",
            "(['VBG', 'NN', 'RB', 'VBN'], [9, 14, 2, 3])\n",
            "(['NN', 'JJ', 'VB', 'VBN'], [23, 5, 1, 1])\n",
            "(['VBG', 'JJ', 'NN', 'RB', 'VB', 'IN', 'MD', 'VBN'], [1, 1, 16, 1, 1, 1, 2, 1])\n",
            "(['NN', 'VBN', 'NNS', 'RB', 'JJ', 'VB'], [22, 1, 1, 2, 2, 1])\n",
            "(['RBR', 'NN', 'VBN', 'JJ', 'VBG', 'RB', 'IN', 'VB'], [2, 23, 3, 3, 1, 2, 1, 2])\n",
            "(['VBN', 'NN', 'IN', 'JJ', 'RB', 'NNS'], [2, 13, 1, 1, 2, 1])\n",
            "(['NN', 'JJ', 'WP$', 'IN', 'NNS', 'VB'], [13, 1, 1, 1, 1, 1])\n",
            "(['NN', 'JJ', 'VB', 'IN', 'CD', 'VBG'], [25, 7, 2, 1, 1, 2])\n"
          ]
        }
      ],
      "source": [
        "for i, row in data_json.iterrows():\n",
        "    x = row['dist_pos']\n",
        "    y = dist_pos(x)\n",
        "    print(y)"
      ]
    },
    {
      "cell_type": "code",
      "execution_count": 104,
      "metadata": {
        "id": "4hE4K9qybJMS"
      },
      "outputs": [],
      "source": [
        "# store_loc = \"/content/drive/MyDrive/poets/\""
      ]
    },
    {
      "cell_type": "code",
      "execution_count": 27,
      "metadata": {},
      "outputs": [],
      "source": [
        "store_loc = '/workspaces/CMPE257/'"
      ]
    },
    {
      "cell_type": "code",
      "execution_count": 28,
      "metadata": {
        "id": "r5mHV6L58ZEH"
      },
      "outputs": [],
      "source": [
        "def buildPoemArray(data):\n",
        "    poet = {}\n",
        "    poems = list()\n",
        "    for i in data:\n",
        "        idx = \"poem\"+str(i) ##poem1\n",
        "        poet[idx+\"_title\"] = data[i][\"Title\"] #poem1_title = tien\n",
        "        poet[idx] = data[i][\"Poem_for_model\"] # poem\n",
        "        poems.append(idx)\n",
        "    poet['poems_array'] = poems\n",
        "    return poet"
      ]
    },
    {
      "cell_type": "code",
      "execution_count": 29,
      "metadata": {
        "id": "9mGfMkyC8aUK"
      },
      "outputs": [],
      "source": [
        "def extractAllPOS(poet):\n",
        "    global_vrb = set()\n",
        "    global_nns = set()\n",
        "    global_adj = set()\n",
        "    for key in poet['poems_array']:\n",
        "        text = poet[key]\n",
        "        word_list = word_tokenize(text)\n",
        "        pos_value = nltk.pos_tag(word_list)\n",
        "        poet[\"pos_\"+key] = pos_value\n",
        "\n",
        "        vrb = set([word for (word, pos) in pos_value if (pos.startswith('VB'))])\n",
        "        nns = set([word for (word, pos) in pos_value if (pos.startswith('NN'))])\n",
        "        adj = set([word for (word, pos) in pos_value if (pos.startswith('JJ'))])\n",
        "\n",
        "        poet[\"verbs_\"+key] = list(vrb)\n",
        "        poet[\"nouns_\"+key] = list(nns)\n",
        "        poet[\"adjectives_\"+key] = list(adj)\n",
        "\n",
        "        global_vrb = set.union(global_vrb, vrb)\n",
        "        global_nns = set.union(global_nns, nns)\n",
        "        global_adj = set.union(global_adj, adj)\n",
        "\n",
        "    poet[\"all_verbs\"] = list(global_vrb)\n",
        "    poet[\"all_nouns\"] = list(global_nns)\n",
        "    poet[\"all_adjectives\"] = list(global_adj)\n",
        "    "
      ]
    },
    {
      "cell_type": "code",
      "execution_count": 30,
      "metadata": {
        "id": "PFzaWN-B8aN0"
      },
      "outputs": [],
      "source": [
        "def getPOS(file_name, df):\n",
        "    pos = \"\"\n",
        "    if os.path.exists(file_name):\n",
        "        with open(file_name, 'r') as file:\n",
        "            pos = json.load(file)\n",
        "    else:\n",
        "        pos = buildPoemArray(json.loads(df.to_json(orient=\"index\")))\n",
        "        extractAllPOS(pos)\n",
        "        with open(file_name, 'w') as file:\n",
        "            json.dump(pos, file)\n",
        "    return pos"
      ]
    },
    {
      "cell_type": "code",
      "execution_count": 31,
      "metadata": {
        "id": "yf5zNEpi8qhN"
      },
      "outputs": [],
      "source": [
        "file_name = store_loc + \"Pushcart_Non-Nomination.json\"\n",
        "pc_pos = getPOS(file_name, data)"
      ]
    },
    {
      "cell_type": "code",
      "execution_count": 92,
      "metadata": {
        "id": "_igeMy1O5-rR"
      },
      "outputs": [],
      "source": [
        "def count_pos(tokens):\n",
        "    pos_counts = nltk.FreqDist(tag for word, tag in nltk.pos_tag(tokens))\n",
        "    return pos_counts"
      ]
    },
    {
      "cell_type": "markdown",
      "metadata": {
        "id": "cHyLKtwdLl5n"
      },
      "source": [
        "#3.Superimpose them on each other in terms of ratios of POS"
      ]
    },
    {
      "cell_type": "code",
      "execution_count": 99,
      "metadata": {},
      "outputs": [
        {
          "data": {
            "image/png": "[encoded data removed]",
            "text/plain": [
              "<Figure size 640x480 with 1 Axes>"
            ]
          },
          "metadata": {},
          "output_type": "display_data"
        },
        {
          "data": {
            "image/png": "[encoded data removed]",
            "text/plain": [
              "<Figure size 640x480 with 1 Axes>"
            ]
          },
          "metadata": {},
          "output_type": "display_data"
        }
      ],
      "source": [
        "pos_data_n = []\n",
        "for poem in poems_Nominated:\n",
        "    tokens = nltk.word_tokenize(poem.lower())\n",
        "    pos_counts_n = count_pos(tokens)\n",
        "    pos_data_n.append(pos_counts_n)\n",
        "\n",
        "# Combine POS counts into a DataFrame\n",
        "pos_df_n = pd.DataFrame(pos_data_n)\n",
        "pos_df_n.fillna(0, inplace=True)\n",
        "\n",
        "# Normalize the counts to get proportions\n",
        "pos_df_n = pos_df_n.div(pos_df_n.sum(axis=1), axis=0)\n",
        "\n",
        "# Plot the data using a stacked bar chart\n",
        "pos_df_n.plot(kind='bar', stacked=True)\n",
        "plt.show()\n",
        "\n",
        "pos_data_nn = []\n",
        "for poem in poems:\n",
        "    tokens = nltk.word_tokenize(poem.lower())\n",
        "    pos_counts_nn = count_pos(tokens)\n",
        "    pos_data_nn.append(pos_counts_nn)\n",
        "\n",
        "# Combine POS counts into a DataFrame\n",
        "pos_df_nn = pd.DataFrame(pos_data_nn)\n",
        "pos_df_nn.fillna(0, inplace=True)\n",
        "\n",
        "# Normalize the counts to get proportions\n",
        "pos_df_nn = pos_df_nn.div(pos_df_nn.sum(axis=1), axis=0)\n",
        "\n",
        "# Plot the data using a stacked bar chart\n",
        "pos_df_nn.plot(kind='bar', stacked=True)\n",
        "plt.show()"
      ]
    },
    {
      "cell_type": "markdown",
      "metadata": {
        "id": "BAgzM7zsLggI"
      },
      "source": [
        "#4.“Gold/reference  standard” → What did the nominated poems have in common (common denominator)\n"
      ]
    },
    {
      "cell_type": "code",
      "execution_count": 87,
      "metadata": {},
      "outputs": [
        {
          "name": "stdout",
          "output_type": "stream",
          "text": [
            "['red throated loon mired in slick of oil strains her neck in each effort to lift her body from the toxic sludge one last quiver of wings she lowers her head to her breast eyes closed in acceptance rainbows in her feathers', 'fire never seems to mind whether it is the curl of candle wick or bed with baby sleeping so it was with the whales beached in oregon and the not knowing what else to do with the corpses if we were but fire we would not mind either but we are also water even one drop of which forms tear those who were there that day who lit the match and beheld the flames on fiery wings rise they will never forget the trembling of the sea in their chest', 'the buffalo stands still in the wind staring ahead huge not even bothering to guard its flanks mysterious majestic silent misplaced in this warm world waiting for the next interval of ice watching the horizon for the return of glaciers and the arctic birds screaming from the cold blue sky', 'you are nine lying on the front room couch and time is thick like jelly fever has made the world soft and golden honey coating your skin stuck in your ears heavy enough that moving feels like wading through pool except worse except slower and more tiring like the world is blanket wrapped around your shoulders and now the world is burning you cannot smell the smoke but your skin feels like you have become star bright heat coursing through your veins flesh pasty and pale the world is too bright and hot for nothing to be burning', 'the fingered notes play up and down my spine like gentle ripples in laughing stream caresses linger freeing by design sweet fantasies had not dared to dream swell of melody weaves shining chords into my reverie pulls me along with silver strings such leading peace affords staccato notes both delicate and strong strew in my path bright nuggets of delight momentary rainbow after shower stars bursting through the canopy of night the dance of carillon bells from tower the final quarter notes fall clear and sweet and drop host of bluebells at my feet', 'come in and make mess with all your thoughts here shake them loose and spill them on the page then push them pull them tie them into knots your words are laughter questions hopes and rage the writing in this room will echo pound against our heads and hearts cacophony then crash of who we are creates sound from which our hearts rise up symphony for mess and noise and joyful chaos reign in space where all experiment and try to set you free loose you from the chains release you to explore your inner eye so welcome invite you to year of messy joyful learning without fear', 'my therapist asks what else is on my mind pithy incident too long ago to recount without exposing more than wish today instead tell her it is turtles turtle shells actually and how wildlife refuge put out call to women asking for the hook and loop pieces from discarded bras how these garbage items are being attached to broken turtle shells the victims of menacing cars barreling down the road but saved by the strength of their shells and kindly person to take them to shelter where wire and patience guide the broken she will back together until it fuses shut again on its own', 'it is like waiting for the elevator doors to release me letting this virus run its course nothing will rub it out or bribe it just the clicking of days like sitting through meetings or finding the next politician so many minutes have to expire then life can resume its function toward beauty rather then waiting for the clothes to dry or the shower to open or food to cook or cool or be available or the child to walk to stop walking or the girl to love and keep loving', 'tongue tied with suet and peanut butter quartet of nuthatches nimble as eighth notes commune at the feeder owl calls my secret name as dusk raps his chapped knuckles on the kitchen window dog and allow him in unshaven his face creased deeply as an ancient blueprint mirage of deer disappears toward the pond while snow brushes layers of white over lashes of the pine bough tranquility lands light as moth invite it in for snifter of brandy and like the moon learn to harmonize with darkness', 'it will not be long until am with the moon this summer bare feet whisper on midnight grass drenched dazed and confused afternoons soon flags furled high on the fourth ball caps slightly off balance out of order life shut down pebbles sprinkle high school bedrooms at night will be right down she smiles fearful of sound hands entwined fingers sweat teenage forthright midnight memories turn into dawning suns iowa yawns her dawn early sign small towns reveal their majestic awnings morning tiptoes through tall beams of sunshine girl kisses boy lips stay disposed smiling until eyes are no longer closed', 'louisa alighting into place always dazzles me she twists with surpassing grace into an inverted curtsey her arms smoothly interlace as she gets all topsy turvy until in sudden about face she folds her knees and flees', 'cannot disremember three carefree boys dragging bear cub through macedonia square ring through its bloodied nose', 'the ghost of the tsar walks he passes some jews and gypsies one curses him another throws rock bad angels fold their wings and watch choirs sang at his birth armies moved at his command god rang the bells when he walked into cathedrals but now he hears the noise from out the east and sees the fire in the western sky death crowned him at his birth his cousins glittered throughout europe he seldom followed good advice and did not ask permission he lost navy in foreign sea and an army gone at tannenberg but still he played the emperor magnificence is blind and deaf and death took all his dynasty', 'boy green shouldered grows like corn endlessly and over night there is no laying on of hands and praying him small again he will not be touched like that his eyes are the color of home almond and curious with episodes of breughel he wants life in detail and spilling from his pockets his laughter cannot be attached to anything it leaves like silver paper geese in shimmering specks and fills the air surrounding for acres at the speed of memory', 'my mother who spent the day after my birth trying to decide how to tell my father she did not want another child but went on to have eight more says the doctors will tell you the pain of giving birth is erased by hormones and endorphins scrubbed from the slick surface of every sensory pathway and the anterior cingulate cortex wiped clean like school bus window on thick tule fog morning by the back of your hand but the pain is still there like the letters you traced with the tip of your cold finger in the steam on the glass waiting for your hot breath to reveal them again and again waiting to spell out what agony means the pain it is latent like an undertow beneath the ice on canadian lake like knot held down by the lacquer of an oak tabletop']\n"
          ]
        }
      ],
      "source": [
        "print(poems_Nominated)"
      ]
    },
    {
      "cell_type": "code",
      "execution_count": 101,
      "metadata": {},
      "outputs": [
        {
          "name": "stdout",
          "output_type": "stream",
          "text": [
            "Most common POS tags for Nominated Poems:\n",
            "NN: 510 (23.45%)\n",
            "IN: 315 (14.48%)\n",
            "DT: 270 (12.41%)\n",
            "JJ: 150 (6.90%)\n",
            "VB: 105 (4.83%)\n",
            "Most common POS tags for Non-Nominated Poems:\n",
            "NN: 306 (39.08%)\n",
            "IN: 189 (24.14%)\n",
            "DT: 162 (20.69%)\n",
            "JJ: 90 (11.49%)\n",
            "VB: 63 (8.05%)\n"
          ]
        }
      ],
      "source": [
        "pos_counts_n = []\n",
        "for poem in poems_Nominated:\n",
        "    words_n = nltk.word_tokenize(poem)\n",
        "    pos_tags_n = nltk.pos_tag(words)\n",
        "    pos_counts_n.append(Counter([tag for word, tag in pos_tags]))\n",
        "\n",
        "pos_counts_nn = []\n",
        "for poem in poems:\n",
        "    words_nn = nltk.word_tokenize(poem)\n",
        "    pos_tags_nn = nltk.pos_tag(words)\n",
        "    pos_counts_nn.append(Counter([tag for word, tag in pos_tags]))\n",
        "\n",
        "\n",
        "# Combine POS counts for all poems\n",
        "total_counts_n = Counter()\n",
        "for counts in pos_counts_n:\n",
        "    total_counts_n += counts\n",
        "\n",
        "total_counts_nn = Counter()\n",
        "for counts in pos_counts_nn:\n",
        "    total_counts_nn += counts\n",
        "\n",
        "# Calculate total number of words across all poems\n",
        "total_words_n = sum(total_counts_n.values())\n",
        "\n",
        "# Calculate total number of words across all poems\n",
        "total_words_nn = sum(total_counts_nn.values())\n",
        "\n",
        "# Calculate proportion of each POS tag\n",
        "pos_proportions_n = {tag: count / total_words_n for tag, count in total_counts_n.items()}\n",
        "\n",
        "pos_proportions_nn = {tag: count / total_words_nn for tag, count in total_counts_n.items()}\n",
        "\n",
        "# Identify most common POS tags\n",
        "most_common_n = total_counts_n.most_common(5)  # Top 5 most common tags\n",
        "\n",
        "most_common_nn = total_counts_nn.most_common(5)  # Top 5 most common tags\n",
        "\n",
        "\n",
        "# Print results\n",
        "print(\"Most common POS tags for Nominated Poems:\")\n",
        "for tag, count in most_common_n:\n",
        "    print(f\"{tag}: {count} ({pos_proportions_n[tag]:.2%})\")\n",
        "\n",
        "print(\"Most common POS tags for Non-Nominated Poems:\")\n",
        "for tag, count in most_common_nn:\n",
        "    print(f\"{tag}: {count} ({pos_proportions_nn[tag]:.2%})\")\n"
      ]
    },
    {
      "cell_type": "markdown",
      "metadata": {
        "id": "RxeAED9bMmp8"
      },
      "source": [
        "#5.Plot stats"
      ]
    },
    {
      "cell_type": "code",
      "execution_count": 35,
      "metadata": {
        "id": "NwjxywXLNODG"
      },
      "outputs": [
        {
          "name": "stdout",
          "output_type": "stream",
          "text": [
            "[('NN', 99), ('IN', 57), ('VB', 50), ('RB', 38), ('DT', 32)]\n"
          ]
        }
      ],
      "source": [
        "print(most_common)"
      ]
    },
    {
      "cell_type": "code",
      "execution_count": 36,
      "metadata": {
        "id": "NDcFSyKONkq-"
      },
      "outputs": [
        {
          "name": "stdout",
          "output_type": "stream",
          "text": [
            "{'VB': 0.09652509652509653, 'RB': 0.07335907335907337, 'NN': 0.19111969111969113, 'VBN': 0.019305019305019305, 'IN': 0.11003861003861004, 'PRP$': 0.04247104247104247, 'PRP': 0.04633204633204633, 'MD': 0.04247104247104247, 'JJ': 0.059845559845559844, 'WDT': 0.015444015444015444, 'VBD': 0.023166023166023165, 'VBG': 0.017374517374517374, 'TO': 0.02702702702702703, 'DT': 0.06177606177606178, 'CC': 0.03667953667953668, 'JJR': 0.007722007722007722, 'VBZ': 0.04054054054054054, 'WRB': 0.011583011583011582, 'VBP': 0.03667953667953668, 'WP': 0.003861003861003861, 'NNS': 0.019305019305019305, 'EX': 0.0019305019305019305, 'RP': 0.009652509652509652, 'RBR': 0.0019305019305019305, 'WP$': 0.0019305019305019305, 'CD': 0.0019305019305019305}\n"
          ]
        }
      ],
      "source": [
        "print(pos_proportions)"
      ]
    },
    {
      "cell_type": "code",
      "execution_count": 37,
      "metadata": {
        "id": "7kcJy9SyNjny"
      },
      "outputs": [],
      "source": [
        "sorted_pos_percentages_n = {k: v for k, v in sorted(pos_proportions_n.items(), key=lambda item: item[1], reverse=True)}\n",
        "\n",
        "sorted_pos_percentages_nn = {k: v for k, v in sorted(pos_proportions_nn.items(), key=lambda item: item[1], reverse=True)}\n",
        "\n"
      ]
    },
    {
      "cell_type": "code",
      "execution_count": 105,
      "metadata": {
        "id": "XHhIbzSNOWg3"
      },
      "outputs": [],
      "source": [
        "for tag, count in most_common_n:\n",
        "  sorted_pos_percentages_n = {k: v for k, v in sorted(pos_proportions_n.items(), key=lambda item: item[1], reverse=True)}\n",
        "\n",
        "for tag, count in most_common_nn:\n",
        "  sorted_pos_percentages_nn = {k: v for k, v in sorted(pos_proportions_nn.items(), key=lambda item: item[1], reverse=True)}\n",
        "\n"
      ]
    },
    {
      "cell_type": "code",
      "execution_count": 106,
      "metadata": {},
      "outputs": [
        {
          "data": {
            "image/png": "[encoded data removed]",
            "text/plain": [
              "<Figure size 1000x1000 with 2 Axes>"
            ]
          },
          "metadata": {},
          "output_type": "display_data"
        }
      ],
      "source": [
        "# Define the number of rows and columns for the plot grid\n",
        "rows = 1\n",
        "cols = 2\n",
        "\n",
        "# Create the plot grid\n",
        "fig, axs = plt.subplots(rows, cols, figsize=(10,10))\n",
        "\n",
        "# Flatten the plot grid to access each subplot\n",
        "axs = axs.flatten()\n",
        "\n",
        "# Loop through the dataframe rows and plot the data points on each subplot\n",
        "axs[0].bar(sorted_pos_percentages_n.keys(), sorted_pos_percentages_n.values())\n",
        "axs[1].bar(sorted_pos_percentages_nn.keys(), sorted_pos_percentages_nn.values())\n",
        "\n",
        "for i in range(len(axs)):\n",
        "    axs[i].set_title(f\"Distribution of POS across poems\")\n",
        "    axs[i].set_xlabel(\"POS\")\n",
        "    axs[i].set_ylabel(\"Percentage\")\n",
        "\n",
        "# Show the plot grid\n",
        "plt.show()"
      ]
    },
    {
      "cell_type": "code",
      "execution_count": 39,
      "metadata": {
        "id": "lnuQYypHNDwh"
      },
      "outputs": [
        {
          "data": {
            "image/png": "[encoded data removed]",
            "text/plain": [
              "<Figure size 640x480 with 1 Axes>"
            ]
          },
          "metadata": {},
          "output_type": "display_data"
        }
      ],
      "source": [
        "plt.bar(sorted_pos_percentages.keys(), sorted_pos_percentages.values())\n",
        "plt.xlabel('POS')\n",
        "plt.ylabel('Percentage')\n",
        "plt.title('Distribution of POS across poems')\n",
        "plt.show()"
      ]
    },
    {
      "cell_type": "code",
      "execution_count": 40,
      "metadata": {
        "id": "ecfhItBfO6Rq"
      },
      "outputs": [],
      "source": [
        "most_common_pos = {}\n",
        "for tag, count in most_common:\n",
        "  most_common_pos[tag] = pos_proportions[tag]"
      ]
    },
    {
      "cell_type": "code",
      "execution_count": 41,
      "metadata": {
        "id": "Sp4VbjZEP2-K"
      },
      "outputs": [
        {
          "name": "stdout",
          "output_type": "stream",
          "text": [
            "{'NN': 0.19111969111969113, 'IN': 0.11003861003861004, 'VB': 0.09652509652509653, 'RB': 0.07335907335907337, 'DT': 0.06177606177606178}\n"
          ]
        }
      ],
      "source": [
        "print(most_common_pos)"
      ]
    },
    {
      "cell_type": "code",
      "execution_count": 42,
      "metadata": {
        "id": "00dXfImnP5ev"
      },
      "outputs": [
        {
          "data": {
            "image/png": "[encoded data removed]",
            "text/plain": [
              "<Figure size 640x480 with 1 Axes>"
            ]
          },
          "metadata": {},
          "output_type": "display_data"
        }
      ],
      "source": [
        "plt.bar(most_common_pos.keys(), most_common_pos.values())\n",
        "plt.xlabel('POS')\n",
        "plt.ylabel('Percentage')\n",
        "plt.title('Distribution of POS across poems')\n",
        "plt.show()"
      ]
    },
    {
      "cell_type": "markdown",
      "metadata": {
        "id": "yeAVkuG2Rfg0"
      },
      "source": [
        "#B. Topic"
      ]
    },
    {
      "cell_type": "markdown",
      "metadata": {
        "id": "DcWcoAuuRhoG"
      },
      "source": [
        "##1. Analyze topics for the prize winning poems of that year\n"
      ]
    },
    {
      "cell_type": "code",
      "execution_count": 121,
      "metadata": {
        "id": "j7CuMXcg4oXq"
      },
      "outputs": [
        {
          "data": {
            "text/html": [
              "<div>\n",
              "<style scoped>\n",
              "    .dataframe tbody tr th:only-of-type {\n",
              "        vertical-align: middle;\n",
              "    }\n",
              "\n",
              "    .dataframe tbody tr th {\n",
              "        vertical-align: top;\n",
              "    }\n",
              "\n",
              "    .dataframe thead th {\n",
              "        text-align: right;\n",
              "    }\n",
              "</style>\n",
              "<table border=\"1\" class=\"dataframe\">\n",
              "  <thead>\n",
              "    <tr style=\"text-align: right;\">\n",
              "      <th></th>\n",
              "      <th>Unnamed: 0</th>\n",
              "      <th>Author</th>\n",
              "      <th>Title</th>\n",
              "      <th>Poem</th>\n",
              "      <th>Year</th>\n",
              "      <th>Poem_for_model</th>\n",
              "      <th>POS</th>\n",
              "      <th>dist_pos</th>\n",
              "    </tr>\n",
              "  </thead>\n",
              "  <tbody>\n",
              "    <tr>\n",
              "      <th>0</th>\n",
              "      <td>0</td>\n",
              "      <td>Phoebe Bubendorfer</td>\n",
              "      <td>OIL SPILL</td>\n",
              "      <td>A red-throated loon\\nmired in a slick of oil\\n...</td>\n",
              "      <td>2022</td>\n",
              "      <td>red throated loon mired in slick of oil strain...</td>\n",
              "      <td>[[(red, JJ)], [(throated, VBN)], [(loon, NN)],...</td>\n",
              "      <td>{'JJ': 2, 'VBN': 2, 'NN': 17, 'CD': 1, 'VBG': ...</td>\n",
              "    </tr>\n",
              "    <tr>\n",
              "      <th>1</th>\n",
              "      <td>1</td>\n",
              "      <td>Bill Graeser</td>\n",
              "      <td>THE BURNING OF THE WHALES</td>\n",
              "      <td>Fire never seems to mind\\nwhether it's the cur...</td>\n",
              "      <td>2022</td>\n",
              "      <td>fire never seems to mind whether it is the cur...</td>\n",
              "      <td>[[(fire, NN)], [(never, RB)], [(seems, VBZ)], ...</td>\n",
              "      <td>{'NN': 26, 'RB': 5, 'VBZ': 1, 'IN': 1, 'VBG': ...</td>\n",
              "    </tr>\n",
              "    <tr>\n",
              "      <th>2</th>\n",
              "      <td>2</td>\n",
              "      <td>John Mitchell</td>\n",
              "      <td>THE BUFFALO</td>\n",
              "      <td>The buffalo stands still in the wind.\\nStaring...</td>\n",
              "      <td>2022</td>\n",
              "      <td>the buffalo stands still in the wind staring a...</td>\n",
              "      <td>[[(buffalo, NN)], [(stand, NN)], [(still, RB)]...</td>\n",
              "      <td>{'NN': 17, 'RB': 3, 'VBG': 5, 'JJ': 5, 'VBN': 1}</td>\n",
              "    </tr>\n",
              "    <tr>\n",
              "      <th>3</th>\n",
              "      <td>3</td>\n",
              "      <td>Lily Nelson</td>\n",
              "      <td>FEVER</td>\n",
              "      <td>You are nine\\n      Lying on the front room co...</td>\n",
              "      <td>2022</td>\n",
              "      <td>you are nine lying on the front room couch and...</td>\n",
              "      <td>[[(nine, CD)], [(lying, VBG)], [(front, NN)], ...</td>\n",
              "      <td>{'CD': 1, 'VBG': 6, 'NN': 34, 'IN': 7, 'RB': 2...</td>\n",
              "    </tr>\n",
              "    <tr>\n",
              "      <th>4</th>\n",
              "      <td>4</td>\n",
              "      <td>Lucille Morgan Wilson</td>\n",
              "      <td>LISTENING TO DVORAK'S HUMORESQUE</td>\n",
              "      <td>The fingered notes play up and down my spine\\n...</td>\n",
              "      <td>2022</td>\n",
              "      <td>the fingered notes play up and down my spine l...</td>\n",
              "      <td>[[(fingered, VBN)], [(note, NN)], [(play, NN)]...</td>\n",
              "      <td>{'VBN': 2, 'NN': 48, 'IN': 2, 'VBG': 4, 'NNS':...</td>\n",
              "    </tr>\n",
              "  </tbody>\n",
              "</table>\n",
              "</div>"
            ],
            "text/plain": [
              "   Unnamed: 0                 Author                             Title   \n",
              "0           0     Phoebe Bubendorfer                         OIL SPILL  \\\n",
              "1           1           Bill Graeser         THE BURNING OF THE WHALES   \n",
              "2           2          John Mitchell                       THE BUFFALO   \n",
              "3           3            Lily Nelson                             FEVER   \n",
              "4           4  Lucille Morgan Wilson  LISTENING TO DVORAK'S HUMORESQUE   \n",
              "\n",
              "                                                Poem  Year   \n",
              "0  A red-throated loon\\nmired in a slick of oil\\n...  2022  \\\n",
              "1  Fire never seems to mind\\nwhether it's the cur...  2022   \n",
              "2  The buffalo stands still in the wind.\\nStaring...  2022   \n",
              "3  You are nine\\n      Lying on the front room co...  2022   \n",
              "4  The fingered notes play up and down my spine\\n...  2022   \n",
              "\n",
              "                                      Poem_for_model   \n",
              "0  red throated loon mired in slick of oil strain...  \\\n",
              "1  fire never seems to mind whether it is the cur...   \n",
              "2  the buffalo stands still in the wind staring a...   \n",
              "3  you are nine lying on the front room couch and...   \n",
              "4  the fingered notes play up and down my spine l...   \n",
              "\n",
              "                                                 POS   \n",
              "0  [[(red, JJ)], [(throated, VBN)], [(loon, NN)],...  \\\n",
              "1  [[(fire, NN)], [(never, RB)], [(seems, VBZ)], ...   \n",
              "2  [[(buffalo, NN)], [(stand, NN)], [(still, RB)]...   \n",
              "3  [[(nine, CD)], [(lying, VBG)], [(front, NN)], ...   \n",
              "4  [[(fingered, VBN)], [(note, NN)], [(play, NN)]...   \n",
              "\n",
              "                                            dist_pos  \n",
              "0  {'JJ': 2, 'VBN': 2, 'NN': 17, 'CD': 1, 'VBG': ...  \n",
              "1  {'NN': 26, 'RB': 5, 'VBZ': 1, 'IN': 1, 'VBG': ...  \n",
              "2   {'NN': 17, 'RB': 3, 'VBG': 5, 'JJ': 5, 'VBN': 1}  \n",
              "3  {'CD': 1, 'VBG': 6, 'NN': 34, 'IN': 7, 'RB': 2...  \n",
              "4  {'VBN': 2, 'NN': 48, 'IN': 2, 'VBG': 4, 'NNS':...  "
            ]
          },
          "execution_count": 121,
          "metadata": {},
          "output_type": "execute_result"
        }
      ],
      "source": [
        "data.head()"
      ]
    },
    {
      "cell_type": "code",
      "execution_count": 122,
      "metadata": {},
      "outputs": [
        {
          "data": {
            "text/html": [
              "<div>\n",
              "<style scoped>\n",
              "    .dataframe tbody tr th:only-of-type {\n",
              "        vertical-align: middle;\n",
              "    }\n",
              "\n",
              "    .dataframe tbody tr th {\n",
              "        vertical-align: top;\n",
              "    }\n",
              "\n",
              "    .dataframe thead th {\n",
              "        text-align: right;\n",
              "    }\n",
              "</style>\n",
              "<table border=\"1\" class=\"dataframe\">\n",
              "  <thead>\n",
              "    <tr style=\"text-align: right;\">\n",
              "      <th></th>\n",
              "      <th>Author</th>\n",
              "      <th>Title</th>\n",
              "      <th>Poem</th>\n",
              "      <th>Year</th>\n",
              "      <th>Poem_for_model</th>\n",
              "      <th>POS</th>\n",
              "      <th>dist_pos</th>\n",
              "    </tr>\n",
              "  </thead>\n",
              "  <tbody>\n",
              "    <tr>\n",
              "      <th>0</th>\n",
              "      <td>Phoebe Bubendorfer</td>\n",
              "      <td>OIL SPILL</td>\n",
              "      <td>A red-throated loon\\nmired in a slick of oil\\n...</td>\n",
              "      <td>2022</td>\n",
              "      <td>red throated loon mired in slick of oil strain...</td>\n",
              "      <td>[[(red, JJ)], [(throated, VBN)], [(loon, NN)],...</td>\n",
              "      <td>{'JJ': 2, 'VBN': 2, 'NN': 17, 'CD': 1, 'VBG': ...</td>\n",
              "    </tr>\n",
              "    <tr>\n",
              "      <th>1</th>\n",
              "      <td>Bill Graeser</td>\n",
              "      <td>THE BURNING OF THE WHALES</td>\n",
              "      <td>Fire never seems to mind\\nwhether it's the cur...</td>\n",
              "      <td>2022</td>\n",
              "      <td>fire never seems to mind whether it is the cur...</td>\n",
              "      <td>[[(fire, NN)], [(never, RB)], [(seems, VBZ)], ...</td>\n",
              "      <td>{'NN': 26, 'RB': 5, 'VBZ': 1, 'IN': 1, 'VBG': ...</td>\n",
              "    </tr>\n",
              "    <tr>\n",
              "      <th>2</th>\n",
              "      <td>John Mitchell</td>\n",
              "      <td>THE BUFFALO</td>\n",
              "      <td>The buffalo stands still in the wind.\\nStaring...</td>\n",
              "      <td>2022</td>\n",
              "      <td>the buffalo stands still in the wind staring a...</td>\n",
              "      <td>[[(buffalo, NN)], [(stand, NN)], [(still, RB)]...</td>\n",
              "      <td>{'NN': 17, 'RB': 3, 'VBG': 5, 'JJ': 5, 'VBN': 1}</td>\n",
              "    </tr>\n",
              "    <tr>\n",
              "      <th>3</th>\n",
              "      <td>Lily Nelson</td>\n",
              "      <td>FEVER</td>\n",
              "      <td>You are nine\\n      Lying on the front room co...</td>\n",
              "      <td>2022</td>\n",
              "      <td>you are nine lying on the front room couch and...</td>\n",
              "      <td>[[(nine, CD)], [(lying, VBG)], [(front, NN)], ...</td>\n",
              "      <td>{'CD': 1, 'VBG': 6, 'NN': 34, 'IN': 7, 'RB': 2...</td>\n",
              "    </tr>\n",
              "    <tr>\n",
              "      <th>4</th>\n",
              "      <td>Lucille Morgan Wilson</td>\n",
              "      <td>LISTENING TO DVORAK'S HUMORESQUE</td>\n",
              "      <td>The fingered notes play up and down my spine\\n...</td>\n",
              "      <td>2022</td>\n",
              "      <td>the fingered notes play up and down my spine l...</td>\n",
              "      <td>[[(fingered, VBN)], [(note, NN)], [(play, NN)]...</td>\n",
              "      <td>{'VBN': 2, 'NN': 48, 'IN': 2, 'VBG': 4, 'NNS':...</td>\n",
              "    </tr>\n",
              "    <tr>\n",
              "      <th>5</th>\n",
              "      <td>Allison Berryhill</td>\n",
              "      <td>SONNET TO MY STUDENTS ON THE FIRST DAY OF CLASS</td>\n",
              "      <td>Come in and make a mess with all your thoughts...</td>\n",
              "      <td>2021</td>\n",
              "      <td>come in and make mess with all your thoughts h...</td>\n",
              "      <td>[[(come, VB)], [(make, VB)], [(mess, NN)], [(t...</td>\n",
              "      <td>{'VB': 2, 'NN': 45, 'JJ': 3, 'VBG': 2, 'NNS': ...</td>\n",
              "    </tr>\n",
              "    <tr>\n",
              "      <th>6</th>\n",
              "      <td>Heather Ann Clark</td>\n",
              "      <td>TURTLE SHELLS</td>\n",
              "      <td>My therapist asks what else is on my mind.\\n\\n...</td>\n",
              "      <td>2021</td>\n",
              "      <td>my therapist asks what else is on my mind pith...</td>\n",
              "      <td>[[(therapist, NN)], [(asks, NNS)], [(else, RB)...</td>\n",
              "      <td>{'NN': 39, 'NNS': 1, 'RB': 8, 'IN': 1, 'VBG': ...</td>\n",
              "    </tr>\n",
              "    <tr>\n",
              "      <th>7</th>\n",
              "      <td>Jared Pearce</td>\n",
              "      <td>ILLNESS</td>\n",
              "      <td>It's like waiting for the elevator\\ndoors to r...</td>\n",
              "      <td>2021</td>\n",
              "      <td>it is like waiting for the elevator doors to r...</td>\n",
              "      <td>[[(like, IN)], [(waiting, VBG)], [(elevator, N...</td>\n",
              "      <td>{'IN': 3, 'VBG': 8, 'NN': 27, 'VB': 2, 'JJ': 4...</td>\n",
              "    </tr>\n",
              "    <tr>\n",
              "      <th>8</th>\n",
              "      <td>Shelly Reed Thieman</td>\n",
              "      <td>ON THE ANNIVERSARY OF ANOTHER WINTER</td>\n",
              "      <td>Tongue-tied with suet and peanut\\nbutter, a qu...</td>\n",
              "      <td>2021</td>\n",
              "      <td>tongue tied with suet and peanut butter quarte...</td>\n",
              "      <td>[[(tongue, NN)], [(tied, VBN)], [(suet, NN)], ...</td>\n",
              "      <td>{'NN': 45, 'VBN': 2, 'JJ': 2, 'VB': 1, 'RB': 1...</td>\n",
              "    </tr>\n",
              "    <tr>\n",
              "      <th>9</th>\n",
              "      <td>Erik Trilk</td>\n",
              "      <td>DAZED AND CONFUSED</td>\n",
              "      <td>It won't be long until I'm with the moon\\nthis...</td>\n",
              "      <td>2021</td>\n",
              "      <td>it will not be long until am with the moon thi...</td>\n",
              "      <td>[[(long, RB)], [(moon, NN)], [(summer, NN)], [...</td>\n",
              "      <td>{'RB': 4, 'NN': 50, 'VBN': 6, 'JJ': 6, 'VBG': ...</td>\n",
              "    </tr>\n",
              "    <tr>\n",
              "      <th>10</th>\n",
              "      <td>Christopher Hunter</td>\n",
              "      <td>LOUISA, AGE 6, AT REST</td>\n",
              "      <td>Louisa alighting into place\\nAlways dazzles me...</td>\n",
              "      <td>2023</td>\n",
              "      <td>louisa alighting into place always dazzles me ...</td>\n",
              "      <td>[[(louisa, NN)], [(alighting, VBG)], [(place, ...</td>\n",
              "      <td>{'NN': 13, 'VBG': 2, 'RB': 2, 'VBN': 1, 'VB': ...</td>\n",
              "    </tr>\n",
              "    <tr>\n",
              "      <th>11</th>\n",
              "      <td>Susan J Koch</td>\n",
              "      <td>SOFIA</td>\n",
              "      <td>I cannot disremember\\nthree carefree boys\\ndra...</td>\n",
              "      <td>2023</td>\n",
              "      <td>cannot disremember three carefree boys draggin...</td>\n",
              "      <td>[[(disremember, NN)], [(three, CD)], [(carefre...</td>\n",
              "      <td>{'NN': 8, 'CD': 1, 'VBG': 1, 'VBN': 1, 'RB': 1}</td>\n",
              "    </tr>\n",
              "    <tr>\n",
              "      <th>12</th>\n",
              "      <td>John Mitchell</td>\n",
              "      <td>NICHOLAS II</td>\n",
              "      <td>The ghost of the Tsar walks.\\nHe passes some J...</td>\n",
              "      <td>2023</td>\n",
              "      <td>the ghost of the tsar walks he passes some jew...</td>\n",
              "      <td>[[(ghost, NN)], [(tsar, NN)], [(walk, NN)], [(...</td>\n",
              "      <td>{'NN': 41, 'CD': 1, 'DT': 1, 'JJ': 5, 'VBG': 1...</td>\n",
              "    </tr>\n",
              "    <tr>\n",
              "      <th>13</th>\n",
              "      <td>Alise Palmer</td>\n",
              "      <td>BELTANE</td>\n",
              "      <td>A boy green shouldered, grows\\nlike corn endle...</td>\n",
              "      <td>2023</td>\n",
              "      <td>boy green shouldered grows like corn endlessly...</td>\n",
              "      <td>[[(boy, NN)], [(green, JJ)], [(shouldered, VBN...</td>\n",
              "      <td>{'NN': 26, 'JJ': 3, 'VBN': 3, 'NNS': 1, 'IN': ...</td>\n",
              "    </tr>\n",
              "    <tr>\n",
              "      <th>14</th>\n",
              "      <td>Rose Postma</td>\n",
              "      <td>ON TELLING MY MOTHER I AM PREGNANT AGAIN</td>\n",
              "      <td>My mother, who spent the day after my birth tr...</td>\n",
              "      <td>2023</td>\n",
              "      <td>my mother who spent the day after my birth try...</td>\n",
              "      <td>[[(mother, NN)], [(spent, NN)], [(day, NN)], [...</td>\n",
              "      <td>{'NN': 56, 'VBG': 4, 'DT': 2, 'VBD': 3, 'CD': ...</td>\n",
              "    </tr>\n",
              "  </tbody>\n",
              "</table>\n",
              "</div>"
            ],
            "text/plain": [
              "                   Author                                            Title   \n",
              "0      Phoebe Bubendorfer                                        OIL SPILL  \\\n",
              "1            Bill Graeser                        THE BURNING OF THE WHALES   \n",
              "2           John Mitchell                                      THE BUFFALO   \n",
              "3             Lily Nelson                                            FEVER   \n",
              "4   Lucille Morgan Wilson                 LISTENING TO DVORAK'S HUMORESQUE   \n",
              "5       Allison Berryhill  SONNET TO MY STUDENTS ON THE FIRST DAY OF CLASS   \n",
              "6       Heather Ann Clark                                    TURTLE SHELLS   \n",
              "7            Jared Pearce                                          ILLNESS   \n",
              "8     Shelly Reed Thieman             ON THE ANNIVERSARY OF ANOTHER WINTER   \n",
              "9              Erik Trilk                               DAZED AND CONFUSED   \n",
              "10     Christopher Hunter                           LOUISA, AGE 6, AT REST   \n",
              "11           Susan J Koch                                            SOFIA   \n",
              "12          John Mitchell                                      NICHOLAS II   \n",
              "13           Alise Palmer                                          BELTANE   \n",
              "14            Rose Postma         ON TELLING MY MOTHER I AM PREGNANT AGAIN   \n",
              "\n",
              "                                                 Poem  Year   \n",
              "0   A red-throated loon\\nmired in a slick of oil\\n...  2022  \\\n",
              "1   Fire never seems to mind\\nwhether it's the cur...  2022   \n",
              "2   The buffalo stands still in the wind.\\nStaring...  2022   \n",
              "3   You are nine\\n      Lying on the front room co...  2022   \n",
              "4   The fingered notes play up and down my spine\\n...  2022   \n",
              "5   Come in and make a mess with all your thoughts...  2021   \n",
              "6   My therapist asks what else is on my mind.\\n\\n...  2021   \n",
              "7   It's like waiting for the elevator\\ndoors to r...  2021   \n",
              "8   Tongue-tied with suet and peanut\\nbutter, a qu...  2021   \n",
              "9   It won't be long until I'm with the moon\\nthis...  2021   \n",
              "10  Louisa alighting into place\\nAlways dazzles me...  2023   \n",
              "11  I cannot disremember\\nthree carefree boys\\ndra...  2023   \n",
              "12  The ghost of the Tsar walks.\\nHe passes some J...  2023   \n",
              "13  A boy green shouldered, grows\\nlike corn endle...  2023   \n",
              "14  My mother, who spent the day after my birth tr...  2023   \n",
              "\n",
              "                                       Poem_for_model   \n",
              "0   red throated loon mired in slick of oil strain...  \\\n",
              "1   fire never seems to mind whether it is the cur...   \n",
              "2   the buffalo stands still in the wind staring a...   \n",
              "3   you are nine lying on the front room couch and...   \n",
              "4   the fingered notes play up and down my spine l...   \n",
              "5   come in and make mess with all your thoughts h...   \n",
              "6   my therapist asks what else is on my mind pith...   \n",
              "7   it is like waiting for the elevator doors to r...   \n",
              "8   tongue tied with suet and peanut butter quarte...   \n",
              "9   it will not be long until am with the moon thi...   \n",
              "10  louisa alighting into place always dazzles me ...   \n",
              "11  cannot disremember three carefree boys draggin...   \n",
              "12  the ghost of the tsar walks he passes some jew...   \n",
              "13  boy green shouldered grows like corn endlessly...   \n",
              "14  my mother who spent the day after my birth try...   \n",
              "\n",
              "                                                  POS   \n",
              "0   [[(red, JJ)], [(throated, VBN)], [(loon, NN)],...  \\\n",
              "1   [[(fire, NN)], [(never, RB)], [(seems, VBZ)], ...   \n",
              "2   [[(buffalo, NN)], [(stand, NN)], [(still, RB)]...   \n",
              "3   [[(nine, CD)], [(lying, VBG)], [(front, NN)], ...   \n",
              "4   [[(fingered, VBN)], [(note, NN)], [(play, NN)]...   \n",
              "5   [[(come, VB)], [(make, VB)], [(mess, NN)], [(t...   \n",
              "6   [[(therapist, NN)], [(asks, NNS)], [(else, RB)...   \n",
              "7   [[(like, IN)], [(waiting, VBG)], [(elevator, N...   \n",
              "8   [[(tongue, NN)], [(tied, VBN)], [(suet, NN)], ...   \n",
              "9   [[(long, RB)], [(moon, NN)], [(summer, NN)], [...   \n",
              "10  [[(louisa, NN)], [(alighting, VBG)], [(place, ...   \n",
              "11  [[(disremember, NN)], [(three, CD)], [(carefre...   \n",
              "12  [[(ghost, NN)], [(tsar, NN)], [(walk, NN)], [(...   \n",
              "13  [[(boy, NN)], [(green, JJ)], [(shouldered, VBN...   \n",
              "14  [[(mother, NN)], [(spent, NN)], [(day, NN)], [...   \n",
              "\n",
              "                                             dist_pos  \n",
              "0   {'JJ': 2, 'VBN': 2, 'NN': 17, 'CD': 1, 'VBG': ...  \n",
              "1   {'NN': 26, 'RB': 5, 'VBZ': 1, 'IN': 1, 'VBG': ...  \n",
              "2    {'NN': 17, 'RB': 3, 'VBG': 5, 'JJ': 5, 'VBN': 1}  \n",
              "3   {'CD': 1, 'VBG': 6, 'NN': 34, 'IN': 7, 'RB': 2...  \n",
              "4   {'VBN': 2, 'NN': 48, 'IN': 2, 'VBG': 4, 'NNS':...  \n",
              "5   {'VB': 2, 'NN': 45, 'JJ': 3, 'VBG': 2, 'NNS': ...  \n",
              "6   {'NN': 39, 'NNS': 1, 'RB': 8, 'IN': 1, 'VBG': ...  \n",
              "7   {'IN': 3, 'VBG': 8, 'NN': 27, 'VB': 2, 'JJ': 4...  \n",
              "8   {'NN': 45, 'VBN': 2, 'JJ': 2, 'VB': 1, 'RB': 1...  \n",
              "9   {'RB': 4, 'NN': 50, 'VBN': 6, 'JJ': 6, 'VBG': ...  \n",
              "10  {'NN': 13, 'VBG': 2, 'RB': 2, 'VBN': 1, 'VB': ...  \n",
              "11    {'NN': 8, 'CD': 1, 'VBG': 1, 'VBN': 1, 'RB': 1}  \n",
              "12  {'NN': 41, 'CD': 1, 'DT': 1, 'JJ': 5, 'VBG': 1...  \n",
              "13  {'NN': 26, 'JJ': 3, 'VBN': 3, 'NNS': 1, 'IN': ...  \n",
              "14  {'NN': 56, 'VBG': 4, 'DT': 2, 'VBD': 3, 'CD': ...  "
            ]
          },
          "execution_count": 122,
          "metadata": {},
          "output_type": "execute_result"
        }
      ],
      "source": [
        "data.drop(['Unnamed: 0'], axis=1)"
      ]
    },
    {
      "cell_type": "code",
      "execution_count": 123,
      "metadata": {
        "id": "YFCQSuiY7v2t"
      },
      "outputs": [],
      "source": [
        "# Preprocess the poems\n",
        "preprocessed_corpus = []\n",
        "for poem in poems:\n",
        "    # Tokenize the poem\n",
        "    tokens = nltk.word_tokenize(poem)\n",
        "    \n",
        "    # Remove stop words and lemmatize words\n",
        "    processed_tokens = [lemmatizer.lemmatize(token.lower()) for token in tokens if token.lower() not in stop_words]\n",
        "    \n",
        "    # Add processed tokens to preprocessed_corpus\n",
        "    preprocessed_corpus.append(processed_tokens)\n",
        "\n",
        "# Create dictionary and bag-of-words representations of poems\n",
        "dictionary = corpora.Dictionary(preprocessed_corpus)\n",
        "bow_corpus = [dictionary.doc2bow(poem) for poem in preprocessed_corpus]\n",
        "\n",
        "# Create the document-term matrix\n",
        "dtm = corpora.MmCorpus.serialize('dtm_corpus.mm', bow_corpus)"
      ]
    },
    {
      "cell_type": "code",
      "execution_count": 124,
      "metadata": {
        "id": "ai9x4wM57yZb"
      },
      "outputs": [],
      "source": [
        "# Preprocess the poems\n",
        "dictionary = corpora.Dictionary(preprocessed_corpus)\n",
        "corpus = [dictionary.doc2bow(poem) for poem in preprocessed_corpus]"
      ]
    },
    {
      "cell_type": "code",
      "execution_count": 125,
      "metadata": {
        "id": "Ax1LH9Ul9CJM"
      },
      "outputs": [],
      "source": [
        "from gensim.models import LdaModel\n",
        "\n",
        "# Train an LDA model on the document-term matrix\n",
        "lda_model = LdaModel(dtm, num_topics=5, id2word=dictionary, passes=10)\n"
      ]
    },
    {
      "cell_type": "code",
      "execution_count": 126,
      "metadata": {
        "id": "AK8vrIe29IWF"
      },
      "outputs": [
        {
          "name": "stdout",
          "output_type": "stream",
          "text": [
            "Coherence Score: 0.7207924633127433\n"
          ]
        }
      ],
      "source": [
        "from gensim.models import CoherenceModel\n",
        "\n",
        "# Compute the coherence score of the model\n",
        "coherence_score = CoherenceModel(model=lda_model, texts=preprocessed_corpus, dictionary=dictionary, coherence='c_v').get_coherence()\n",
        "\n",
        "print(f\"Coherence Score: {coherence_score}\")\n"
      ]
    },
    {
      "cell_type": "code",
      "execution_count": 127,
      "metadata": {
        "id": "r00ozP8H9LfN"
      },
      "outputs": [
        {
          "name": "stdout",
          "output_type": "stream",
          "text": [
            "Topic 1: 0.002*\"goose\" + 0.002*\"flag\" + 0.002*\"dream\" + 0.002*\"trying\" + 0.002*\"interlace\" + 0.002*\"broken\" + 0.002*\"pathway\" + 0.002*\"whether\" + 0.002*\"undertow\" + 0.002*\"night\"\n",
            "Topic 2: 0.002*\"wiped\" + 0.002*\"acre\" + 0.002*\"macedonia\" + 0.002*\"nugget\" + 0.002*\"barreling\" + 0.002*\"every\" + 0.002*\"heart\" + 0.002*\"without\" + 0.002*\"unshaven\" + 0.002*\"experiment\"\n",
            "Topic 3: 0.002*\"canadian\" + 0.002*\"blue\" + 0.002*\"europe\" + 0.002*\"many\" + 0.002*\"tip\" + 0.002*\"awning\" + 0.002*\"turtle\" + 0.002*\"secret\" + 0.002*\"interlace\" + 0.002*\"water\"\n",
            "Topic 4: 0.002*\"turvy\" + 0.002*\"path\" + 0.002*\"patience\" + 0.002*\"design\" + 0.002*\"quartet\" + 0.002*\"next\" + 0.002*\"afternoon\" + 0.002*\"guide\" + 0.002*\"item\" + 0.002*\"pathway\"\n",
            "Topic 5: 0.002*\"balance\" + 0.002*\"surface\" + 0.002*\"fire\" + 0.002*\"ice\" + 0.002*\"day\" + 0.002*\"deer\" + 0.002*\"chord\" + 0.002*\"undertow\" + 0.002*\"function\" + 0.002*\"finding\"\n"
          ]
        }
      ],
      "source": [
        "for topic_num, topic_words in lda_model.show_topics(num_topics=-1, num_words=10):\n",
        "    print(f\"Topic {topic_num+1}: {topic_words}\")"
      ]
    },
    {
      "cell_type": "code",
      "execution_count": 128,
      "metadata": {
        "id": "EHGwHJzU9RDV"
      },
      "outputs": [
        {
          "name": "stdout",
          "output_type": "stream",
          "text": [
            "Coherence Score: 0.7207924633127433\n",
            "Topic 1: 0.045*\"lift\" + 0.044*\"eye\" + 0.043*\"head\" + 0.042*\"slick\" + 0.042*\"toxic\" + 0.042*\"red\" + 0.042*\"acceptance\" + 0.041*\"closed\" + 0.041*\"neck\" + 0.041*\"last\"\n",
            "Topic 2: 0.046*\"acceptance\" + 0.045*\"rainbow\" + 0.043*\"lower\" + 0.043*\"neck\" + 0.043*\"strain\" + 0.043*\"loon\" + 0.043*\"red\" + 0.043*\"toxic\" + 0.042*\"quiver\" + 0.041*\"eye\"\n",
            "Topic 3: 0.044*\"last\" + 0.043*\"lift\" + 0.043*\"neck\" + 0.042*\"slick\" + 0.042*\"acceptance\" + 0.042*\"eye\" + 0.041*\"closed\" + 0.041*\"quiver\" + 0.040*\"rainbow\" + 0.040*\"wing\"\n",
            "Topic 4: 0.049*\"throated\" + 0.043*\"breast\" + 0.043*\"feather\" + 0.043*\"toxic\" + 0.043*\"lift\" + 0.042*\"loon\" + 0.042*\"head\" + 0.042*\"body\" + 0.041*\"one\" + 0.041*\"mired\"\n",
            "Topic 5: 0.046*\"mired\" + 0.045*\"last\" + 0.045*\"oil\" + 0.045*\"feather\" + 0.045*\"neck\" + 0.044*\"wing\" + 0.043*\"closed\" + 0.043*\"sludge\" + 0.042*\"toxic\" + 0.041*\"one\"\n"
          ]
        }
      ],
      "source": [
        "preprocessed_corpus = []\n",
        "    # Tokenize the poem\n",
        "tokens = nltk.word_tokenize(data['Poem_for_model'][0])\n",
        "    \n",
        "    # Remove stop words and lemmatize words\n",
        "processed_tokens = [lemmatizer.lemmatize(token.lower()) for token in tokens if token.lower() not in stop_words]\n",
        "    \n",
        "    # Add processed tokens to preprocessed_corpus\n",
        "preprocessed_corpus.append(processed_tokens)\n",
        "\n",
        "# Create dictionary and bag-of-words representations of poems\n",
        "dictionary = corpora.Dictionary(preprocessed_corpus)\n",
        "bow_corpus = [dictionary.doc2bow(poem) for poem in preprocessed_corpus]\n",
        "\n",
        "# Create the document-term matrix\n",
        "dtm_p1 = corpora.MmCorpus.serialize('dtm_corpus.mm', bow_corpus)\n",
        "\n",
        "lda_model_p1 = LdaModel(dtm_p1, num_topics=5, id2word=dictionary, passes=10)\n",
        "\n",
        "coherence_score_p1 = CoherenceModel(model=lda_model_p1, texts=preprocessed_corpus, dictionary=dictionary, coherence='c_v').get_coherence()\n",
        "\n",
        "print(f\"Coherence Score: {coherence_score}\")\n",
        "\n",
        "for topic_num, topic_words in lda_model_p1.show_topics(num_topics=-1, num_words=10):\n",
        "    print(f\"Topic {topic_num+1}: {topic_words}\")"
      ]
    },
    {
      "cell_type": "code",
      "execution_count": 129,
      "metadata": {
        "id": "_Y5UShXJRhOt"
      },
      "outputs": [],
      "source": [
        "def topic_model(poem):\n",
        "  vectorizer = CountVectorizer()\n",
        "  doc_term_matrix = vectorizer.fit_transform(poem)\n",
        "  lda_model = LatentDirichletAllocation(n_components=5, random_state=0)\n",
        "  lda_model.fit(doc_term_matrix)\n",
        "  for i, topic in enumerate(lda_model.components_):\n",
        "    print(f\"Topic {i}: {' '.join([vectorizer.get_feature_names()[index] for index in topic.argsort()[:-11:-1]])}\")\n"
      ]
    },
    {
      "cell_type": "code",
      "execution_count": 130,
      "metadata": {
        "id": "v87poHTUm5RI"
      },
      "outputs": [],
      "source": [
        "def docterm_matrix(poem):\n",
        "  poem = poem.translate(str.maketrans('', '', string.punctuation))\n",
        "  print(poem)\n",
        "  poem = poem.lower()\n",
        "  words = word_tokenize(poem)\n",
        "  stop_words = set(stopwords.words('english'))\n",
        "  words = [word for word in words if word not in stop_words]\n",
        "  vectorizer = CountVectorizer()\n",
        "  doc_term_matrix = vectorizer.fit_transform([' '.join(words)])\n",
        "  return doc_term_matrix.toarray()\n",
        "  "
      ]
    },
    {
      "cell_type": "code",
      "execution_count": 131,
      "metadata": {
        "id": "gkMPlziGpw3r"
      },
      "outputs": [],
      "source": [
        "data['doc_term_matrix'] = 4"
      ]
    },
    {
      "cell_type": "code",
      "execution_count": 132,
      "metadata": {
        "id": "6eHjGjxfptSy"
      },
      "outputs": [
        {
          "name": "stdout",
          "output_type": "stream",
          "text": [
            "red throated loon mired in slick of oil strains her neck in each effort to lift her body from the toxic sludge one last quiver of wings she lowers her head to her breast eyes closed in acceptance rainbows in her feathers\n"
          ]
        },
        {
          "ename": "ValueError",
          "evalue": "setting an array element with a sequence.",
          "output_type": "error",
          "traceback": [
            "\u001b[0;31m---------------------------------------------------------------------------\u001b[0m",
            "\u001b[0;31mTypeError\u001b[0m                                 Traceback (most recent call last)",
            "\u001b[0;31mTypeError\u001b[0m: only size-1 arrays can be converted to Python scalars",
            "\nThe above exception was the direct cause of the following exception:\n",
            "\u001b[0;31mValueError\u001b[0m                                Traceback (most recent call last)",
            "File \u001b[0;32m~/.python/current/lib/python3.8/site-packages/pandas/core/series.py:1159\u001b[0m, in \u001b[0;36mSeries.__setitem__\u001b[0;34m(self, key, value)\u001b[0m\n\u001b[1;32m   1158\u001b[0m \u001b[39mtry\u001b[39;00m:\n\u001b[0;32m-> 1159\u001b[0m     \u001b[39mself\u001b[39;49m\u001b[39m.\u001b[39;49m_set_with_engine(key, value)\n\u001b[1;32m   1160\u001b[0m \u001b[39mexcept\u001b[39;00m \u001b[39mKeyError\u001b[39;00m:\n\u001b[1;32m   1161\u001b[0m     \u001b[39m# We have a scalar (or for MultiIndex or object-dtype, scalar-like)\u001b[39;00m\n\u001b[1;32m   1162\u001b[0m     \u001b[39m#  key that is not present in self.index.\u001b[39;00m\n",
            "File \u001b[0;32m~/.python/current/lib/python3.8/site-packages/pandas/core/series.py:1225\u001b[0m, in \u001b[0;36mSeries._set_with_engine\u001b[0;34m(self, key, value)\u001b[0m\n\u001b[1;32m   1224\u001b[0m \u001b[39m# this is equivalent to self._values[key] = value\u001b[39;00m\n\u001b[0;32m-> 1225\u001b[0m \u001b[39mself\u001b[39;49m\u001b[39m.\u001b[39;49m_mgr\u001b[39m.\u001b[39;49msetitem_inplace(loc, value)\n",
            "File \u001b[0;32m~/.python/current/lib/python3.8/site-packages/pandas/core/internals/managers.py:2042\u001b[0m, in \u001b[0;36mSingleBlockManager.setitem_inplace\u001b[0;34m(self, indexer, value)\u001b[0m\n\u001b[1;32m   2040\u001b[0m     \u001b[39mself\u001b[39m\u001b[39m.\u001b[39m_cache\u001b[39m.\u001b[39mclear()\n\u001b[0;32m-> 2042\u001b[0m \u001b[39msuper\u001b[39;49m()\u001b[39m.\u001b[39;49msetitem_inplace(indexer, value)\n",
            "File \u001b[0;32m~/.python/current/lib/python3.8/site-packages/pandas/core/internals/base.py:189\u001b[0m, in \u001b[0;36mSingleDataManager.setitem_inplace\u001b[0;34m(self, indexer, value)\u001b[0m\n\u001b[1;32m    187\u001b[0m     value \u001b[39m=\u001b[39m np_can_hold_element(arr\u001b[39m.\u001b[39mdtype, value)\n\u001b[0;32m--> 189\u001b[0m arr[indexer] \u001b[39m=\u001b[39m value\n",
            "\u001b[0;31mValueError\u001b[0m: setting an array element with a sequence.",
            "\nDuring handling of the above exception, another exception occurred:\n",
            "\u001b[0;31mTypeError\u001b[0m                                 Traceback (most recent call last)",
            "\u001b[0;31mTypeError\u001b[0m: only size-1 arrays can be converted to Python scalars",
            "\nThe above exception was the direct cause of the following exception:\n",
            "\u001b[0;31mValueError\u001b[0m                                Traceback (most recent call last)",
            "Cell \u001b[0;32mIn[132], line 3\u001b[0m\n\u001b[1;32m      1\u001b[0m \u001b[39mfor\u001b[39;00m i \u001b[39min\u001b[39;00m \u001b[39mrange\u001b[39m(\u001b[39mlen\u001b[39m(data)):\n\u001b[1;32m      2\u001b[0m   poem_str \u001b[39m=\u001b[39m data[\u001b[39m'\u001b[39m\u001b[39mPoem_for_model\u001b[39m\u001b[39m'\u001b[39m][i]\n\u001b[0;32m----> 3\u001b[0m   data[\u001b[39m'\u001b[39;49m\u001b[39mdoc_term_matrix\u001b[39;49m\u001b[39m'\u001b[39;49m][i] \u001b[39m=\u001b[39m docterm_matrix(poem_str)\n",
            "File \u001b[0;32m~/.python/current/lib/python3.8/site-packages/pandas/core/series.py:1179\u001b[0m, in \u001b[0;36mSeries.__setitem__\u001b[0;34m(self, key, value)\u001b[0m\n\u001b[1;32m   1176\u001b[0m \u001b[39mexcept\u001b[39;00m (\u001b[39mTypeError\u001b[39;00m, \u001b[39mValueError\u001b[39;00m, LossySetitemError):\n\u001b[1;32m   1177\u001b[0m     \u001b[39m# The key was OK, but we cannot set the value losslessly\u001b[39;00m\n\u001b[1;32m   1178\u001b[0m     indexer \u001b[39m=\u001b[39m \u001b[39mself\u001b[39m\u001b[39m.\u001b[39mindex\u001b[39m.\u001b[39mget_loc(key)\n\u001b[0;32m-> 1179\u001b[0m     \u001b[39mself\u001b[39;49m\u001b[39m.\u001b[39;49m_set_values(indexer, value)\n\u001b[1;32m   1181\u001b[0m \u001b[39mexcept\u001b[39;00m InvalidIndexError \u001b[39mas\u001b[39;00m err:\n\u001b[1;32m   1182\u001b[0m     \u001b[39mif\u001b[39;00m \u001b[39misinstance\u001b[39m(key, \u001b[39mtuple\u001b[39m) \u001b[39mand\u001b[39;00m \u001b[39mnot\u001b[39;00m \u001b[39misinstance\u001b[39m(\u001b[39mself\u001b[39m\u001b[39m.\u001b[39mindex, MultiIndex):\n\u001b[1;32m   1183\u001b[0m         \u001b[39m# cases with MultiIndex don't get here bc they raise KeyError\u001b[39;00m\n\u001b[1;32m   1184\u001b[0m         \u001b[39m# e.g. test_basic_getitem_setitem_corner\u001b[39;00m\n",
            "File \u001b[0;32m~/.python/current/lib/python3.8/site-packages/pandas/core/series.py:1262\u001b[0m, in \u001b[0;36mSeries._set_values\u001b[0;34m(self, key, value)\u001b[0m\n\u001b[1;32m   1259\u001b[0m \u001b[39mif\u001b[39;00m \u001b[39misinstance\u001b[39m(key, (Index, Series)):\n\u001b[1;32m   1260\u001b[0m     key \u001b[39m=\u001b[39m key\u001b[39m.\u001b[39m_values\n\u001b[0;32m-> 1262\u001b[0m \u001b[39mself\u001b[39m\u001b[39m.\u001b[39m_mgr \u001b[39m=\u001b[39m \u001b[39mself\u001b[39;49m\u001b[39m.\u001b[39;49m_mgr\u001b[39m.\u001b[39;49msetitem(indexer\u001b[39m=\u001b[39;49mkey, value\u001b[39m=\u001b[39;49mvalue)\n\u001b[1;32m   1263\u001b[0m \u001b[39mself\u001b[39m\u001b[39m.\u001b[39m_maybe_update_cacher()\n",
            "File \u001b[0;32m~/.python/current/lib/python3.8/site-packages/pandas/core/internals/managers.py:394\u001b[0m, in \u001b[0;36mBaseBlockManager.setitem\u001b[0;34m(self, indexer, value)\u001b[0m\n\u001b[1;32m    389\u001b[0m \u001b[39mif\u001b[39;00m using_copy_on_write() \u001b[39mand\u001b[39;00m \u001b[39mnot\u001b[39;00m \u001b[39mself\u001b[39m\u001b[39m.\u001b[39m_has_no_reference(\u001b[39m0\u001b[39m):\n\u001b[1;32m    390\u001b[0m     \u001b[39m# if being referenced -> perform Copy-on-Write and clear the reference\u001b[39;00m\n\u001b[1;32m    391\u001b[0m     \u001b[39m# this method is only called if there is a single block -> hardcoded 0\u001b[39;00m\n\u001b[1;32m    392\u001b[0m     \u001b[39mself\u001b[39m \u001b[39m=\u001b[39m \u001b[39mself\u001b[39m\u001b[39m.\u001b[39mcopy()\n\u001b[0;32m--> 394\u001b[0m \u001b[39mreturn\u001b[39;00m \u001b[39mself\u001b[39;49m\u001b[39m.\u001b[39;49mapply(\u001b[39m\"\u001b[39;49m\u001b[39msetitem\u001b[39;49m\u001b[39m\"\u001b[39;49m, indexer\u001b[39m=\u001b[39;49mindexer, value\u001b[39m=\u001b[39;49mvalue)\n",
            "File \u001b[0;32m~/.python/current/lib/python3.8/site-packages/pandas/core/internals/managers.py:352\u001b[0m, in \u001b[0;36mBaseBlockManager.apply\u001b[0;34m(self, f, align_keys, **kwargs)\u001b[0m\n\u001b[1;32m    350\u001b[0m         applied \u001b[39m=\u001b[39m b\u001b[39m.\u001b[39mapply(f, \u001b[39m*\u001b[39m\u001b[39m*\u001b[39mkwargs)\n\u001b[1;32m    351\u001b[0m     \u001b[39melse\u001b[39;00m:\n\u001b[0;32m--> 352\u001b[0m         applied \u001b[39m=\u001b[39m \u001b[39mgetattr\u001b[39;49m(b, f)(\u001b[39m*\u001b[39;49m\u001b[39m*\u001b[39;49mkwargs)\n\u001b[1;32m    353\u001b[0m     result_blocks \u001b[39m=\u001b[39m extend_blocks(applied, result_blocks)\n\u001b[1;32m    355\u001b[0m out \u001b[39m=\u001b[39m \u001b[39mtype\u001b[39m(\u001b[39mself\u001b[39m)\u001b[39m.\u001b[39mfrom_blocks(result_blocks, \u001b[39mself\u001b[39m\u001b[39m.\u001b[39maxes)\n",
            "File \u001b[0;32m~/.python/current/lib/python3.8/site-packages/pandas/core/internals/blocks.py:1065\u001b[0m, in \u001b[0;36mBlock.setitem\u001b[0;34m(self, indexer, value, using_cow)\u001b[0m\n\u001b[1;32m   1060\u001b[0m         values \u001b[39m=\u001b[39m values\u001b[39m.\u001b[39mcopy()\n\u001b[1;32m   1061\u001b[0m         \u001b[39mself\u001b[39m \u001b[39m=\u001b[39m \u001b[39mself\u001b[39m\u001b[39m.\u001b[39mmake_block_same_class(\n\u001b[1;32m   1062\u001b[0m             values\u001b[39m.\u001b[39mT \u001b[39mif\u001b[39;00m values\u001b[39m.\u001b[39mndim \u001b[39m==\u001b[39m \u001b[39m2\u001b[39m \u001b[39melse\u001b[39;00m values\n\u001b[1;32m   1063\u001b[0m         )\n\u001b[0;32m-> 1065\u001b[0m     values[indexer] \u001b[39m=\u001b[39m casted\n\u001b[1;32m   1066\u001b[0m \u001b[39mreturn\u001b[39;00m \u001b[39mself\u001b[39m\n",
            "\u001b[0;31mValueError\u001b[0m: setting an array element with a sequence."
          ]
        }
      ],
      "source": [
        "for i in range(len(data)):\n",
        "  poem_str = data['Poem_for_model'][i]\n",
        "  data['doc_term_matrix'][i] = docterm_matrix(poem_str)"
      ]
    },
    {
      "cell_type": "code",
      "execution_count": null,
      "metadata": {
        "id": "d8SYn7XvktV9"
      },
      "outputs": [],
      "source": [
        "# Preprocess the poems\n",
        "preprocessed_corpus = []\n",
        "for i in range(len(data)):\n",
        "    # Tokenize the poem\n",
        "    tokens = nltk.word_tokenize(data['Poem_for_model'][i])\n",
        "    \n",
        "    # Remove stop words and lemmatize words\n",
        "    processed_tokens = [lemmatizer.lemmatize(token.lower()) for token in tokens if token.lower() not in stop_words]\n",
        "    \n",
        "    words = [nltk.word_tokenize(processed_token) for processed_token in processed_tokens]"
      ]
    },
    {
      "cell_type": "code",
      "execution_count": null,
      "metadata": {
        "id": "9aLCPgJJiiM0"
      },
      "outputs": [
        {
          "ename": "AttributeError",
          "evalue": "'CountVectorizer' object has no attribute 'get_feature_names'",
          "output_type": "error",
          "traceback": [
            "\u001b[0;31m---------------------------------------------------------------------------\u001b[0m",
            "\u001b[0;31mAttributeError\u001b[0m                            Traceback (most recent call last)",
            "Cell \u001b[0;32mIn[72], line 1\u001b[0m\n\u001b[0;32m----> 1\u001b[0m topic_model([data[\u001b[39m'\u001b[39;49m\u001b[39mPoem_for_model\u001b[39;49m\u001b[39m'\u001b[39;49m][\u001b[39m0\u001b[39;49m]])\n",
            "Cell \u001b[0;32mIn[67], line 7\u001b[0m, in \u001b[0;36mtopic_model\u001b[0;34m(poem)\u001b[0m\n\u001b[1;32m      5\u001b[0m lda_model\u001b[39m.\u001b[39mfit(doc_term_matrix)\n\u001b[1;32m      6\u001b[0m \u001b[39mfor\u001b[39;00m i, topic \u001b[39min\u001b[39;00m \u001b[39menumerate\u001b[39m(lda_model\u001b[39m.\u001b[39mcomponents_):\n\u001b[0;32m----> 7\u001b[0m   \u001b[39mprint\u001b[39m(\u001b[39mf\u001b[39m\u001b[39m\"\u001b[39m\u001b[39mTopic \u001b[39m\u001b[39m{\u001b[39;00mi\u001b[39m}\u001b[39;00m\u001b[39m: \u001b[39m\u001b[39m{\u001b[39;00m\u001b[39m'\u001b[39m\u001b[39m \u001b[39m\u001b[39m'\u001b[39m\u001b[39m.\u001b[39mjoin([vectorizer\u001b[39m.\u001b[39mget_feature_names()[index]\u001b[39m \u001b[39m\u001b[39mfor\u001b[39;00m\u001b[39m \u001b[39mindex\u001b[39m \u001b[39m\u001b[39min\u001b[39;00m\u001b[39m \u001b[39mtopic\u001b[39m.\u001b[39margsort()[:\u001b[39m-\u001b[39m\u001b[39m11\u001b[39m:\u001b[39m-\u001b[39m\u001b[39m1\u001b[39m]])\u001b[39m}\u001b[39;00m\u001b[39m\"\u001b[39m)\n",
            "Cell \u001b[0;32mIn[67], line 7\u001b[0m, in \u001b[0;36m<listcomp>\u001b[0;34m(.0)\u001b[0m\n\u001b[1;32m      5\u001b[0m lda_model\u001b[39m.\u001b[39mfit(doc_term_matrix)\n\u001b[1;32m      6\u001b[0m \u001b[39mfor\u001b[39;00m i, topic \u001b[39min\u001b[39;00m \u001b[39menumerate\u001b[39m(lda_model\u001b[39m.\u001b[39mcomponents_):\n\u001b[0;32m----> 7\u001b[0m   \u001b[39mprint\u001b[39m(\u001b[39mf\u001b[39m\u001b[39m\"\u001b[39m\u001b[39mTopic \u001b[39m\u001b[39m{\u001b[39;00mi\u001b[39m}\u001b[39;00m\u001b[39m: \u001b[39m\u001b[39m{\u001b[39;00m\u001b[39m'\u001b[39m\u001b[39m \u001b[39m\u001b[39m'\u001b[39m\u001b[39m.\u001b[39mjoin([vectorizer\u001b[39m.\u001b[39mget_feature_names()[index]\u001b[39m \u001b[39m\u001b[39mfor\u001b[39;00m\u001b[39m \u001b[39mindex\u001b[39m \u001b[39m\u001b[39min\u001b[39;00m\u001b[39m \u001b[39mtopic\u001b[39m.\u001b[39margsort()[:\u001b[39m-\u001b[39m\u001b[39m11\u001b[39m:\u001b[39m-\u001b[39m\u001b[39m1\u001b[39m]])\u001b[39m}\u001b[39;00m\u001b[39m\"\u001b[39m)\n",
            "\u001b[0;31mAttributeError\u001b[0m: 'CountVectorizer' object has no attribute 'get_feature_names'"
          ]
        }
      ],
      "source": [
        "topic_model([data['Poem_for_model'][0]])"
      ]
    },
    {
      "cell_type": "markdown",
      "metadata": {
        "id": "0BzCuvPJCbRy"
      },
      "source": [
        "#C. Sentiment Analysis "
      ]
    },
    {
      "cell_type": "markdown",
      "metadata": {
        "id": "V0Dsr7VWCgBK"
      },
      "source": [
        "## 1.Analyze sentiments for the prize winning poems of that year"
      ]
    },
    {
      "cell_type": "code",
      "execution_count": 43,
      "metadata": {
        "id": "Iv0dPH0MC7ZH"
      },
      "outputs": [],
      "source": [
        "poem1 = data['Poem_for_model'][0]"
      ]
    },
    {
      "cell_type": "code",
      "execution_count": 44,
      "metadata": {
        "id": "Zy70Qqc1DKhd"
      },
      "outputs": [],
      "source": [
        "data['sentiment'] = {}"
      ]
    },
    {
      "cell_type": "code",
      "execution_count": 45,
      "metadata": {
        "id": "csaOb4nWCqYn"
      },
      "outputs": [],
      "source": [
        "def check_sentiment(poem):\n",
        "  sid = SentimentIntensityAnalyzer()\n",
        "  scores = sid.polarity_scores(poem)\n",
        "  return scores"
      ]
    },
    {
      "cell_type": "code",
      "execution_count": 46,
      "metadata": {
        "id": "-bAIOwo5DPuW"
      },
      "outputs": [],
      "source": [
        "for i in range(len(data)):\n",
        "  poem = data['Poem_for_model'][i]\n",
        "  data['sentiment'][i] = check_sentiment(poem)"
      ]
    },
    {
      "cell_type": "code",
      "execution_count": 47,
      "metadata": {
        "id": "AIhaYSdVDgYQ"
      },
      "outputs": [
        {
          "data": {
            "text/html": [
              "<div>\n",
              "<style scoped>\n",
              "    .dataframe tbody tr th:only-of-type {\n",
              "        vertical-align: middle;\n",
              "    }\n",
              "\n",
              "    .dataframe tbody tr th {\n",
              "        vertical-align: top;\n",
              "    }\n",
              "\n",
              "    .dataframe thead th {\n",
              "        text-align: right;\n",
              "    }\n",
              "</style>\n",
              "<table border=\"1\" class=\"dataframe\">\n",
              "  <thead>\n",
              "    <tr style=\"text-align: right;\">\n",
              "      <th></th>\n",
              "      <th>Author</th>\n",
              "      <th>Title</th>\n",
              "      <th>Poem</th>\n",
              "      <th>Year</th>\n",
              "      <th>Poem_for_model</th>\n",
              "      <th>POS</th>\n",
              "      <th>dist_pos</th>\n",
              "      <th>sentiment</th>\n",
              "    </tr>\n",
              "  </thead>\n",
              "  <tbody>\n",
              "    <tr>\n",
              "      <th>0</th>\n",
              "      <td>Chaitra</td>\n",
              "      <td>The Desire</td>\n",
              "      <td>Dont desire someone based on their attire;\\nFo...</td>\n",
              "      <td>2020</td>\n",
              "      <td>do not desire someone based on their attire fo...</td>\n",
              "      <td>[[(desire, NN)], [(someone, NN)], [(based, VBN...</td>\n",
              "      <td>{'NN': 15, 'VBN': 3, 'MD': 3, 'JJ': 1, 'VBG': ...</td>\n",
              "      <td>{'neg': 0.128, 'neu': 0.781, 'pos': 0.091, 'co...</td>\n",
              "    </tr>\n",
              "    <tr>\n",
              "      <th>1</th>\n",
              "      <td>Chaitra</td>\n",
              "      <td>Sky-watching</td>\n",
              "      <td>Gazing at the star which is so far,\\nPraying f...</td>\n",
              "      <td>2022</td>\n",
              "      <td>gazing at the star which is so far praying for...</td>\n",
              "      <td>[[(gazing, VBG)], [(star, NN)], [(far, RB)], [...</td>\n",
              "      <td>{'VBG': 9, 'NN': 14, 'RB': 2, 'VBN': 3}</td>\n",
              "      <td>{'neg': 0.034, 'neu': 0.787, 'pos': 0.179, 'co...</td>\n",
              "    </tr>\n",
              "    <tr>\n",
              "      <th>2</th>\n",
              "      <td>Chaitra</td>\n",
              "      <td>Breathlessness</td>\n",
              "      <td>I wanna live, I don't want to die\\nBut I can't...</td>\n",
              "      <td>2021</td>\n",
              "      <td>want to live do not want to die but cannot bre...</td>\n",
              "      <td>[[(want, NN)], [(live, JJ)], [(want, NN)], [(d...</td>\n",
              "      <td>{'NN': 23, 'JJ': 5, 'VB': 1, 'VBN': 1}</td>\n",
              "      <td>{'neg': 0.112, 'neu': 0.507, 'pos': 0.381, 'co...</td>\n",
              "    </tr>\n",
              "    <tr>\n",
              "      <th>3</th>\n",
              "      <td>Chaitra</td>\n",
              "      <td>Dating</td>\n",
              "      <td>Dating is too much labour \\nWhen you don't eve...</td>\n",
              "      <td>2021</td>\n",
              "      <td>dating is too much labour when you do not even...</td>\n",
              "      <td>[[(dating, VBG)], [(much, JJ)], [(labour, NN)]...</td>\n",
              "      <td>{'VBG': 1, 'JJ': 1, 'NN': 16, 'RB': 1, 'VB': 1...</td>\n",
              "      <td>{'neg': 0.04, 'neu': 0.739, 'pos': 0.221, 'com...</td>\n",
              "    </tr>\n",
              "    <tr>\n",
              "      <th>4</th>\n",
              "      <td>Chaitra</td>\n",
              "      <td>Dearest</td>\n",
              "      <td>This distance has caused hindrance \\nbut hope ...</td>\n",
              "      <td>2020</td>\n",
              "      <td>this distance has caused hindrance but hope no...</td>\n",
              "      <td>[[(distance, NN)], [(caused, VBN)], [(hindranc...</td>\n",
              "      <td>{'NN': 22, 'VBN': 1, 'NNS': 1, 'RB': 2, 'JJ': ...</td>\n",
              "      <td>{'neg': 0.173, 'neu': 0.401, 'pos': 0.426, 'co...</td>\n",
              "    </tr>\n",
              "  </tbody>\n",
              "</table>\n",
              "</div>"
            ],
            "text/plain": [
              "    Author           Title                                               Poem   \n",
              "0  Chaitra      The Desire  Dont desire someone based on their attire;\\nFo...  \\\n",
              "1  Chaitra    Sky-watching  Gazing at the star which is so far,\\nPraying f...   \n",
              "2  Chaitra  Breathlessness  I wanna live, I don't want to die\\nBut I can't...   \n",
              "3  Chaitra          Dating  Dating is too much labour \\nWhen you don't eve...   \n",
              "4  Chaitra         Dearest  This distance has caused hindrance \\nbut hope ...   \n",
              "\n",
              "   Year                                     Poem_for_model   \n",
              "0  2020  do not desire someone based on their attire fo...  \\\n",
              "1  2022  gazing at the star which is so far praying for...   \n",
              "2  2021  want to live do not want to die but cannot bre...   \n",
              "3  2021  dating is too much labour when you do not even...   \n",
              "4  2020  this distance has caused hindrance but hope no...   \n",
              "\n",
              "                                                 POS   \n",
              "0  [[(desire, NN)], [(someone, NN)], [(based, VBN...  \\\n",
              "1  [[(gazing, VBG)], [(star, NN)], [(far, RB)], [...   \n",
              "2  [[(want, NN)], [(live, JJ)], [(want, NN)], [(d...   \n",
              "3  [[(dating, VBG)], [(much, JJ)], [(labour, NN)]...   \n",
              "4  [[(distance, NN)], [(caused, VBN)], [(hindranc...   \n",
              "\n",
              "                                            dist_pos   \n",
              "0  {'NN': 15, 'VBN': 3, 'MD': 3, 'JJ': 1, 'VBG': ...  \\\n",
              "1            {'VBG': 9, 'NN': 14, 'RB': 2, 'VBN': 3}   \n",
              "2             {'NN': 23, 'JJ': 5, 'VB': 1, 'VBN': 1}   \n",
              "3  {'VBG': 1, 'JJ': 1, 'NN': 16, 'RB': 1, 'VB': 1...   \n",
              "4  {'NN': 22, 'VBN': 1, 'NNS': 1, 'RB': 2, 'JJ': ...   \n",
              "\n",
              "                                           sentiment  \n",
              "0  {'neg': 0.128, 'neu': 0.781, 'pos': 0.091, 'co...  \n",
              "1  {'neg': 0.034, 'neu': 0.787, 'pos': 0.179, 'co...  \n",
              "2  {'neg': 0.112, 'neu': 0.507, 'pos': 0.381, 'co...  \n",
              "3  {'neg': 0.04, 'neu': 0.739, 'pos': 0.221, 'com...  \n",
              "4  {'neg': 0.173, 'neu': 0.401, 'pos': 0.426, 'co...  "
            ]
          },
          "execution_count": 47,
          "metadata": {},
          "output_type": "execute_result"
        }
      ],
      "source": [
        "data.head()"
      ]
    },
    {
      "cell_type": "code",
      "execution_count": 48,
      "metadata": {
        "id": "uCODVRXeD0Nj"
      },
      "outputs": [],
      "source": [
        "def plot_dist_sentiment(dict):\n",
        "  senti = list(dict.keys())\n",
        "  counts = list(dict.values())\n",
        "\n",
        "  # Create a bar plot\n",
        "  plt.bar(senti, counts)\n",
        "  plt.xlabel('Sentiment')\n",
        "  plt.ylabel('Count')\n",
        "  plt.title('Distribution of Sentiments in Pushcart NOminated Poem')\n",
        "  plt.show()"
      ]
    },
    {
      "cell_type": "markdown",
      "metadata": {
        "id": "G0NXW3BZE-hv"
      },
      "source": [
        "The compound score is a metric used in sentiment analysis to represent the overall polarity of a text, ranging from -1 (most negative) to +1 (most positive). It takes into account the values of the positive, negative, and neutral scores and is calculated using a normalization method. The compound score can be used to quickly determine the sentiment of a text and can be used to compare the sentiment of different texts."
      ]
    },
    {
      "cell_type": "code",
      "execution_count": 49,
      "metadata": {
        "id": "-kxXZVDtD_ki"
      },
      "outputs": [
        {
          "data": {
            "image/png": "[encoded data removed]",
            "text/plain": [
              "<Figure size 640x480 with 1 Axes>"
            ]
          },
          "metadata": {},
          "output_type": "display_data"
        },
        {
          "data": {
            "image/png": "[encoded data removed]",
            "text/plain": [
              "<Figure size 640x480 with 1 Axes>"
            ]
          },
          "metadata": {},
          "output_type": "display_data"
        },
        {
          "data": {
            "image/png": "[encoded data removed]",
            "text/plain": [
              "<Figure size 640x480 with 1 Axes>"
            ]
          },
          "metadata": {},
          "output_type": "display_data"
        },
        {
          "data": {
            "image/png": "[encoded data removed]",
            "text/plain": [
              "<Figure size 640x480 with 1 Axes>"
            ]
          },
          "metadata": {},
          "output_type": "display_data"
        },
        {
          "data": {
            "image/png": "[encoded data removed]",
            "text/plain": [
              "<Figure size 640x480 with 1 Axes>"
            ]
          },
          "metadata": {},
          "output_type": "display_data"
        },
        {
          "data": {
            "image/png": "[encoded data removed]",
            "text/plain": [
              "<Figure size 640x480 with 1 Axes>"
            ]
          },
          "metadata": {},
          "output_type": "display_data"
        },
        {
          "data": {
            "image/png": "[encoded data removed]",
            "text/plain": [
              "<Figure size 640x480 with 1 Axes>"
            ]
          },
          "metadata": {},
          "output_type": "display_data"
        },
        {
          "data": {
            "image/png": "[encoded data removed]",
            "text/plain": [
              "<Figure size 640x480 with 1 Axes>"
            ]
          },
          "metadata": {},
          "output_type": "display_data"
        },
        {
          "data": {
            "image/png": "[encoded data removed]",
            "text/plain": [
              "<Figure size 640x480 with 1 Axes>"
            ]
          },
          "metadata": {},
          "output_type": "display_data"
        }
      ],
      "source": [
        "for i in range(len(data)):\n",
        "  plot_dist_sentiment(data['sentiment'][i])"
      ]
    },
    {
      "cell_type": "code",
      "execution_count": 50,
      "metadata": {},
      "outputs": [
        {
          "data": {
            "text/html": [
              "<div>\n",
              "<style scoped>\n",
              "    .dataframe tbody tr th:only-of-type {\n",
              "        vertical-align: middle;\n",
              "    }\n",
              "\n",
              "    .dataframe tbody tr th {\n",
              "        vertical-align: top;\n",
              "    }\n",
              "\n",
              "    .dataframe thead th {\n",
              "        text-align: right;\n",
              "    }\n",
              "</style>\n",
              "<table border=\"1\" class=\"dataframe\">\n",
              "  <thead>\n",
              "    <tr style=\"text-align: right;\">\n",
              "      <th></th>\n",
              "      <th>Author</th>\n",
              "      <th>Title</th>\n",
              "      <th>Poem</th>\n",
              "      <th>Year</th>\n",
              "      <th>Poem_for_model</th>\n",
              "      <th>POS</th>\n",
              "      <th>dist_pos</th>\n",
              "      <th>sentiment</th>\n",
              "    </tr>\n",
              "  </thead>\n",
              "  <tbody>\n",
              "    <tr>\n",
              "      <th>0</th>\n",
              "      <td>Chaitra</td>\n",
              "      <td>The Desire</td>\n",
              "      <td>Dont desire someone based on their attire;\\nFo...</td>\n",
              "      <td>2020</td>\n",
              "      <td>do not desire someone based on their attire fo...</td>\n",
              "      <td>[[(desire, NN)], [(someone, NN)], [(based, VBN...</td>\n",
              "      <td>{'NN': 15, 'VBN': 3, 'MD': 3, 'JJ': 1, 'VBG': ...</td>\n",
              "      <td>{'neg': 0.128, 'neu': 0.781, 'pos': 0.091, 'co...</td>\n",
              "    </tr>\n",
              "    <tr>\n",
              "      <th>1</th>\n",
              "      <td>Chaitra</td>\n",
              "      <td>Sky-watching</td>\n",
              "      <td>Gazing at the star which is so far,\\nPraying f...</td>\n",
              "      <td>2022</td>\n",
              "      <td>gazing at the star which is so far praying for...</td>\n",
              "      <td>[[(gazing, VBG)], [(star, NN)], [(far, RB)], [...</td>\n",
              "      <td>{'VBG': 9, 'NN': 14, 'RB': 2, 'VBN': 3}</td>\n",
              "      <td>{'neg': 0.034, 'neu': 0.787, 'pos': 0.179, 'co...</td>\n",
              "    </tr>\n",
              "    <tr>\n",
              "      <th>2</th>\n",
              "      <td>Chaitra</td>\n",
              "      <td>Breathlessness</td>\n",
              "      <td>I wanna live, I don't want to die\\nBut I can't...</td>\n",
              "      <td>2021</td>\n",
              "      <td>want to live do not want to die but cannot bre...</td>\n",
              "      <td>[[(want, NN)], [(live, JJ)], [(want, NN)], [(d...</td>\n",
              "      <td>{'NN': 23, 'JJ': 5, 'VB': 1, 'VBN': 1}</td>\n",
              "      <td>{'neg': 0.112, 'neu': 0.507, 'pos': 0.381, 'co...</td>\n",
              "    </tr>\n",
              "    <tr>\n",
              "      <th>3</th>\n",
              "      <td>Chaitra</td>\n",
              "      <td>Dating</td>\n",
              "      <td>Dating is too much labour \\nWhen you don't eve...</td>\n",
              "      <td>2021</td>\n",
              "      <td>dating is too much labour when you do not even...</td>\n",
              "      <td>[[(dating, VBG)], [(much, JJ)], [(labour, NN)]...</td>\n",
              "      <td>{'VBG': 1, 'JJ': 1, 'NN': 16, 'RB': 1, 'VB': 1...</td>\n",
              "      <td>{'neg': 0.04, 'neu': 0.739, 'pos': 0.221, 'com...</td>\n",
              "    </tr>\n",
              "    <tr>\n",
              "      <th>4</th>\n",
              "      <td>Chaitra</td>\n",
              "      <td>Dearest</td>\n",
              "      <td>This distance has caused hindrance \\nbut hope ...</td>\n",
              "      <td>2020</td>\n",
              "      <td>this distance has caused hindrance but hope no...</td>\n",
              "      <td>[[(distance, NN)], [(caused, VBN)], [(hindranc...</td>\n",
              "      <td>{'NN': 22, 'VBN': 1, 'NNS': 1, 'RB': 2, 'JJ': ...</td>\n",
              "      <td>{'neg': 0.173, 'neu': 0.401, 'pos': 0.426, 'co...</td>\n",
              "    </tr>\n",
              "  </tbody>\n",
              "</table>\n",
              "</div>"
            ],
            "text/plain": [
              "    Author           Title                                               Poem   \n",
              "0  Chaitra      The Desire  Dont desire someone based on their attire;\\nFo...  \\\n",
              "1  Chaitra    Sky-watching  Gazing at the star which is so far,\\nPraying f...   \n",
              "2  Chaitra  Breathlessness  I wanna live, I don't want to die\\nBut I can't...   \n",
              "3  Chaitra          Dating  Dating is too much labour \\nWhen you don't eve...   \n",
              "4  Chaitra         Dearest  This distance has caused hindrance \\nbut hope ...   \n",
              "\n",
              "   Year                                     Poem_for_model   \n",
              "0  2020  do not desire someone based on their attire fo...  \\\n",
              "1  2022  gazing at the star which is so far praying for...   \n",
              "2  2021  want to live do not want to die but cannot bre...   \n",
              "3  2021  dating is too much labour when you do not even...   \n",
              "4  2020  this distance has caused hindrance but hope no...   \n",
              "\n",
              "                                                 POS   \n",
              "0  [[(desire, NN)], [(someone, NN)], [(based, VBN...  \\\n",
              "1  [[(gazing, VBG)], [(star, NN)], [(far, RB)], [...   \n",
              "2  [[(want, NN)], [(live, JJ)], [(want, NN)], [(d...   \n",
              "3  [[(dating, VBG)], [(much, JJ)], [(labour, NN)]...   \n",
              "4  [[(distance, NN)], [(caused, VBN)], [(hindranc...   \n",
              "\n",
              "                                            dist_pos   \n",
              "0  {'NN': 15, 'VBN': 3, 'MD': 3, 'JJ': 1, 'VBG': ...  \\\n",
              "1            {'VBG': 9, 'NN': 14, 'RB': 2, 'VBN': 3}   \n",
              "2             {'NN': 23, 'JJ': 5, 'VB': 1, 'VBN': 1}   \n",
              "3  {'VBG': 1, 'JJ': 1, 'NN': 16, 'RB': 1, 'VB': 1...   \n",
              "4  {'NN': 22, 'VBN': 1, 'NNS': 1, 'RB': 2, 'JJ': ...   \n",
              "\n",
              "                                           sentiment  \n",
              "0  {'neg': 0.128, 'neu': 0.781, 'pos': 0.091, 'co...  \n",
              "1  {'neg': 0.034, 'neu': 0.787, 'pos': 0.179, 'co...  \n",
              "2  {'neg': 0.112, 'neu': 0.507, 'pos': 0.381, 'co...  \n",
              "3  {'neg': 0.04, 'neu': 0.739, 'pos': 0.221, 'com...  \n",
              "4  {'neg': 0.173, 'neu': 0.401, 'pos': 0.426, 'co...  "
            ]
          },
          "execution_count": 50,
          "metadata": {},
          "output_type": "execute_result"
        }
      ],
      "source": [
        "data.head()"
      ]
    },
    {
      "cell_type": "code",
      "execution_count": 51,
      "metadata": {},
      "outputs": [],
      "source": [
        "data.to_json(r'Pushcart_Non-nomination.json',orient='columns')\n"
      ]
    },
    {
      "cell_type": "code",
      "execution_count": 56,
      "metadata": {},
      "outputs": [],
      "source": [
        "with open('Pushcart_Non-nomination.json') as f:\n",
        "    data_json= pd.read_json(f, orient='columns')"
      ]
    },
    {
      "cell_type": "code",
      "execution_count": 78,
      "metadata": {},
      "outputs": [],
      "source": [
        "with open('Pushcart_nomination.json') as f:\n",
        "    data_PN_json= pd.read_json(f, orient='columns')"
      ]
    },
    {
      "cell_type": "code",
      "execution_count": 79,
      "metadata": {},
      "outputs": [
        {
          "data": {
            "text/html": [
              "<div>\n",
              "<style scoped>\n",
              "    .dataframe tbody tr th:only-of-type {\n",
              "        vertical-align: middle;\n",
              "    }\n",
              "\n",
              "    .dataframe tbody tr th {\n",
              "        vertical-align: top;\n",
              "    }\n",
              "\n",
              "    .dataframe thead th {\n",
              "        text-align: right;\n",
              "    }\n",
              "</style>\n",
              "<table border=\"1\" class=\"dataframe\">\n",
              "  <thead>\n",
              "    <tr style=\"text-align: right;\">\n",
              "      <th></th>\n",
              "      <th>Author</th>\n",
              "      <th>Title</th>\n",
              "      <th>Poem</th>\n",
              "      <th>Year</th>\n",
              "      <th>Poem_for_model</th>\n",
              "      <th>POS</th>\n",
              "      <th>dist_pos</th>\n",
              "      <th>doc_term_matrix</th>\n",
              "    </tr>\n",
              "  </thead>\n",
              "  <tbody>\n",
              "    <tr>\n",
              "      <th>0</th>\n",
              "      <td>Phoebe Bubendorfer</td>\n",
              "      <td>OIL SPILL</td>\n",
              "      <td>A red-throated loon\\nmired in a slick of oil\\n...</td>\n",
              "      <td>2022</td>\n",
              "      <td>red throated loon mired in slick of oil strain...</td>\n",
              "      <td>[[[red, JJ]], [[throated, VBN]], [[loon, NN]],...</td>\n",
              "      <td>{'JJ': 2, 'VBN': 2, 'NN': 17, 'CD': 1, 'VBG': ...</td>\n",
              "      <td>4</td>\n",
              "    </tr>\n",
              "    <tr>\n",
              "      <th>1</th>\n",
              "      <td>Bill Graeser</td>\n",
              "      <td>THE BURNING OF THE WHALES</td>\n",
              "      <td>Fire never seems to mind\\nwhether it's the cur...</td>\n",
              "      <td>2022</td>\n",
              "      <td>fire never seems to mind whether it is the cur...</td>\n",
              "      <td>[[[fire, NN]], [[never, RB]], [[seems, VBZ]], ...</td>\n",
              "      <td>{'NN': 26, 'RB': 5, 'VBZ': 1, 'IN': 1, 'VBG': ...</td>\n",
              "      <td>4</td>\n",
              "    </tr>\n",
              "    <tr>\n",
              "      <th>2</th>\n",
              "      <td>John Mitchell</td>\n",
              "      <td>THE BUFFALO</td>\n",
              "      <td>The buffalo stands still in the wind.\\nStaring...</td>\n",
              "      <td>2022</td>\n",
              "      <td>the buffalo stands still in the wind staring a...</td>\n",
              "      <td>[[[buffalo, NN]], [[stand, NN]], [[still, RB]]...</td>\n",
              "      <td>{'NN': 17, 'RB': 3, 'VBG': 5, 'JJ': 5, 'VBN': 1}</td>\n",
              "      <td>4</td>\n",
              "    </tr>\n",
              "    <tr>\n",
              "      <th>3</th>\n",
              "      <td>Lily Nelson</td>\n",
              "      <td>FEVER</td>\n",
              "      <td>You are nine\\n      Lying on the front room co...</td>\n",
              "      <td>2022</td>\n",
              "      <td>you are nine lying on the front room couch and...</td>\n",
              "      <td>[[[nine, CD]], [[lying, VBG]], [[front, NN]], ...</td>\n",
              "      <td>{'CD': 1, 'VBG': 6, 'NN': 34, 'IN': 7, 'RB': 2...</td>\n",
              "      <td>4</td>\n",
              "    </tr>\n",
              "    <tr>\n",
              "      <th>4</th>\n",
              "      <td>Lucille Morgan Wilson</td>\n",
              "      <td>LISTENING TO DVORAK'S HUMORESQUE</td>\n",
              "      <td>The fingered notes play up and down my spine\\n...</td>\n",
              "      <td>2022</td>\n",
              "      <td>the fingered notes play up and down my spine l...</td>\n",
              "      <td>[[[fingered, VBN]], [[note, NN]], [[play, NN]]...</td>\n",
              "      <td>{'VBN': 2, 'NN': 48, 'IN': 2, 'VBG': 4, 'NNS':...</td>\n",
              "      <td>4</td>\n",
              "    </tr>\n",
              "  </tbody>\n",
              "</table>\n",
              "</div>"
            ],
            "text/plain": [
              "                  Author                             Title   \n",
              "0     Phoebe Bubendorfer                         OIL SPILL  \\\n",
              "1           Bill Graeser         THE BURNING OF THE WHALES   \n",
              "2          John Mitchell                       THE BUFFALO   \n",
              "3            Lily Nelson                             FEVER   \n",
              "4  Lucille Morgan Wilson  LISTENING TO DVORAK'S HUMORESQUE   \n",
              "\n",
              "                                                Poem  Year   \n",
              "0  A red-throated loon\\nmired in a slick of oil\\n...  2022  \\\n",
              "1  Fire never seems to mind\\nwhether it's the cur...  2022   \n",
              "2  The buffalo stands still in the wind.\\nStaring...  2022   \n",
              "3  You are nine\\n      Lying on the front room co...  2022   \n",
              "4  The fingered notes play up and down my spine\\n...  2022   \n",
              "\n",
              "                                      Poem_for_model   \n",
              "0  red throated loon mired in slick of oil strain...  \\\n",
              "1  fire never seems to mind whether it is the cur...   \n",
              "2  the buffalo stands still in the wind staring a...   \n",
              "3  you are nine lying on the front room couch and...   \n",
              "4  the fingered notes play up and down my spine l...   \n",
              "\n",
              "                                                 POS   \n",
              "0  [[[red, JJ]], [[throated, VBN]], [[loon, NN]],...  \\\n",
              "1  [[[fire, NN]], [[never, RB]], [[seems, VBZ]], ...   \n",
              "2  [[[buffalo, NN]], [[stand, NN]], [[still, RB]]...   \n",
              "3  [[[nine, CD]], [[lying, VBG]], [[front, NN]], ...   \n",
              "4  [[[fingered, VBN]], [[note, NN]], [[play, NN]]...   \n",
              "\n",
              "                                            dist_pos  doc_term_matrix  \n",
              "0  {'JJ': 2, 'VBN': 2, 'NN': 17, 'CD': 1, 'VBG': ...                4  \n",
              "1  {'NN': 26, 'RB': 5, 'VBZ': 1, 'IN': 1, 'VBG': ...                4  \n",
              "2   {'NN': 17, 'RB': 3, 'VBG': 5, 'JJ': 5, 'VBN': 1}                4  \n",
              "3  {'CD': 1, 'VBG': 6, 'NN': 34, 'IN': 7, 'RB': 2...                4  \n",
              "4  {'VBN': 2, 'NN': 48, 'IN': 2, 'VBG': 4, 'NNS':...                4  "
            ]
          },
          "execution_count": 79,
          "metadata": {},
          "output_type": "execute_result"
        }
      ],
      "source": [
        "data_PN_json.head()"
      ]
    },
    {
      "cell_type": "code",
      "execution_count": 57,
      "metadata": {},
      "outputs": [
        {
          "data": {
            "text/html": [
              "<div>\n",
              "<style scoped>\n",
              "    .dataframe tbody tr th:only-of-type {\n",
              "        vertical-align: middle;\n",
              "    }\n",
              "\n",
              "    .dataframe tbody tr th {\n",
              "        vertical-align: top;\n",
              "    }\n",
              "\n",
              "    .dataframe thead th {\n",
              "        text-align: right;\n",
              "    }\n",
              "</style>\n",
              "<table border=\"1\" class=\"dataframe\">\n",
              "  <thead>\n",
              "    <tr style=\"text-align: right;\">\n",
              "      <th></th>\n",
              "      <th>Author</th>\n",
              "      <th>Title</th>\n",
              "      <th>Poem</th>\n",
              "      <th>Year</th>\n",
              "      <th>Poem_for_model</th>\n",
              "      <th>POS</th>\n",
              "      <th>dist_pos</th>\n",
              "      <th>sentiment</th>\n",
              "    </tr>\n",
              "  </thead>\n",
              "  <tbody>\n",
              "    <tr>\n",
              "      <th>0</th>\n",
              "      <td>Chaitra</td>\n",
              "      <td>The Desire</td>\n",
              "      <td>Dont desire someone based on their attire;\\nFo...</td>\n",
              "      <td>2020</td>\n",
              "      <td>do not desire someone based on their attire fo...</td>\n",
              "      <td>[[[desire, NN]], [[someone, NN]], [[based, VBN...</td>\n",
              "      <td>{'NN': 15, 'VBN': 3, 'MD': 3, 'JJ': 1, 'VBG': ...</td>\n",
              "      <td>{'neg': 0.128, 'neu': 0.781, 'pos': 0.091, 'co...</td>\n",
              "    </tr>\n",
              "    <tr>\n",
              "      <th>1</th>\n",
              "      <td>Chaitra</td>\n",
              "      <td>Sky-watching</td>\n",
              "      <td>Gazing at the star which is so far,\\nPraying f...</td>\n",
              "      <td>2022</td>\n",
              "      <td>gazing at the star which is so far praying for...</td>\n",
              "      <td>[[[gazing, VBG]], [[star, NN]], [[far, RB]], [...</td>\n",
              "      <td>{'VBG': 9, 'NN': 14, 'RB': 2, 'VBN': 3}</td>\n",
              "      <td>{'neg': 0.034, 'neu': 0.787, 'pos': 0.179, 'co...</td>\n",
              "    </tr>\n",
              "    <tr>\n",
              "      <th>2</th>\n",
              "      <td>Chaitra</td>\n",
              "      <td>Breathlessness</td>\n",
              "      <td>I wanna live, I don't want to die\\nBut I can't...</td>\n",
              "      <td>2021</td>\n",
              "      <td>want to live do not want to die but cannot bre...</td>\n",
              "      <td>[[[want, NN]], [[live, JJ]], [[want, NN]], [[d...</td>\n",
              "      <td>{'NN': 23, 'JJ': 5, 'VB': 1, 'VBN': 1}</td>\n",
              "      <td>{'neg': 0.112, 'neu': 0.507, 'pos': 0.381, 'co...</td>\n",
              "    </tr>\n",
              "    <tr>\n",
              "      <th>3</th>\n",
              "      <td>Chaitra</td>\n",
              "      <td>Dating</td>\n",
              "      <td>Dating is too much labour \\nWhen you don't eve...</td>\n",
              "      <td>2021</td>\n",
              "      <td>dating is too much labour when you do not even...</td>\n",
              "      <td>[[[dating, VBG]], [[much, JJ]], [[labour, NN]]...</td>\n",
              "      <td>{'VBG': 1, 'JJ': 1, 'NN': 16, 'RB': 1, 'VB': 1...</td>\n",
              "      <td>{'neg': 0.04, 'neu': 0.739, 'pos': 0.221, 'com...</td>\n",
              "    </tr>\n",
              "    <tr>\n",
              "      <th>4</th>\n",
              "      <td>Chaitra</td>\n",
              "      <td>Dearest</td>\n",
              "      <td>This distance has caused hindrance \\nbut hope ...</td>\n",
              "      <td>2020</td>\n",
              "      <td>this distance has caused hindrance but hope no...</td>\n",
              "      <td>[[[distance, NN]], [[caused, VBN]], [[hindranc...</td>\n",
              "      <td>{'NN': 22, 'VBN': 1, 'NNS': 1, 'RB': 2, 'JJ': ...</td>\n",
              "      <td>{'neg': 0.17300000000000001, 'neu': 0.401, 'po...</td>\n",
              "    </tr>\n",
              "  </tbody>\n",
              "</table>\n",
              "</div>"
            ],
            "text/plain": [
              "    Author           Title                                               Poem   \n",
              "0  Chaitra      The Desire  Dont desire someone based on their attire;\\nFo...  \\\n",
              "1  Chaitra    Sky-watching  Gazing at the star which is so far,\\nPraying f...   \n",
              "2  Chaitra  Breathlessness  I wanna live, I don't want to die\\nBut I can't...   \n",
              "3  Chaitra          Dating  Dating is too much labour \\nWhen you don't eve...   \n",
              "4  Chaitra         Dearest  This distance has caused hindrance \\nbut hope ...   \n",
              "\n",
              "   Year                                     Poem_for_model   \n",
              "0  2020  do not desire someone based on their attire fo...  \\\n",
              "1  2022  gazing at the star which is so far praying for...   \n",
              "2  2021  want to live do not want to die but cannot bre...   \n",
              "3  2021  dating is too much labour when you do not even...   \n",
              "4  2020  this distance has caused hindrance but hope no...   \n",
              "\n",
              "                                                 POS   \n",
              "0  [[[desire, NN]], [[someone, NN]], [[based, VBN...  \\\n",
              "1  [[[gazing, VBG]], [[star, NN]], [[far, RB]], [...   \n",
              "2  [[[want, NN]], [[live, JJ]], [[want, NN]], [[d...   \n",
              "3  [[[dating, VBG]], [[much, JJ]], [[labour, NN]]...   \n",
              "4  [[[distance, NN]], [[caused, VBN]], [[hindranc...   \n",
              "\n",
              "                                            dist_pos   \n",
              "0  {'NN': 15, 'VBN': 3, 'MD': 3, 'JJ': 1, 'VBG': ...  \\\n",
              "1            {'VBG': 9, 'NN': 14, 'RB': 2, 'VBN': 3}   \n",
              "2             {'NN': 23, 'JJ': 5, 'VB': 1, 'VBN': 1}   \n",
              "3  {'VBG': 1, 'JJ': 1, 'NN': 16, 'RB': 1, 'VB': 1...   \n",
              "4  {'NN': 22, 'VBN': 1, 'NNS': 1, 'RB': 2, 'JJ': ...   \n",
              "\n",
              "                                           sentiment  \n",
              "0  {'neg': 0.128, 'neu': 0.781, 'pos': 0.091, 'co...  \n",
              "1  {'neg': 0.034, 'neu': 0.787, 'pos': 0.179, 'co...  \n",
              "2  {'neg': 0.112, 'neu': 0.507, 'pos': 0.381, 'co...  \n",
              "3  {'neg': 0.04, 'neu': 0.739, 'pos': 0.221, 'com...  \n",
              "4  {'neg': 0.17300000000000001, 'neu': 0.401, 'po...  "
            ]
          },
          "execution_count": 57,
          "metadata": {},
          "output_type": "execute_result"
        }
      ],
      "source": [
        "data_json.head()"
      ]
    },
    {
      "cell_type": "markdown",
      "metadata": {
        "id": "2qIoyb4ICMmc"
      },
      "source": [
        "#D. [Extra credit]Build and Use Knowledge Graphs for 2 poems, 2 Pushcart nominated poems"
      ]
    },
    {
      "cell_type": "code",
      "execution_count": 52,
      "metadata": {
        "id": "gb8Vg6OUCUHh"
      },
      "outputs": [],
      "source": [
        "tokenizer = AutoTokenizer.from_pretrained(\"Babelscape/rebel-large\")\n",
        "model = AutoModelForSeq2SeqLM.from_pretrained(\"Babelscape/rebel-large\")"
      ]
    },
    {
      "cell_type": "code",
      "execution_count": 53,
      "metadata": {
        "id": "4mNCZelwCXCs"
      },
      "outputs": [],
      "source": [
        "def extract_relations_from_model_output(text):\n",
        "    relations = []\n",
        "    relation, subject, relation, object_ = '', '', '', ''\n",
        "    text = text.strip()\n",
        "    current = 'x'\n",
        "    text_replaced = text.replace(\"<s>\", \"\").replace(\"<pad>\", \"\").replace(\"</s>\", \"\")\n",
        "    for token in text_replaced.split():\n",
        "        if token == \"<triplet>\":\n",
        "            current = 't'\n",
        "            if relation != '':\n",
        "                relations.append({\n",
        "                    'head': subject.strip(),\n",
        "                    'type': relation.strip(),\n",
        "                    'tail': object_.strip()\n",
        "                })\n",
        "                relation = ''\n",
        "            subject = ''\n",
        "        elif token == \"<subj>\":\n",
        "            current = 's'\n",
        "            if relation != '':\n",
        "                relations.append({\n",
        "                    'head': subject.strip(),\n",
        "                    'type': relation.strip(),\n",
        "                    'tail': object_.strip()\n",
        "                })\n",
        "            object_ = ''\n",
        "        elif token == \"<obj>\":\n",
        "            current = 'o'\n",
        "            relation = ''\n",
        "        else:\n",
        "            if current == 't':\n",
        "                subject += ' ' + token\n",
        "            elif current == 's':\n",
        "                object_ += ' ' + token\n",
        "            elif current == 'o':\n",
        "                relation += ' ' + token\n",
        "    if subject != '' and relation != '' and object_ != '':\n",
        "        relations.append({\n",
        "            'head': subject.strip(),\n",
        "            'type': relation.strip(),\n",
        "            'tail': object_.strip()\n",
        "        })\n",
        "    return relations"
      ]
    },
    {
      "cell_type": "code",
      "execution_count": 54,
      "metadata": {
        "id": "LBB1DWKmD4Mf"
      },
      "outputs": [],
      "source": [
        "class KB():\n",
        "    def __init__(self):\n",
        "        self.entities = {}\n",
        "        self.relations = []\n",
        "\n",
        "    def are_relations_equal(self, r1, r2):\n",
        "        return all(r1[attr] == r2[attr] for attr in [\"head\", \"type\", \"tail\"])\n",
        "\n",
        "    def exists_relation(self, r1):\n",
        "        return any(self.are_relations_equal(r1, r2) for r2 in self.relations)\n",
        "\n",
        "    def merge_relations(self, r1):\n",
        "        r2 = [r for r in self.relations\n",
        "              if self.are_relations_equal(r1, r)][0]\n",
        "        spans_to_add = [span for span in r1[\"meta\"][\"spans\"]\n",
        "                        if span not in r2[\"meta\"][\"spans\"]]\n",
        "        r2[\"meta\"][\"spans\"] += spans_to_add\n",
        "\n",
        "    def get_wikipedia_data(self, candidate_entity):\n",
        "        try:\n",
        "            page = wikipedia.page(candidate_entity, auto_suggest=False)\n",
        "            entity_data = {\n",
        "                \"title\": page.title,\n",
        "                \"url\": page.url,\n",
        "                \"summary\": page.summary\n",
        "            }\n",
        "            return entity_data\n",
        "        except:\n",
        "            return None\n",
        "\n",
        "    def add_entity(self, e):\n",
        "        self.entities[e[\"title\"]] = {k:v for k,v in e.items() if k != \"title\"}\n",
        "\n",
        "    def add_relation(self, r):\n",
        "        # check on wikipedia\n",
        "        candidate_entities = [r[\"head\"], r[\"tail\"]]\n",
        "        entities = [self.get_wikipedia_data(ent) for ent in candidate_entities]\n",
        "\n",
        "        # if one entity does not exist, stop\n",
        "        if any(ent is None for ent in entities):\n",
        "            return\n",
        "\n",
        "        # manage new entities\n",
        "        for e in entities:\n",
        "            self.add_entity(e)\n",
        "\n",
        "        # rename relation entities with their wikipedia titles\n",
        "        r[\"head\"] = entities[0][\"title\"]\n",
        "        r[\"tail\"] = entities[1][\"title\"]\n",
        "\n",
        "        # manage new relation\n",
        "        if not self.exists_relation(r):\n",
        "            self.relations.append(r)\n",
        "        else:\n",
        "            self.merge_relations(r)\n",
        "\n",
        "    def print(self):\n",
        "        print(\"Entities:\")\n",
        "        for e in self.entities.items():\n",
        "            print(f\"  {e}\")\n",
        "        print(\"Relations:\")\n",
        "        for r in self.relations:\n",
        "            print(f\"  {r}\")"
      ]
    },
    {
      "cell_type": "code",
      "execution_count": 59,
      "metadata": {
        "id": "W4rd7hF_D48F"
      },
      "outputs": [],
      "source": [
        "def from_small_text_to_kb(text, verbose=False):\n",
        "    kb = KB()\n",
        "\n",
        "    # Tokenizer text\n",
        "    model_inputs = tokenizer(text, max_length=512, padding=True, truncation=True,\n",
        "                            return_tensors='pt')\n",
        "    if verbose:\n",
        "        print(f\"Num tokens: {len(model_inputs['input_ids'][0])}\")\n",
        "\n",
        "    # Generate\n",
        "    gen_kwargs = {\n",
        "        \"max_length\": 216,\n",
        "        \"length_penalty\": 0,\n",
        "        \"num_beams\": 3,\n",
        "        \"num_return_sequences\": 3\n",
        "    }\n",
        "    generated_tokens = model.generate(\n",
        "        **model_inputs,\n",
        "        **gen_kwargs,\n",
        "    )\n",
        "    decoded_preds = tokenizer.batch_decode(generated_tokens, skip_special_tokens=False)\n",
        "\n",
        "    # create kb\n",
        "    for sentence_pred in decoded_preds:\n",
        "        relations = extract_relations_from_model_output(sentence_pred)\n",
        "        for r in relations:\n",
        "            kb.add_relation(r)\n",
        "\n",
        "    return kb"
      ]
    },
    {
      "cell_type": "code",
      "execution_count": 60,
      "metadata": {
        "id": "4jTtcRPqCn8C"
      },
      "outputs": [
        {
          "name": "stdout",
          "output_type": "stream",
          "text": [
            "gazing at the star which is so far praying for the healing of my scar playing guitar which bought from bazaar sitting in my car which wished was jaguar dancing under the cedar celebrating that the memoir penned will win an oscar after which will be travelling to the lunar later realized that my day dreaming is bizarre\n",
            "Num tokens: 66\n",
            "Entities:\n",
            "Relations:\n"
          ]
        }
      ],
      "source": [
        "text = (data_json['Poem_for_model'][1])\n",
        "print(text)\n",
        "kb = from_small_text_to_kb(text, verbose=True)\n",
        "kb.print()"
      ]
    },
    {
      "cell_type": "code",
      "execution_count": 18,
      "metadata": {
        "id": "3PSELBghJR6l"
      },
      "outputs": [],
      "source": [
        "def save_network_html(kb, filename=\"network.html\"):\n",
        "    # create network\n",
        "    net = Network(directed=True, width=\"700px\", height=\"700px\", bgcolor=\"#eeeeee\")\n",
        "\n",
        "    # nodes\n",
        "    color_entity = \"#00FF00\"\n",
        "    for e in kb.entities:\n",
        "        net.add_node(e, shape=\"circle\", color=color_entity)\n",
        "\n",
        "    # edges\n",
        "    for r in kb.relations:\n",
        "        net.add_edge(r[\"head\"], r[\"tail\"],\n",
        "                    title=r[\"type\"], label=r[\"type\"])\n",
        "        \n",
        "    # save network\n",
        "    net.repulsion(\n",
        "        node_distance=200,\n",
        "        central_gravity=0.2,\n",
        "        spring_length=200,\n",
        "        spring_strength=0.05,\n",
        "        damping=0.09\n",
        "    )\n",
        "    net.set_edge_smooth('dynamic')\n",
        "    net.show(filename)"
      ]
    },
    {
      "cell_type": "code",
      "execution_count": 11,
      "metadata": {},
      "outputs": [],
      "source": [
        "import IPython"
      ]
    },
    {
      "cell_type": "code",
      "execution_count": 16,
      "metadata": {},
      "outputs": [],
      "source": [
        "import pickle\n",
        "\n",
        "def save_kb(kb, filename):\n",
        "    with open(filename, \"wb\") as f:\n",
        "        pickle.dump(kb, f)\n",
        "def load_kb(filename):\n",
        "    res = None\n",
        "    with open(filename, \"rb\") as f:\n",
        "        res = pickle.load(f)\n",
        "    return res"
      ]
    },
    {
      "cell_type": "code",
      "execution_count": 29,
      "metadata": {
        "id": "OsaVwaweJfb2"
      },
      "outputs": [
        {
          "name": "stdout",
          "output_type": "stream",
          "text": [
            "Num tokens: 50\n",
            "network_0_poem.html\n"
          ]
        },
        {
          "ename": "AttributeError",
          "evalue": "'NoneType' object has no attribute 'render'",
          "output_type": "error",
          "traceback": [
            "\u001b[0;31m---------------------------------------------------------------------------\u001b[0m",
            "\u001b[0;31mAttributeError\u001b[0m                            Traceback (most recent call last)",
            "Cell \u001b[0;32mIn[29], line 4\u001b[0m\n\u001b[1;32m      2\u001b[0m kb \u001b[39m=\u001b[39m from_small_text_to_kb(text, verbose\u001b[39m=\u001b[39m\u001b[39mTrue\u001b[39;00m)\n\u001b[1;32m      3\u001b[0m filename \u001b[39m=\u001b[39m \u001b[39m\"\u001b[39m\u001b[39mnetwork_0_poem.html\u001b[39m\u001b[39m\"\u001b[39m\n\u001b[0;32m----> 4\u001b[0m save_network_html(kb, filename\u001b[39m=\u001b[39;49mfilename)\n\u001b[1;32m      5\u001b[0m save_kb(kb, filename\u001b[39m.\u001b[39msplit(\u001b[39m\"\u001b[39m\u001b[39m.\u001b[39m\u001b[39m\"\u001b[39m)[\u001b[39m0\u001b[39m] \u001b[39m+\u001b[39m \u001b[39m\"\u001b[39m\u001b[39m.p\u001b[39m\u001b[39m\"\u001b[39m)\n\u001b[1;32m      6\u001b[0m IPython\u001b[39m.\u001b[39mdisplay\u001b[39m.\u001b[39mHTML(filename\u001b[39m=\u001b[39mfilename)\n",
            "Cell \u001b[0;32mIn[18], line 24\u001b[0m, in \u001b[0;36msave_network_html\u001b[0;34m(kb, filename)\u001b[0m\n\u001b[1;32m     16\u001b[0m net\u001b[39m.\u001b[39mrepulsion(\n\u001b[1;32m     17\u001b[0m     node_distance\u001b[39m=\u001b[39m\u001b[39m200\u001b[39m,\n\u001b[1;32m     18\u001b[0m     central_gravity\u001b[39m=\u001b[39m\u001b[39m0.2\u001b[39m,\n\u001b[0;32m   (...)\u001b[0m\n\u001b[1;32m     21\u001b[0m     damping\u001b[39m=\u001b[39m\u001b[39m0.09\u001b[39m\n\u001b[1;32m     22\u001b[0m )\n\u001b[1;32m     23\u001b[0m net\u001b[39m.\u001b[39mset_edge_smooth(\u001b[39m'\u001b[39m\u001b[39mdynamic\u001b[39m\u001b[39m'\u001b[39m)\n\u001b[0;32m---> 24\u001b[0m net\u001b[39m.\u001b[39;49mshow(filename)\n",
            "File \u001b[0;32m~/.python/current/lib/python3.8/site-packages/pyvis/network.py:546\u001b[0m, in \u001b[0;36mNetwork.show\u001b[0;34m(self, name, local, notebook)\u001b[0m\n\u001b[1;32m    544\u001b[0m \u001b[39mprint\u001b[39m(name)\n\u001b[1;32m    545\u001b[0m \u001b[39mif\u001b[39;00m notebook:\n\u001b[0;32m--> 546\u001b[0m     \u001b[39mself\u001b[39;49m\u001b[39m.\u001b[39;49mwrite_html(name, open_browser\u001b[39m=\u001b[39;49m\u001b[39mFalse\u001b[39;49;00m,notebook\u001b[39m=\u001b[39;49m\u001b[39mTrue\u001b[39;49;00m)\n\u001b[1;32m    547\u001b[0m \u001b[39melse\u001b[39;00m:\n\u001b[1;32m    548\u001b[0m     \u001b[39mself\u001b[39m\u001b[39m.\u001b[39mwrite_html(name, open_browser\u001b[39m=\u001b[39m\u001b[39mTrue\u001b[39;00m)\n",
            "File \u001b[0;32m~/.python/current/lib/python3.8/site-packages/pyvis/network.py:515\u001b[0m, in \u001b[0;36mNetwork.write_html\u001b[0;34m(self, name, local, notebook, open_browser)\u001b[0m\n\u001b[1;32m    513\u001b[0m getcwd_name \u001b[39m=\u001b[39m name\n\u001b[1;32m    514\u001b[0m check_html(getcwd_name)\n\u001b[0;32m--> 515\u001b[0m \u001b[39mself\u001b[39m\u001b[39m.\u001b[39mhtml \u001b[39m=\u001b[39m \u001b[39mself\u001b[39;49m\u001b[39m.\u001b[39;49mgenerate_html(notebook\u001b[39m=\u001b[39;49mnotebook)\n\u001b[1;32m    517\u001b[0m \u001b[39mif\u001b[39;00m \u001b[39mself\u001b[39m\u001b[39m.\u001b[39mcdn_resources \u001b[39m==\u001b[39m \u001b[39m\"\u001b[39m\u001b[39mlocal\u001b[39m\u001b[39m\"\u001b[39m:\n\u001b[1;32m    518\u001b[0m     \u001b[39mif\u001b[39;00m \u001b[39mnot\u001b[39;00m os\u001b[39m.\u001b[39mpath\u001b[39m.\u001b[39mexists(\u001b[39m\"\u001b[39m\u001b[39mlib\u001b[39m\u001b[39m\"\u001b[39m):\n",
            "File \u001b[0;32m~/.python/current/lib/python3.8/site-packages/pyvis/network.py:479\u001b[0m, in \u001b[0;36mNetwork.generate_html\u001b[0;34m(self, name, local, notebook)\u001b[0m\n\u001b[1;32m    476\u001b[0m \u001b[39melse\u001b[39;00m:\n\u001b[1;32m    477\u001b[0m     physics_enabled \u001b[39m=\u001b[39m \u001b[39mself\u001b[39m\u001b[39m.\u001b[39moptions\u001b[39m.\u001b[39mphysics\u001b[39m.\u001b[39menabled\n\u001b[0;32m--> 479\u001b[0m \u001b[39mself\u001b[39m\u001b[39m.\u001b[39mhtml \u001b[39m=\u001b[39m template\u001b[39m.\u001b[39;49mrender(height\u001b[39m=\u001b[39mheight,\n\u001b[1;32m    480\u001b[0m                             width\u001b[39m=\u001b[39mwidth,\n\u001b[1;32m    481\u001b[0m                             nodes\u001b[39m=\u001b[39mnodes,\n\u001b[1;32m    482\u001b[0m                             edges\u001b[39m=\u001b[39medges,\n\u001b[1;32m    483\u001b[0m                             heading\u001b[39m=\u001b[39mheading,\n\u001b[1;32m    484\u001b[0m                             options\u001b[39m=\u001b[39moptions,\n\u001b[1;32m    485\u001b[0m                             physics_enabled\u001b[39m=\u001b[39mphysics_enabled,\n\u001b[1;32m    486\u001b[0m                             use_DOT\u001b[39m=\u001b[39m\u001b[39mself\u001b[39m\u001b[39m.\u001b[39muse_DOT,\n\u001b[1;32m    487\u001b[0m                             dot_lang\u001b[39m=\u001b[39m\u001b[39mself\u001b[39m\u001b[39m.\u001b[39mdot_lang,\n\u001b[1;32m    488\u001b[0m                             widget\u001b[39m=\u001b[39m\u001b[39mself\u001b[39m\u001b[39m.\u001b[39mwidget,\n\u001b[1;32m    489\u001b[0m                             bgcolor\u001b[39m=\u001b[39m\u001b[39mself\u001b[39m\u001b[39m.\u001b[39mbgcolor,\n\u001b[1;32m    490\u001b[0m                             conf\u001b[39m=\u001b[39m\u001b[39mself\u001b[39m\u001b[39m.\u001b[39mconf,\n\u001b[1;32m    491\u001b[0m                             tooltip_link\u001b[39m=\u001b[39muse_link_template,\n\u001b[1;32m    492\u001b[0m                             neighborhood_highlight\u001b[39m=\u001b[39m\u001b[39mself\u001b[39m\u001b[39m.\u001b[39mneighborhood_highlight,\n\u001b[1;32m    493\u001b[0m                             select_menu\u001b[39m=\u001b[39m\u001b[39mself\u001b[39m\u001b[39m.\u001b[39mselect_menu,\n\u001b[1;32m    494\u001b[0m                             filter_menu\u001b[39m=\u001b[39m\u001b[39mself\u001b[39m\u001b[39m.\u001b[39mfilter_menu,\n\u001b[1;32m    495\u001b[0m                             notebook\u001b[39m=\u001b[39mnotebook,\n\u001b[1;32m    496\u001b[0m                             cdn_resources\u001b[39m=\u001b[39m\u001b[39mself\u001b[39m\u001b[39m.\u001b[39mcdn_resources\n\u001b[1;32m    497\u001b[0m                             )\n\u001b[1;32m    498\u001b[0m \u001b[39mreturn\u001b[39;00m \u001b[39mself\u001b[39m\u001b[39m.\u001b[39mhtml\n",
            "\u001b[0;31mAttributeError\u001b[0m: 'NoneType' object has no attribute 'render'"
          ]
        }
      ],
      "source": [
        "text = data_json['Poem_for_model'][0]\n",
        "kb = from_small_text_to_kb(text, verbose=True)\n",
        "filename = \"network_0_poem.html\"\n",
        "save_network_html(kb, filename=filename)\n",
        "save_kb(kb, filename.split(\".\")[0] + \".p\")\n",
        "IPython.display.HTML(filename=filename)"
      ]
    }
  ],
  "metadata": {
    "colab": {
      "provenance": [],
      "toc_visible": true
    },
    "kernelspec": {
      "display_name": "Python 3",
      "name": "python3"
    },
    "language_info": {
      "codemirror_mode": {
        "name": "ipython",
        "version": 3
      },
      "file_extension": ".py",
      "mimetype": "text/x-python",
      "name": "python",
      "nbconvert_exporter": "python",
      "pygments_lexer": "ipython3",
      "version": "3.8.6"
    }
  },
  "nbformat": 4,
  "nbformat_minor": 0
}
